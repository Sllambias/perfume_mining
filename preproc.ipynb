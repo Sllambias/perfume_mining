{
 "cells": [
  {
   "cell_type": "code",
   "execution_count": 1,
   "id": "398c09d0",
   "metadata": {},
   "outputs": [],
   "source": [
    "import pandas as pd "
   ]
  },
  {
   "cell_type": "code",
   "execution_count": 8,
   "id": "2bd84f1a",
   "metadata": {},
   "outputs": [],
   "source": [
    "df = pd.read_csv(\"data/noon_perfumes_dataset.csv\", index_col=0)"
   ]
  },
  {
   "cell_type": "code",
   "execution_count": 11,
   "id": "9f858ba3",
   "metadata": {},
   "outputs": [
    {
     "data": {
      "text/plain": [
       "brand                                                     PACO RABANNE\n",
       "name                                                   1 Million Lucky\n",
       "old_price                                                        395.0\n",
       "new_price                                                       244.55\n",
       "ml                                                                 100\n",
       "concentration                                                      EDT\n",
       "department                                                         Men\n",
       "scents                                                           Woody\n",
       "base_note                               Oakmoss, Patchouli and Vetiver\n",
       "middle_note           Hazelnut, Jasmine, Cashmir Wood, Cedar and Honey\n",
       "item_rating                                                        5.0\n",
       "seller                                                            noon\n",
       "seller_rating                                                      4.2\n",
       "num_seller_ratings                                               98.1K\n",
       "Name: 0, dtype: object"
      ]
     },
     "execution_count": 11,
     "metadata": {},
     "output_type": "execute_result"
    }
   ],
   "source": [
    "df.head().iloc[0]"
   ]
  },
  {
   "cell_type": "code",
   "execution_count": null,
   "id": "bd7d90c3",
   "metadata": {},
   "outputs": [],
   "source": []
  }
 ],
 "metadata": {
  "kernelspec": {
   "display_name": "Python 3 (ipykernel)",
   "language": "python",
   "name": "python3"
  },
  "language_info": {
   "codemirror_mode": {
    "name": "ipython",
    "version": 3
   },
   "file_extension": ".py",
   "mimetype": "text/x-python",
   "name": "python",
   "nbconvert_exporter": "python",
   "pygments_lexer": "ipython3",
   "version": "3.8.10"
  }
 },
 "nbformat": 4,
 "nbformat_minor": 5
}
