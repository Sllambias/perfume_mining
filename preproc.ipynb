{
 "cells": [
  {
   "cell_type": "code",
   "execution_count": 1,
   "id": "398c09d0",
   "metadata": {},
   "outputs": [],
   "source": [
    "import pandas as pd \n",
    "import matplotlib.pyplot as plt\n",
    "import re\n",
    "from symspellpy import SymSpell, Verbosity\n",
    "import numpy as np\n",
    "import gensim.downloader as api"
   ]
  },
  {
   "cell_type": "code",
   "execution_count": 2,
   "id": "2bd84f1a",
   "metadata": {},
   "outputs": [],
   "source": [
    "df_original = pd.read_csv(\"data/noon_perfumes_dataset.csv\", index_col=0)\n",
    "df = df_original.copy(deep=True)"
   ]
  },
  {
   "cell_type": "markdown",
   "id": "1c4d4e20",
   "metadata": {},
   "source": [
    "### Pre-proc"
   ]
  },
  {
   "cell_type": "code",
   "execution_count": 3,
   "id": "5330bda7",
   "metadata": {},
   "outputs": [],
   "source": [
    "#CROP IRRELEVANT COLUMNS\n",
    "irrelevant_cols = ['item_rating', 'noon','seller_rating','num_seller_ratings','']\n",
    "relevant_cols = ['brand','name','department']\n",
    "df_cropped = df.drop_duplicates(subset=relevant_cols)"
   ]
  },
  {
   "cell_type": "code",
   "execution_count": 4,
   "id": "b90ad5f3",
   "metadata": {},
   "outputs": [],
   "source": [
    "#CONVERT PRICE TO REAL MONEYS\n",
    "df.old_price = df_original.old_price*0.24\n",
    "df.new_price = df_original.new_price*0.24"
   ]
  },
  {
   "cell_type": "code",
   "execution_count": 5,
   "id": "3e5d7c9a",
   "metadata": {},
   "outputs": [],
   "source": [
    "#REMOVE THE CHILD\n",
    "df.drop(index=df[df.department == 'Kids Unisex'].index, inplace=True)"
   ]
  },
  {
   "cell_type": "code",
   "execution_count": 6,
   "id": "9ddc5198",
   "metadata": {},
   "outputs": [],
   "source": [
    "#REMOVE THE OIL\n",
    "df.drop(index=df[df.concentration == 'Oil'].index, inplace=True)"
   ]
  },
  {
   "cell_type": "code",
   "execution_count": 7,
   "id": "d99275a5",
   "metadata": {},
   "outputs": [],
   "source": [
    "#REMOVE THE PDT\n",
    "df.drop(index=df[df.concentration == 'PDT'].index, inplace=True)"
   ]
  },
  {
   "cell_type": "code",
   "execution_count": 8,
   "id": "2c805157",
   "metadata": {},
   "outputs": [],
   "source": [
    "perf_names, counts = np.unique(df.name, return_counts=True)\n",
    "counts_sorted = np.argsort(-counts)"
   ]
  },
  {
   "cell_type": "code",
   "execution_count": 9,
   "id": "df3cf644",
   "metadata": {
    "collapsed": true
   },
   "outputs": [
    {
     "data": {
      "text/plain": [
       "(array(['Eros', 'Roses Vanille', 'Homme', 'Pour Homme', 'Uomo',\n",
       "        'Encre Noire', 'Essence Pure', 'Marciano', 'Passenger', 'Beauty',\n",
       "        'Paradiso Assoluto', 'London', 'Sauvage', 'Pour Femme',\n",
       "        'Cool Water', 'Crystal Noir', 'CK One', 'One Shock', 'Legend',\n",
       "        'The One', 'Sacrifice', 'Dylan Blue', 'Just Cavalli',\n",
       "        'Petits Et Mamans', 'Burberry Body', 'Private Collection',\n",
       "        'Narciso Rodriguez', 'Guilty Absolute', '212 Sexy', 'Good Girl',\n",
       "        'Stronger With You', 'The Scent', 'Scandal', 'Bleu De Chanel',\n",
       "        \"L'Homme\", 'Florence', 'Dare', 'Love Story', 'Euphoria', 'Desire',\n",
       "        'My Burberry', 'Emblem', 'Shuhrah', 'Happy Spirit', 'Escape',\n",
       "        'The Game', 'Declaration', 'Scuderia Red', 'Musk Cologne Sp',\n",
       "        'Hot', 'Hugo', 'Boss The Scent', 'Dupont', 'Essential', 'Quatre',\n",
       "        'Cabotine', 'Eternity', 'Fantasy', 'Femme', 'First',\n",
       "        'Rouat Al Oud', 'Floral', 'Sheikh Al Shuyukh', 'Explorer',\n",
       "        'Classic Black', 'Furiosa', 'Chrome', 'Chloe', 'Still', 'Creation',\n",
       "        'Guilty', 'For Women EDP Natural Sp', 'Plus Plus Masculine',\n",
       "        'Bright Crystal', 'La Vie Est Belle', 'Lacoste',\n",
       "        'L.12.12 Blanc-Pure', 'L.12.12 Blanc', 'Ma Vie', 'Nero Assoluto',\n",
       "        'Black', 'Black Opium', 'Mr. Burberry', 'K', 'Bloom',\n",
       "        'Bloom Nettare Di Fiori', 'Paradiso Azzurro', 'Invictus',\n",
       "        'Plaisir', \"3 L'Imperatrice\", 'Xeryus Rouge', 'Nuit', 'Extreme',\n",
       "        'Oud Maaruf', 'Oud Al-Mubakhar', 'Legend Spirit', 'Open',\n",
       "        'Obsession', 'Oud Mood', 'Euphoria Intense', 'Live', 'New York',\n",
       "        'London Burberry', 'Lotus Flower Aromatic Par', 'Rouat Al Musk',\n",
       "        'Man In Red', 'Eternally Hot', 'En Joy', 'Man Pure',\n",
       "        'Eau de Lacoste L. 12.12 Noir', 'Man In Black',\n",
       "        'Nude Natural Spray Colo', 'My Burberry Bl', 'Emotion',\n",
       "        'One Million', 'Esencia', 'Lancy', 'Eau Pour Homme Reno 2013',\n",
       "        'Esencia Pour Homme', 'My Name', 'Mademoiselle Ricci', 'Magnetism',\n",
       "        'Lady Million', 'In White', 'Oud Sharqia', 'Hawaii London',\n",
       "        'Monsieur Oud', 'Premium', 'Pink Hearts', 'Modern Muse',\n",
       "        'Premier Jour', 'Pasha Edition Noir', 'Hot Water',\n",
       "        'Narciso Rodriguez For Her', 'Jaguar', 'Ideal', 'Idylle',\n",
       "        'Intenso', 'In Red', 'Place Vendome', 'Habit Rouge',\n",
       "        \"L'Instant Magic\", 'Paradiso Azzuro', 'Lady Emblem', 'Oud Touch',\n",
       "        'For Ever', 'Intense Euphoria', 'Rose Greedy', 'La Panthere',\n",
       "        'Romance', 'Girl Of Now', 'Reveal', \"L'interdit\", 'Pandora',\n",
       "        'Gold', 'Red Tobacco', 'Raindrops', 'Grey Flannel', 'Flora',\n",
       "        'Miracle', '1 Million', 'My Burberry Blush',\n",
       "        'Aqva Marine Pour Homme', 'Anfas Aloud', 'White Diamonds',\n",
       "        'The Beat', \"Terre D' Hermes\", 'Ana Abiyedh Leather',\n",
       "        'White Linen', 'Ameer Al Oud Khususi', 'CK Be', 'White Musk',\n",
       "        'Allure Homme Sport EDT For', 'Wish', 'Al Wisam Day', 'Adventure',\n",
       "        'Chrome Legend', 'Addict', 'Acqua Di Gio', 'Silver Scent',\n",
       "        'Amber Intense', 'The Dreamer', 'Burberry Body Intense', 'Brown',\n",
       "        'Versace Pour Homme', 'Beautiful', 'Ultraviolet', 'Touch Of Pink',\n",
       "        'Bloom Aqua Di Fiori', 'Blue', 'Tomorrow', 'Bamboo', 'Tommy Girl',\n",
       "        'Body', 'Body Kouros', 'Tommy', 'Visit', 'Boss', 'Viva La Juicy',\n",
       "        'The Only One 2', 'Bottled Night', 'Bottled Unlimited',\n",
       "        'Brit Rhythm Intense', 'Women', 'Classic Blue', 'Wisal',\n",
       "        'Velvet Oud', 'Declaration Essence', 'Sheer Beauty', 'jimmy',\n",
       "        'Cold', 'Zino', '212 Vip', 'Daisy Eau So Fresh', 'Desire Blue',\n",
       "        'cavalli', 'Custom', 'Sculpture Homme', 'DC', '1029 Collection',\n",
       "        'Coco Mademoiselle', 'Si', '212 VIP', 'Seductive',\n",
       "        'Si Passione EDP For Wo', '1 Million Lucky', 'Sheikh Shuyukh',\n",
       "        'Natural Spray', 'Viva La Juicy Noir', 'Nashwa', 'cavali',\n",
       "        'Narciso Rouge', 'Oud Vanille', 'giorgio', 'Paco Rabanne',\n",
       "        'Vivaldi', 'Vision III', 'Vision II', 'Victory League',\n",
       "        'Paradisio Azzuro', 'Paradiso', 'kors', 'Narciso', 'lolita',\n",
       "        'Vetiver Hombre', 'Vetiver', 'Paris Vivaldi', 'Oxygene',\n",
       "        'New York Coach Dreams', 'World Intense', 'New York Platinum',\n",
       "        'One Man Show', 'Omnia Crystalline', 'One Million Lucky',\n",
       "        'Olympêa', 'XX', 'Olympéa Intense', 'Only The Brave Tattoo',\n",
       "        'Orange EDT Sp', 'Orchidea della Cina', 'Versace', 'Windsor',\n",
       "        'Wild Leather', 'Olympea', 'Vivi La Juicy Limited Edition',\n",
       "        'Organza', 'Oud 24 Hours', 'Yellow Diamond', 'Yes I Am ED',\n",
       "        'Oud Al Misk', 'Oud Khurafi', 'Zen', 'Oud Mood Gold Elixir',\n",
       "        'Oud Noir', 'Nomade', 'Noa', 'Wood Mystique', 'Weekend', 'Wanted',\n",
       "        'Oud', 'Nice Girl', 'Schlesser Essential', 'Valentina',\n",
       "        'Sheer Beauty Essence', 'Royal Amber', 'Royal', 'Shiyoukh Al Oud',\n",
       "        'Si Fiori', 'Si Passione', 'Si Possione', 'Signorina Eleganza',\n",
       "        'Roses Musk', 'Silences', 'Roses Greedy', 'Simple', 'Rose Malaki',\n",
       "        'Splandid', 'Rose Essentielle', 'Starlight', 'Roma Uomo', 'Shalis',\n",
       "        'Starwalker', 'Royale', 'Seductive Homme', 'Scholar',\n",
       "        'Santos D Concentree', 'Santal Royal', 'Samsara', 'Safari',\n",
       "        'S.T. Dupont', 'Scuderia Black', 'Rush 2', 'Rush', 'Rumeur 2 Rose',\n",
       "        'Rumeur', 'Rumba Passion Ted Lapidus', 'Rumba', 'Secret De Rochas',\n",
       "        'Secret Obsession', 'Royale Blue', 'Seductive Blue', 'Serpentine',\n",
       "        'Pasha de Cartier', 'Rive Gauche Homme',\n",
       "        'Stronger With You Intensely', 'Pour Un Homme De Caron',\n",
       "        'Tim Tom Leather Black', 'Portraits George', 'Polo Blue',\n",
       "        'Today Tomorrow Always', 'Plus Plus Feminine', 'Sauvage Perf',\n",
       "        'Pleasures Intense', 'Pleasures', 'Play Intense', 'Tool Box',\n",
       "        'Touch', 'Pino Silvester Original',\n",
       "        'United Colors Of Benetton Hot', 'Pegasus', 'Patchouli Intense',\n",
       "        'Passenger Spray', 'The Only One', 'Stella', 'The One Royal Night',\n",
       "        'Prive', 'Remy', 'Relation', 'Super Cobra', 'Red Door', 'Red',\n",
       "        'Supreme Bouquet', 'Rare Pearls', 'Sweetheart Rockstar', 'Teenz',\n",
       "        'Rain Drops', \"Quelques Fleurs L'Original\",\n",
       "        'Quatre Absolue De Nuit', \"Terre D'Hermes\",\n",
       "        'Pure Oudi Liquid Gold', 'Pure Musc', 'The Brilliant Game',\n",
       "        'Prive Maison Sandalwood', 'Premiere', 'Tommy Hilfiger',\n",
       "        \"La Nuit De L'Homme L'Intense\", 'My Blush',\n",
       "        'Club De Nuit Milestone', 'Club De Nuit Intense Man',\n",
       "        'Club De Nuit Intense', 'Club Black', 'Classic Red',\n",
       "        'Classic Gold', 'Classic Amber', 'Classic', 'Cinema',\n",
       "        'Cheap And Chic', 'Charlie Gold', 'Coach', 'Charlie Blue',\n",
       "        'Chance Eau Tendre', 'Challenge', 'Ch Men Sports', 'Cerruti',\n",
       "        'Cedrat Boise', 'Cedar Essence', 'Casmir', 'Cabotine De Gres',\n",
       "        'CKIN2U', 'CK IN2U', 'By Marciano', 'Charli Blue', 'Brit Splash',\n",
       "        'Coco Vanille', 'Code Absolu ED', 'Eau Fraiche', 'Eau De lacoste',\n",
       "        'Eau De Moiselle', 'Eau De Lacoste', 'Eau De Cedre',\n",
       "        'EDTTouch Of Pink For Wom', 'Divina', 'Dirham', 'Dionysus',\n",
       "        'Desire Silver', 'Desire Extreme', 'Code', 'Delina Exclusive',\n",
       "        \"Declaration D'Un Soir\", 'Debut Night', 'Debut', 'De Caron',\n",
       "        'Darknet Pour Homme', 'Dark Blue', 'Dahlia Divin Nude',\n",
       "        'DC Marine Noir', 'DC Charged', 'Courageous', 'Cold Silver',\n",
       "        'Deep Red', 'Eaudemoiselle No.1154', 'Brit Sheer', 'Bottled Tonic',\n",
       "        'Atelier Intense', 'Armani Code', 'Anais Anais Loriginal',\n",
       "        'Amethyst Exquise', 'Ambre Imperial', 'Amber', 'Always',\n",
       "        'Allure Sensuelle', 'Alf Laila O Laila', 'Absolute',\n",
       "        'Above The Law', 'Aventus', '900 Herbal Spray', '5th Avenue',\n",
       "        '5Th Avenue', '24 Pure', '24 Carat Pure Gold', '212 Wild Party',\n",
       "        '212 VIP Rose', '212 S**Y', '212 Men Nyc',\n",
       "        '2.2 s..y  No.1139 Eau De Par', '1881', '1000 Miglia',\n",
       "        '8839 Collection', 'Brit Rhythm', 'Azure', 'Baiser Vole',\n",
       "        'Bottled Intense', 'Boss Orange', 'Boss Bottled Man Of Today',\n",
       "        'Body Tender', 'Body Mini ED', 'Blue Princess', 'Blue Lady',\n",
       "        'Blue Label', 'Blue Jeans', 'Blu', 'Blanc Pour Homme', 'Bad Boy',\n",
       "        'Black Xs Potion', 'Black Vanilla', 'Black Oud', 'Black Orchid',\n",
       "        'Black Opium Nuit Blanche', 'Black Car',\n",
       "        \"Because It's You by Emporio\", \"Because It's You\", 'Beach Palm',\n",
       "        'Be Delicious Red', 'Be Delicious', 'Bakhoor Al Arais', 'Black XS',\n",
       "        'My Land', \"Eclat D'arpege\", 'Emblem Absolu', 'Live Luxe',\n",
       "        'Light Blue', 'Libre', 'Leather Blend', \"Le'Parfum\",\n",
       "        'Layali CPO At', 'Lapidus Pour Homme', 'Lanvin', 'Lalique',\n",
       "        'Lady Presidente', 'Lady Emblem Elixir', 'Love Touch',\n",
       "        'Lady Dorall', 'miu miu', 'L.12.12 Rouge', \"L'instant\",\n",
       "        \"L'imperatrice 3\", \"L'eau D'issey Pour Homme\",\n",
       "        \"L'Interdit EDP For Wo\", \"L'Interdit\", \"L'Homme Sport\",\n",
       "        \"L'Homme Ideal\", \"L'Acquarossa\", \"L' Imperatrice 3\",\n",
       "        'La Nuit De L`Homme', 'Kouros Silver', 'Love Touch Body Sp',\n",
       "        'M7 Oud Absolu', 'Musky Garden', 'Musk Mood', 'Mr.Burberry',\n",
       "        'Moon Light', 'Mont Blanc Legend', 'Monsieur Intense Gold',\n",
       "        'Monsieur Coco Vanilla', 'Mon Florale', 'Mon Bloom Of Rose',\n",
       "        'Momentum Intense', 'Molto Carina', 'Love You Like Crazy',\n",
       "        'Modern Princess', 'Modern Muse Chic', 'Mini Collection No.1075',\n",
       "        'Million', \"Milano Infusion D'iris\",\n",
       "        \"Memoire  D'une Odeur EDP For Uni\", 'Marbert Man', 'Manifesto',\n",
       "        'Man in Black', 'Man Ice', 'Man', \"Magie Noire L'eau\",\n",
       "        'Modern Muse Nuit', 'Edition', 'Knowing', 'Kalam Al Oud',\n",
       "        'Green Secret', 'Golden Blaze', 'Goldea The Roman Night Absolute',\n",
       "        'Goldea The Roman Night', 'Goldea', 'Gold Secret', 'Go',\n",
       "        'Girl of Now Shine', 'Gentlemen Only', 'Genesis Oud Malaki',\n",
       "        'Gabrielle', 'Green Tea', 'Frank Olivier', 'Florence Amber',\n",
       "        'Flora Gorgeous Gardenia', 'Flora Gardenia', 'Fairy Dust', 'Evoke',\n",
       "        'Eventful', 'Euphoria Amber Gold', 'Especially Elixir', 'Epic',\n",
       "        'Emblem Intense', 'Emblem ED', 'Forever', 'Khalis Pure Oudi',\n",
       "        'Grey Flannel For Men', 'Guess Pink', 'Just Different',\n",
       "        'Joy Of Pink', 'Joy', 'Jil Sander', \"Jeu D'Amour L'elixir\",\n",
       "        'Islanders', 'Invictus Intense', 'Interlude', 'Intense',\n",
       "        'Idôle ED', 'Idol', 'Guess', 'IN 2 U MEN', 'Hugo Man', 'Hugo Boss',\n",
       "        'Hot Gold', 'Honour', 'Heiress', 'Hawaiian Musk', 'Hatem',\n",
       "        'Happy Spirit Forever', 'Guilty Pour Homme', 'Guilty Intense',\n",
       "        'Guilty Black', 'ICQ', 'play around'], dtype=object),\n",
       " array([8, 8, 8, 8, 8, 7, 7, 7, 6, 6, 6, 6, 6, 5, 5, 5, 5, 5, 5, 5, 5, 5,\n",
       "        4, 4, 4, 4, 4, 4, 4, 4, 4, 4, 4, 4, 4, 4, 4, 4, 4, 4, 4, 4, 3, 3,\n",
       "        3, 3, 3, 3, 3, 3, 3, 3, 3, 3, 3, 3, 3, 3, 3, 3, 3, 3, 3, 3, 3, 3,\n",
       "        3, 3, 3, 3, 3, 3, 3, 3, 3, 3, 3, 3, 3, 3, 3, 3, 3, 3, 3, 3, 3, 3,\n",
       "        3, 3, 3, 2, 2, 2, 2, 2, 2, 2, 2, 2, 2, 2, 2, 2, 2, 2, 2, 2, 2, 2,\n",
       "        2, 2, 2, 2, 2, 2, 2, 2, 2, 2, 2, 2, 2, 2, 2, 2, 2, 2, 2, 2, 2, 2,\n",
       "        2, 2, 2, 2, 2, 2, 2, 2, 2, 2, 2, 2, 2, 2, 2, 2, 2, 2, 2, 2, 2, 2,\n",
       "        2, 2, 2, 2, 2, 2, 2, 2, 2, 2, 2, 2, 2, 2, 2, 2, 2, 2, 2, 2, 2, 2,\n",
       "        2, 2, 2, 2, 2, 2, 2, 2, 2, 2, 2, 2, 2, 2, 2, 2, 2, 2, 2, 2, 2, 2,\n",
       "        2, 2, 2, 2, 2, 2, 2, 2, 2, 2, 2, 2, 2, 2, 2, 2, 2, 2, 2, 2, 2, 2,\n",
       "        2, 2, 2, 2, 2, 2, 2, 1, 1, 1, 1, 1, 1, 1, 1, 1, 1, 1, 1, 1, 1, 1,\n",
       "        1, 1, 1, 1, 1, 1, 1, 1, 1, 1, 1, 1, 1, 1, 1, 1, 1, 1, 1, 1, 1, 1,\n",
       "        1, 1, 1, 1, 1, 1, 1, 1, 1, 1, 1, 1, 1, 1, 1, 1, 1, 1, 1, 1, 1, 1,\n",
       "        1, 1, 1, 1, 1, 1, 1, 1, 1, 1, 1, 1, 1, 1, 1, 1, 1, 1, 1, 1, 1, 1,\n",
       "        1, 1, 1, 1, 1, 1, 1, 1, 1, 1, 1, 1, 1, 1, 1, 1, 1, 1, 1, 1, 1, 1,\n",
       "        1, 1, 1, 1, 1, 1, 1, 1, 1, 1, 1, 1, 1, 1, 1, 1, 1, 1, 1, 1, 1, 1,\n",
       "        1, 1, 1, 1, 1, 1, 1, 1, 1, 1, 1, 1, 1, 1, 1, 1, 1, 1, 1, 1, 1, 1,\n",
       "        1, 1, 1, 1, 1, 1, 1, 1, 1, 1, 1, 1, 1, 1, 1, 1, 1, 1, 1, 1, 1, 1,\n",
       "        1, 1, 1, 1, 1, 1, 1, 1, 1, 1, 1, 1, 1, 1, 1, 1, 1, 1, 1, 1, 1, 1,\n",
       "        1, 1, 1, 1, 1, 1, 1, 1, 1, 1, 1, 1, 1, 1, 1, 1, 1, 1, 1, 1, 1, 1,\n",
       "        1, 1, 1, 1, 1, 1, 1, 1, 1, 1, 1, 1, 1, 1, 1, 1, 1, 1, 1, 1, 1, 1,\n",
       "        1, 1, 1, 1, 1, 1, 1, 1, 1, 1, 1, 1, 1, 1, 1, 1, 1, 1, 1, 1, 1, 1,\n",
       "        1, 1, 1, 1, 1, 1, 1, 1, 1, 1, 1, 1, 1, 1, 1, 1, 1, 1, 1, 1, 1, 1,\n",
       "        1, 1, 1, 1, 1, 1, 1, 1, 1, 1, 1, 1, 1, 1, 1, 1, 1, 1, 1, 1, 1, 1,\n",
       "        1, 1, 1, 1, 1, 1, 1, 1, 1, 1, 1, 1, 1, 1, 1, 1, 1, 1, 1, 1, 1, 1,\n",
       "        1, 1, 1, 1, 1, 1, 1, 1, 1, 1, 1, 1, 1, 1, 1, 1, 1, 1, 1, 1, 1, 1,\n",
       "        1, 1, 1, 1, 1, 1, 1, 1, 1, 1, 1, 1, 1, 1, 1, 1, 1]))"
      ]
     },
     "execution_count": 9,
     "metadata": {},
     "output_type": "execute_result"
    }
   ],
   "source": [
    "perf_names[counts_sorted], counts[counts_sorted]"
   ]
  },
  {
   "cell_type": "code",
   "execution_count": 10,
   "id": "c04dc97e",
   "metadata": {},
   "outputs": [],
   "source": [
    "test = df.drop_duplicates()"
   ]
  },
  {
   "cell_type": "code",
   "execution_count": 11,
   "id": "3c10ae85",
   "metadata": {},
   "outputs": [],
   "source": [
    "old_prices = df.old_price\n",
    "new_prices = df.new_price\n",
    "ml = df.ml"
   ]
  },
  {
   "cell_type": "code",
   "execution_count": 12,
   "id": "f8099b67",
   "metadata": {},
   "outputs": [
    {
     "data": {
      "image/png": "[encoded data removed]",
      "text/plain": [
       "<Figure size 1080x360 with 3 Axes>"
      ]
     },
     "metadata": {
      "needs_background": "light"
     },
     "output_type": "display_data"
    }
   ],
   "source": [
    "fig, ax = plt.subplots(1, 3, figsize=(15, 5))\n",
    "ax[0].hist(x=new_prices/ml); ax[1].hist(x=old_prices/ml); ax[2].hist(df.item_rating, bins=20);"
   ]
  },
  {
   "cell_type": "code",
   "execution_count": 13,
   "id": "75e6626e",
   "metadata": {},
   "outputs": [],
   "source": [
    "notes = df[['base_note', 'middle_note']].values"
   ]
  },
  {
   "cell_type": "code",
   "execution_count": 14,
   "id": "746d5b49",
   "metadata": {},
   "outputs": [],
   "source": [
    "def text_clean(text_array):\n",
    "    text_list = []\n",
    "    for text_pair in text_array:\n",
    "        text = \", \".join(text_pair).lower().replace(\" and\", \",\") #join base_note and middle_note strings, lowercase everything and replace \"and\" with a comma\n",
    "        text = re.sub(r\"\\b\\s\\b|\\b\\,\\b\", \", \", text)\n",
    "        text = re.sub(r\"\\B\\,|of |the |-\", \"\", text)\n",
    "        text_list.append(text)\n",
    "        #text_list.append(text.split(\", \")) #split at commas (this way we preserve notes desribed by > 1 word)\n",
    "    return text_list"
   ]
  },
  {
   "cell_type": "code",
   "execution_count": 15,
   "id": "86ae6d84",
   "metadata": {},
   "outputs": [
    {
     "data": {
      "text/plain": [
       "True"
      ]
     },
     "execution_count": 15,
     "metadata": {},
     "output_type": "execute_result"
    }
   ],
   "source": [
    "sent_dic = text_clean(notes)\n",
    "sym_spell = SymSpell(max_dictionary_edit_distance=2, count_threshold=5)\n",
    "sym_spell.create_dictionary(sent_dic)\n",
    "#suggestions = sym_spell.lookup_compound(\", \".join(sent_dic).replace(\",\", \"\"), max_edit_distance=2)"
   ]
  },
  {
   "cell_type": "code",
   "execution_count": 16,
   "id": "931943e9",
   "metadata": {},
   "outputs": [],
   "source": [
    "sent_dic_autocorrected = []\n",
    "for sent in sent_dic:\n",
    "    s = str()\n",
    "    for word in sent.split(\", \"):\n",
    "        suggestions = sym_spell.lookup(word, verbosity=Verbosity.ALL, max_edit_distance=2)\n",
    "        if suggestions:\n",
    "            word = suggestions[np.argmax([sug.count for sug in suggestions])].term\n",
    "        s += word+\" \"\n",
    "    sent_dic_autocorrected.append(s)\n"
   ]
  },
  {
   "cell_type": "code",
   "execution_count": 17,
   "id": "4a67318c",
   "metadata": {},
   "outputs": [],
   "source": [
    "wv = api.load('glove-wiki-gigaword-300')\n"
   ]
  },
  {
   "cell_type": "code",
   "execution_count": 18,
   "id": "2b1d909f",
   "metadata": {},
   "outputs": [],
   "source": [
    "sents_vectorized = []\n",
    "for sent in sent_dic_autocorrected:\n",
    "    sent_vectorized = []\n",
    "    word_count = 0\n",
    "    for word in sent.split():\n",
    "        if word in wv:\n",
    "            if word_count == 0:\n",
    "                vector = wv.get_vector(word)\n",
    "            else:\n",
    "                np.add(vector, wv.get_vector(word))\n",
    "            word_count += 1\n",
    "        else:\n",
    "            continue\n",
    "    sents_vectorized.append(vector/(word_count+1))\n",
    "    "
   ]
  },
  {
   "cell_type": "code",
   "execution_count": 45,
   "id": "d17da69e",
   "metadata": {},
   "outputs": [],
   "source": [
    "from sklearn.decomposition import PCA\n",
    "from sklearn.manifold import TSNE                  \n",
    "from sklearn.manifold import MDS\n",
    "embedding = MDS(n_components=2)\n",
    "\n",
    "pca = PCA(n_components=2)"
   ]
  },
  {
   "cell_type": "code",
   "execution_count": 49,
   "id": "799232d6",
   "metadata": {},
   "outputs": [],
   "source": [
    "scaled_sents = pca.fit_transform(sents_vectorized)\n",
    "mds_sents = embedding.fit_transform(np.array(sents_vectorized).astype(np.float64))\n"
   ]
  },
  {
   "cell_type": "code",
   "execution_count": 43,
   "id": "e08f0d47",
   "metadata": {},
   "outputs": [],
   "source": [
    "from sklearn.preprocessing import LabelEncoder\n",
    "mlb = LabelEncoder()\n",
    "scent_labels = mlb.fit_transform(df.scents)"
   ]
  },
  {
   "cell_type": "code",
   "execution_count": 50,
   "id": "9fad6d8c",
   "metadata": {},
   "outputs": [
    {
     "data": {
      "text/plain": [
       "<matplotlib.collections.PathCollection at 0x7fa5987515e0>"
      ]
     },
     "execution_count": 50,
     "metadata": {},
     "output_type": "execute_result"
    },
    {
     "data": {
      "image/png": "[encoded data removed]",
      "text/plain": [
       "<Figure size 432x288 with 1 Axes>"
      ]
     },
     "metadata": {
      "needs_background": "light"
     },
     "output_type": "display_data"
    }
   ],
   "source": [
    "plt.scatter(mds_sents[:,0], mds_sents[:,1], c=scent_labels)"
   ]
  },
  {
   "cell_type": "code",
   "execution_count": 29,
   "id": "e0c24af8",
   "metadata": {},
   "outputs": [
    {
     "data": {
      "text/html": [
       "<div>\n",
       "<style scoped>\n",
       "    .dataframe tbody tr th:only-of-type {\n",
       "        vertical-align: middle;\n",
       "    }\n",
       "\n",
       "    .dataframe tbody tr th {\n",
       "        vertical-align: top;\n",
       "    }\n",
       "\n",
       "    .dataframe thead th {\n",
       "        text-align: right;\n",
       "    }\n",
       "</style>\n",
       "<table border=\"1\" class=\"dataframe\">\n",
       "  <thead>\n",
       "    <tr style=\"text-align: right;\">\n",
       "      <th></th>\n",
       "      <th>brand</th>\n",
       "      <th>name</th>\n",
       "      <th>old_price</th>\n",
       "      <th>new_price</th>\n",
       "      <th>ml</th>\n",
       "      <th>concentration</th>\n",
       "      <th>department</th>\n",
       "      <th>scents</th>\n",
       "      <th>base_note</th>\n",
       "      <th>middle_note</th>\n",
       "      <th>item_rating</th>\n",
       "      <th>seller</th>\n",
       "      <th>seller_rating</th>\n",
       "      <th>num_seller_ratings</th>\n",
       "    </tr>\n",
       "  </thead>\n",
       "  <tbody>\n",
       "    <tr>\n",
       "      <th>0</th>\n",
       "      <td>PACO RABANNE</td>\n",
       "      <td>1 Million Lucky</td>\n",
       "      <td>94.8</td>\n",
       "      <td>58.692</td>\n",
       "      <td>100</td>\n",
       "      <td>EDT</td>\n",
       "      <td>Men</td>\n",
       "      <td>Woody</td>\n",
       "      <td>Oakmoss, Patchouli and Vetiver</td>\n",
       "      <td>Hazelnut, Jasmine, Cashmir Wood, Cedar and Honey</td>\n",
       "      <td>5.0</td>\n",
       "      <td>noon</td>\n",
       "      <td>4.2</td>\n",
       "      <td>98.1K</td>\n",
       "    </tr>\n",
       "    <tr>\n",
       "      <th>1</th>\n",
       "      <td>Roberto Cavalli</td>\n",
       "      <td>Paradiso Assoluto</td>\n",
       "      <td>99.6</td>\n",
       "      <td>25.908</td>\n",
       "      <td>50</td>\n",
       "      <td>EDP</td>\n",
       "      <td>Women</td>\n",
       "      <td>Floral</td>\n",
       "      <td>Vanilla, Sandalwood And Patchouli</td>\n",
       "      <td>Wild Jasmine and Red Lily</td>\n",
       "      <td>4.8</td>\n",
       "      <td>noon</td>\n",
       "      <td>4.2</td>\n",
       "      <td>98.1K</td>\n",
       "    </tr>\n",
       "    <tr>\n",
       "      <th>2</th>\n",
       "      <td>S.T.Dupont</td>\n",
       "      <td>Royal Amber</td>\n",
       "      <td>63.6</td>\n",
       "      <td>44.856</td>\n",
       "      <td>100</td>\n",
       "      <td>EDP</td>\n",
       "      <td>Unisex</td>\n",
       "      <td>Arabian</td>\n",
       "      <td>Lemon, Mint and Wood Moss</td>\n",
       "      <td>Sandalwood and Cedar</td>\n",
       "      <td>5.0</td>\n",
       "      <td>noon</td>\n",
       "      <td>4.2</td>\n",
       "      <td>98.1K</td>\n",
       "    </tr>\n",
       "    <tr>\n",
       "      <th>3</th>\n",
       "      <td>GUESS</td>\n",
       "      <td>Seductive Blue</td>\n",
       "      <td>69.6</td>\n",
       "      <td>24.768</td>\n",
       "      <td>100</td>\n",
       "      <td>EDT</td>\n",
       "      <td>Men</td>\n",
       "      <td>Spicy</td>\n",
       "      <td>Cashmere Wood, Moss And Rippled Sand Accord</td>\n",
       "      <td>Blue Coral Aquaspace Accord And Geranium</td>\n",
       "      <td>3.0</td>\n",
       "      <td>noon</td>\n",
       "      <td>4.2</td>\n",
       "      <td>98.1K</td>\n",
       "    </tr>\n",
       "    <tr>\n",
       "      <th>4</th>\n",
       "      <td>Roberto Cavalli</td>\n",
       "      <td>Uomo</td>\n",
       "      <td>62.4</td>\n",
       "      <td>22.788</td>\n",
       "      <td>50</td>\n",
       "      <td>EDP</td>\n",
       "      <td>Women</td>\n",
       "      <td>Arabian</td>\n",
       "      <td>Vanille, Benzoin, Tonka Bean</td>\n",
       "      <td>African Orange Flower</td>\n",
       "      <td>4.8</td>\n",
       "      <td>noon</td>\n",
       "      <td>4.2</td>\n",
       "      <td>98.1K</td>\n",
       "    </tr>\n",
       "  </tbody>\n",
       "</table>\n",
       "</div>"
      ],
      "text/plain": [
       "             brand               name  old_price  new_price   ml  \\\n",
       "0     PACO RABANNE    1 Million Lucky       94.8     58.692  100   \n",
       "1  Roberto Cavalli  Paradiso Assoluto       99.6     25.908   50   \n",
       "2       S.T.Dupont        Royal Amber       63.6     44.856  100   \n",
       "3            GUESS     Seductive Blue       69.6     24.768  100   \n",
       "4  Roberto Cavalli               Uomo       62.4     22.788   50   \n",
       "\n",
       "  concentration department   scents  \\\n",
       "0           EDT        Men    Woody   \n",
       "1           EDP      Women   Floral   \n",
       "2           EDP     Unisex  Arabian   \n",
       "3           EDT        Men    Spicy   \n",
       "4           EDP      Women  Arabian   \n",
       "\n",
       "                                     base_note  \\\n",
       "0               Oakmoss, Patchouli and Vetiver   \n",
       "1            Vanilla, Sandalwood And Patchouli   \n",
       "2                    Lemon, Mint and Wood Moss   \n",
       "3  Cashmere Wood, Moss And Rippled Sand Accord   \n",
       "4                 Vanille, Benzoin, Tonka Bean   \n",
       "\n",
       "                                        middle_note  item_rating seller  \\\n",
       "0  Hazelnut, Jasmine, Cashmir Wood, Cedar and Honey          5.0   noon   \n",
       "1                         Wild Jasmine and Red Lily          4.8   noon   \n",
       "2                              Sandalwood and Cedar          5.0   noon   \n",
       "3          Blue Coral Aquaspace Accord And Geranium          3.0   noon   \n",
       "4                             African Orange Flower          4.8   noon   \n",
       "\n",
       "   seller_rating num_seller_ratings  \n",
       "0            4.2              98.1K  \n",
       "1            4.2              98.1K  \n",
       "2            4.2              98.1K  \n",
       "3            4.2              98.1K  \n",
       "4            4.2              98.1K  "
      ]
     },
     "execution_count": 29,
     "metadata": {},
     "output_type": "execute_result"
    }
   ],
   "source": [
    "df.head()"
   ]
  },
  {
   "cell_type": "code",
   "execution_count": null,
   "id": "bbba8ac9",
   "metadata": {},
   "outputs": [],
   "source": []
  }
 ],
 "metadata": {
  "kernelspec": {
   "display_name": "Python 3 (ipykernel)",
   "language": "python",
   "name": "python3"
  },
  "language_info": {
   "codemirror_mode": {
    "name": "ipython",
    "version": 3
   },
   "file_extension": ".py",
   "mimetype": "text/x-python",
   "name": "python",
   "nbconvert_exporter": "python",
   "pygments_lexer": "ipython3",
   "version": "3.8.12"
  }
 },
 "nbformat": 4,
 "nbformat_minor": 5
}
