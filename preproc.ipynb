{
 "cells": [
  {
   "cell_type": "code",
   "execution_count": 1,
   "id": "398c09d0",
   "metadata": {},
   "outputs": [],
   "source": [
    "import pandas as pd \n",
    "import matplotlib.pyplot as plt\n",
    "import re\n",
    "from symspellpy import SymSpell, Verbosity\n",
    "import numpy as np\n",
    "import gensim.downloader as api\n",
    "from sklearn.feature_extraction.text import CountVectorizer\n",
    "\n",
    "from sklearn.cluster import KMeans\n",
    "from sklearn.preprocessing import StandardScaler, normalize, LabelEncoder\n",
    "from sklearn.decomposition import PCA\n",
    "from sklearn import model_selection\n",
    "\n",
    "from yellowbrick.cluster import KElbowVisualizer\n",
    "from kmodes.kmodes import KModes\n"
   ]
  },
  {
   "cell_type": "code",
   "execution_count": 286,
   "id": "f44136d1",
   "metadata": {},
   "outputs": [],
   "source": [
    "from nltk.stem import SnowballStemmer #more info here: https://www.geeksforgeeks.org/snowball-stemmer-nlp/\n",
    "\n",
    "stemmer = SnowballStemmer('english')\n",
    "\n",
    "def replace(t): #Function for catching what the stemmer misses to further reduce the number of categories (so far only for optimized for base notes) \n",
    "\n",
    "    if \"amber\" in t:\n",
    "        t = \"amber\"\n",
    "    if \"cash\" in t:\n",
    "        t = \"cashmere\"\n",
    "    if \"flo\" in t:\n",
    "        t = \"floral\"\n",
    "    if \"ced\" in t:\n",
    "        t = \"cedar\"\n",
    "    if \"mu\" in t:\n",
    "        t = \"musk\"\n",
    "    if \"leather\" in t:\n",
    "        t = \"leather\"\n",
    "    if \"lil\" in t:\n",
    "        t = \"lily\"\n",
    "    if \"lacton\" in t:\n",
    "        t = \"lacton\"\n",
    "    if \"labda\" in t:\n",
    "        t = \"labdanum\"\n",
    "    if \"patch\" in t:\n",
    "        t = \"patchouli\"\n",
    "    if \"vanil\" in t:\n",
    "        t = \"vanilla\"\n",
    "    if \"oud\" in t:\n",
    "        t = \"oud\"\n",
    "    if \"oliv\" in t:\n",
    "        t = \"olive\"\n",
    "    if \"sand\" in t:\n",
    "        t = \"sandalwood\"\n",
    "    if \"wood\" in t[:4]:\n",
    "        t = \"wood\"\n",
    "#    elif \"wood\" in t:\n",
    "#        t = \"wood\"\n",
    "\n",
    "    return t\n",
    "            \n",
    "\n",
    "class StemmedCountVectorizer(CountVectorizer): #Builds ontop of sklearn:s CountVectorizer, documentation here: https://scikit-learn.org/stable/modules/generated/sklearn.feature_extraction.text.CountVectorizer.html\n",
    "    \n",
    "     def build_analyzer(self):\n",
    "        analyzer = super(StemmedCountVectorizer, self).build_analyzer()\n",
    "        return lambda doc: ([stemmer.stem(replace(w)) for w in analyzer(doc)]) \n",
    "    \n",
    "#    def build_tokenizer(self):\n",
    "#        tokenize = super().build_tokenizer()\n",
    "#        return lambda doc: list(replace(tokenize(doc)))\n",
    "\n"
   ]
  },
  {
   "cell_type": "code",
   "execution_count": 425,
   "id": "2bd84f1a",
   "metadata": {},
   "outputs": [],
   "source": [
    "scaler = StandardScaler()\n",
    "mlb = LabelEncoder()\n",
    "pca = PCA(n_components=2)\n",
    "\n",
    "df_original = pd.read_csv(\"data/noon_perfumes_dataset.csv\", index_col=0)\n",
    "df = df_original.copy(deep=True)"
   ]
  },
  {
   "cell_type": "markdown",
   "id": "1c4d4e20",
   "metadata": {},
   "source": [
    "### Pre-proc"
   ]
  },
  {
   "cell_type": "code",
   "execution_count": 274,
   "id": "5330bda7",
   "metadata": {},
   "outputs": [],
   "source": [
    "#CROP IRRELEVANT COLUMNS\n",
    "irrelevant_cols = ['item_rating', 'noon','seller_rating','num_seller_ratings','']\n",
    "relevant_cols = ['brand','name','department']\n",
    "df_cropped = df.drop_duplicates(subset=relevant_cols)"
   ]
  },
  {
   "cell_type": "code",
   "execution_count": 275,
   "id": "b90ad5f3",
   "metadata": {},
   "outputs": [],
   "source": [
    "#CONVERT PRICE TO REAL MONEYS\n",
    "df.old_price = df_original.old_price*0.24\n",
    "df.new_price = df_original.new_price*0.24"
   ]
  },
  {
   "cell_type": "code",
   "execution_count": 276,
   "id": "3e5d7c9a",
   "metadata": {},
   "outputs": [],
   "source": [
    "#REMOVE THE CHILD\n",
    "df.drop(index=df[df.department == 'Kids Unisex'].index, inplace=True)"
   ]
  },
  {
   "cell_type": "code",
   "execution_count": 277,
   "id": "9ddc5198",
   "metadata": {},
   "outputs": [],
   "source": [
    "#REMOVE THE OIL\n",
    "df.drop(index=df[df.concentration == 'Oil'].index, inplace=True)"
   ]
  },
  {
   "cell_type": "code",
   "execution_count": 278,
   "id": "d99275a5",
   "metadata": {},
   "outputs": [],
   "source": [
    "#REMOVE THE PDT\n",
    "df.drop(index=df[df.concentration == 'PDT'].index, inplace=True)"
   ]
  },
  {
   "cell_type": "code",
   "execution_count": 294,
   "id": "75e6626e",
   "metadata": {},
   "outputs": [],
   "source": [
    "notes = df[['base_note', 'middle_note']].values\n",
    "base = df['base_note'].values\n",
    "scents_clean = df['scents'].apply(lambda y: y.lower()).values"
   ]
  },
  {
   "cell_type": "code",
   "execution_count": 295,
   "id": "746d5b49",
   "metadata": {},
   "outputs": [],
   "source": [
    "def text_clean(text_array):\n",
    "    text_list = []\n",
    "    for text_pair in text_array:\n",
    "        pair = []\n",
    "        for text in text_pair:\n",
    "            text = text.lower().replace(\" and\", \",\") #join base_note and middle_note strings, lowercase everything and replace \"and\" with a comma\n",
    "            text = re.sub(r\"\\b\\,\\b\", \", \", text)\n",
    "            text = re.sub(r\"\\b\\,|\\B\\,|-\", \"\", text)\n",
    "            pair.append(text)\n",
    "        text_list.append((\" \").join(pair))\n",
    "    return text_list"
   ]
  },
  {
   "cell_type": "code",
   "execution_count": 296,
   "id": "98a449a3",
   "metadata": {},
   "outputs": [],
   "source": [
    "notes_clean = text_clean(notes)\n",
    "base_clean = text_clean(base)"
   ]
  },
  {
   "cell_type": "code",
   "execution_count": 282,
   "id": "96813d4c",
   "metadata": {},
   "outputs": [
    {
     "name": "stderr",
     "output_type": "stream",
     "text": [
      "C:\\Users\\Sebastian\\anaconda3\\lib\\site-packages\\pandas\\core\\generic.py:5516: SettingWithCopyWarning: \n",
      "A value is trying to be set on a copy of a slice from a DataFrame.\n",
      "Try using .loc[row_indexer,col_indexer] = value instead\n",
      "\n",
      "See the caveats in the documentation: https://pandas.pydata.org/pandas-docs/stable/user_guide/indexing.html#returning-a-view-versus-a-copy\n",
      "  self[name] = value\n"
     ]
    }
   ],
   "source": [
    "df_not_noon = pd.read_csv(\"data/perfume.csv\", sep=\",\")\n",
    "df_not_noon = df_not_noon[(df_not_noon.votes > 100)]\n",
    "all_long = np.array(df_not_noon[['longevity_poor', 'longevity_weak', 'longevity_moderate','longevity_long', 'longevity_very_long']])\n",
    "df_not_noon = df_not_noon[(sum(all_long.T) > 3)]\n",
    "\n",
    "longevity = np.array(df_not_noon[['longevity_poor', 'longevity_weak', 'longevity_moderate','longevity_long', 'longevity_very_long']])\n",
    "date = df_not_noon.date\n",
    "\n",
    "mddf = df_not_noon[['rating_score','date', 'votes','gender','longevity_poor', 'longevity_weak', 'longevity_moderate','longevity_long', 'longevity_very_long']]\n",
    "mddf.gender = mlb.fit_transform(mddf.gender)\n"
   ]
  },
  {
   "cell_type": "markdown",
   "id": "9ee35284",
   "metadata": {},
   "source": [
    "### Kmodes on Daniels code\n"
   ]
  },
  {
   "cell_type": "code",
   "execution_count": 450,
   "id": "5d81df61",
   "metadata": {},
   "outputs": [],
   "source": [
    "df = df[(df[\"department\"] != \"Kids Unisex\")] #We remove kids unisex because it has only one datapoint\n",
    "df.drop(index=df[df.concentration == 'PDT'].index, inplace=True)\n",
    "df.drop(index=df[df.concentration == 'Oil'].index, inplace=True)\n",
    "#Labels\n",
    "gender = df[\"department\"].apply(lambda y: 'Men' if y == 'Unisex' else y)\n",
    "#Features\n",
    "base_note = df[\"base_note\"].values\n",
    "middle_note = df[\"middle_note\"].values\n",
    "scents = df[\"scents\"].values"
   ]
  },
  {
   "cell_type": "code",
   "execution_count": 452,
   "id": "6d6fa4b5",
   "metadata": {
    "scrolled": true
   },
   "outputs": [
    {
     "data": {
      "text/plain": [
       "(997, 359)"
      ]
     },
     "execution_count": 452,
     "metadata": {},
     "output_type": "execute_result"
    }
   ],
   "source": [
    "vect_base = StemmedCountVectorizer(stop_words = ['note', 'notes', 'and', 'with', 'of', 'by', 'ectract', 'co', 'essence', 'masculine']) #vectorizer for base notes\n",
    "vect_middle = StemmedCountVectorizer(stop_words = ['note', 'notes', 'and', 'with', 'of', 'by', 'ectract', 'co', 'essence', 'masculine']) #vectorizer for middle notes\n",
    "vect_scents = StemmedCountVectorizer(stop_words = ['and']) #vectorizer for scents\n",
    "\n",
    "X1 = vect_base.fit_transform(base_note)#Base notes, 902 x 283 binary matrix – 1 for present, 0 for absent for each perfume\n",
    "X2 = vect_middle.fit_transform(middle_note) #Middle notes, 902 x 412 binary matrix\n",
    "X3 = vect_scents.fit_transform(scents)#Scents, 902 x 16 binary matrix\n",
    "\n",
    "vecnotes = StemmedCountVectorizer(min_df=2,stop_words=['note', 'notes', 'and', 'with', 'of', 'by', 'ectract', 'co', 'essence', 'masculine'])\n",
    "vecscents = StemmedCountVectorizer(stop_words=['note', 'notes', 'and', 'with', 'of', 'by', 'ectract', 'co', 'essence', 'masculine'])\n",
    "\n",
    "X4 = vecnotes.fit_transform(notes_clean)\n",
    "X5 = vecscents.fit_transform(scents_clean)\n",
    "X6 = np.hstack((X4.todense(), X5.todense()))\n",
    "X6.shape"
   ]
  },
  {
   "cell_type": "code",
   "execution_count": 373,
   "id": "0536e7af",
   "metadata": {
    "collapsed": true
   },
   "outputs": [
    {
     "data": {
      "text/plain": [
       "['absolut',\n",
       " 'accord',\n",
       " 'african',\n",
       " 'agarwood',\n",
       " 'akigalawood',\n",
       " 'aldehyd',\n",
       " 'allianc',\n",
       " 'almond',\n",
       " 'amarylli',\n",
       " 'amber',\n",
       " 'ambregri',\n",
       " 'ambroxan',\n",
       " 'american',\n",
       " 'an',\n",
       " 'animalist',\n",
       " 'anis',\n",
       " 'appl',\n",
       " 'apricot',\n",
       " 'aroma',\n",
       " 'aromat',\n",
       " 'atlas',\n",
       " 'australian',\n",
       " 'balsam',\n",
       " 'bamboo',\n",
       " 'basil',\n",
       " 'bean',\n",
       " 'beeswax',\n",
       " 'benzoin',\n",
       " 'bergamot',\n",
       " 'berri',\n",
       " 'birch',\n",
       " 'black',\n",
       " 'blackberri',\n",
       " 'blackcurr',\n",
       " 'blond',\n",
       " 'blood',\n",
       " 'blossom',\n",
       " 'blue',\n",
       " 'bluebel',\n",
       " 'bourbon',\n",
       " 'bran',\n",
       " 'brazilian',\n",
       " 'bulgarian',\n",
       " 'burnt',\n",
       " 'butterfli',\n",
       " 'cacao',\n",
       " 'cactus',\n",
       " 'candi',\n",
       " 'caramel',\n",
       " 'caraway',\n",
       " 'cardamom',\n",
       " 'carnat',\n",
       " 'carrot',\n",
       " 'casablanca',\n",
       " 'cashmer',\n",
       " 'cassi',\n",
       " 'cassia',\n",
       " 'cedar',\n",
       " 'centifolia',\n",
       " 'ceylon',\n",
       " 'chamomil',\n",
       " 'champaca',\n",
       " 'charact',\n",
       " 'cheroke',\n",
       " 'cherri',\n",
       " 'chestnut',\n",
       " 'chill',\n",
       " 'chines',\n",
       " 'chocol',\n",
       " 'cinnamon',\n",
       " 'cistus',\n",
       " 'citric',\n",
       " 'citrus',\n",
       " 'civet',\n",
       " 'clari',\n",
       " 'clean',\n",
       " 'clementin',\n",
       " 'clove',\n",
       " 'cocoa',\n",
       " 'coconut',\n",
       " 'coffe',\n",
       " 'coral',\n",
       " 'coriand',\n",
       " 'cotton',\n",
       " 'coumarin',\n",
       " 'cranberri',\n",
       " 'cream',\n",
       " 'creami',\n",
       " 'creeper',\n",
       " 'crisp',\n",
       " 'crystal',\n",
       " 'cudd',\n",
       " 'cumin',\n",
       " 'cupcak',\n",
       " 'currant',\n",
       " 'cybet',\n",
       " 'cyclamen',\n",
       " 'cypress',\n",
       " 'dakota',\n",
       " 'damascus',\n",
       " 'damask',\n",
       " 'dark',\n",
       " 'de',\n",
       " 'delic',\n",
       " 'desert',\n",
       " 'dri',\n",
       " 'eboni',\n",
       " 'egyptian',\n",
       " 'eleg',\n",
       " 'elemi',\n",
       " 'evernyl',\n",
       " 'exot',\n",
       " 'extracomoro',\n",
       " 'extract',\n",
       " 'fern',\n",
       " 'fir',\n",
       " 'floral',\n",
       " 'frangipani',\n",
       " 'frankincens',\n",
       " 'freesia',\n",
       " 'from',\n",
       " 'fruit',\n",
       " 'fruiti',\n",
       " 'fuse',\n",
       " 'gaiac',\n",
       " 'galbanum',\n",
       " 'gardenia',\n",
       " 'gaïac',\n",
       " 'geranium',\n",
       " 'ginger',\n",
       " 'golden',\n",
       " 'grapefruit',\n",
       " 'grass',\n",
       " 'green',\n",
       " 'grey',\n",
       " 'guaiac',\n",
       " 'guatemalan',\n",
       " 'guimav',\n",
       " 'haiti',\n",
       " 'haitian',\n",
       " 'hay',\n",
       " 'hazelnut',\n",
       " 'heart',\n",
       " 'heather',\n",
       " 'hedion',\n",
       " 'heliotrop',\n",
       " 'heliotropin',\n",
       " 'hiacynth',\n",
       " 'hibiscus',\n",
       " 'himalayan',\n",
       " 'hip',\n",
       " 'honey',\n",
       " 'honeysuckl',\n",
       " 'hot',\n",
       " 'hyacinth',\n",
       " 'in',\n",
       " 'incens',\n",
       " 'indian',\n",
       " 'indonesian',\n",
       " 'intens',\n",
       " 'iri',\n",
       " 'iso',\n",
       " 'jasmin',\n",
       " 'junip',\n",
       " 'king',\n",
       " 'kiwi',\n",
       " 'labdanum',\n",
       " 'lacton',\n",
       " 'laotian',\n",
       " 'laurel',\n",
       " 'lavandin',\n",
       " 'lavend',\n",
       " 'lavenday',\n",
       " 'leaf',\n",
       " 'leather',\n",
       " 'leav',\n",
       " 'lebanes',\n",
       " 'lemon',\n",
       " 'lemongrass',\n",
       " 'lichen',\n",
       " 'licoric',\n",
       " 'lignum',\n",
       " 'lili',\n",
       " 'liquid',\n",
       " 'litchi',\n",
       " 'live',\n",
       " 'lotus',\n",
       " 'love',\n",
       " 'lyche',\n",
       " 'madagascar',\n",
       " 'magnolia',\n",
       " 'mahogani',\n",
       " 'mai',\n",
       " 'majorjam',\n",
       " 'mandarin',\n",
       " 'maninka',\n",
       " 'marin',\n",
       " 'marshmallow',\n",
       " 'melon',\n",
       " 'mexican',\n",
       " 'milk',\n",
       " 'mimosa',\n",
       " 'mint',\n",
       " 'mix',\n",
       " 'moepel',\n",
       " 'moroccan',\n",
       " 'moss',\n",
       " 'musk',\n",
       " 'myrrh',\n",
       " 'narcissus',\n",
       " 'natur',\n",
       " 'nectar',\n",
       " 'needl',\n",
       " 'nerium',\n",
       " 'neroli',\n",
       " 'night',\n",
       " 'nutmeg',\n",
       " 'oak',\n",
       " 'oakmoss',\n",
       " 'oil',\n",
       " 'oleand',\n",
       " 'olibanum',\n",
       " 'oliv',\n",
       " 'opoponax',\n",
       " 'orang',\n",
       " 'orcanox',\n",
       " 'orchard',\n",
       " 'orchid',\n",
       " 'orient',\n",
       " 'orrang',\n",
       " 'orri',\n",
       " 'osmanthus',\n",
       " 'oud',\n",
       " 'ozon',\n",
       " 'papyrus',\n",
       " 'passionfruit',\n",
       " 'patchouli',\n",
       " 'peach',\n",
       " 'pear',\n",
       " 'pelargonium',\n",
       " 'peoni',\n",
       " 'pepper',\n",
       " 'petal',\n",
       " 'petitgrain',\n",
       " 'pimento',\n",
       " 'pine',\n",
       " 'pineappl',\n",
       " 'pink',\n",
       " 'plant',\n",
       " 'plum',\n",
       " 'plumeria',\n",
       " 'pod',\n",
       " 'powderi',\n",
       " 'pralin',\n",
       " 'precious',\n",
       " 'press',\n",
       " 'queen',\n",
       " 'quinc',\n",
       " 'rangoon',\n",
       " 'rare',\n",
       " 'raspberri',\n",
       " 'red',\n",
       " 'redwood',\n",
       " 'reseda',\n",
       " 'resin',\n",
       " 'rhythm',\n",
       " 'rich',\n",
       " 'roast',\n",
       " 'root',\n",
       " 'rose',\n",
       " 'rosemari',\n",
       " 'rosewood',\n",
       " 'rum',\n",
       " 'saffron',\n",
       " 'sage',\n",
       " 'salt',\n",
       " 'salti',\n",
       " 'sambac',\n",
       " 'sandalwood',\n",
       " 'schijnhulst',\n",
       " 'sea',\n",
       " 'seawe',\n",
       " 'seed',\n",
       " 'sensual',\n",
       " 'sesam',\n",
       " 'shepherd',\n",
       " 'sichuan',\n",
       " 'sicilian',\n",
       " 'skin',\n",
       " 'slice',\n",
       " 'soft',\n",
       " 'south',\n",
       " 'spice',\n",
       " 'spici',\n",
       " 'star',\n",
       " 'stephanoti',\n",
       " 'strawberri',\n",
       " 'styrax',\n",
       " 'subtl',\n",
       " 'sued',\n",
       " 'sugar',\n",
       " 'super',\n",
       " 'sweet',\n",
       " 'tahitian',\n",
       " 'tarragon',\n",
       " 'tea',\n",
       " 'teak',\n",
       " 'teakwood',\n",
       " 'the',\n",
       " 'thyme',\n",
       " 'tiar',\n",
       " 'toacco',\n",
       " 'tobacco',\n",
       " 'tonka',\n",
       " 'tree',\n",
       " 'tuberos',\n",
       " 'turkish',\n",
       " 'valley',\n",
       " 'vanilla',\n",
       " 'veget',\n",
       " 'verbena',\n",
       " 'vetiv',\n",
       " 'vetyv',\n",
       " 'violaciocca',\n",
       " 'violet',\n",
       " 'virginia',\n",
       " 'vita',\n",
       " 'vodka',\n",
       " 'warm',\n",
       " 'water',\n",
       " 'wateri',\n",
       " 'watermelon',\n",
       " 'whiskey',\n",
       " 'white',\n",
       " 'wild',\n",
       " 'wisteria',\n",
       " 'woman',\n",
       " 'wood',\n",
       " 'yellow',\n",
       " 'ylang',\n",
       " 'ylangylan',\n",
       " 'ylangylang',\n",
       " 'zest']"
      ]
     },
     "execution_count": 373,
     "metadata": {},
     "output_type": "execute_result"
    }
   ],
   "source": [
    "vecnotes.get_feature_names()"
   ]
  },
  {
   "cell_type": "code",
   "execution_count": 352,
   "id": "421c462c",
   "metadata": {
    "scrolled": false
   },
   "outputs": [
    {
     "data": {
      "text/plain": [
       "[<matplotlib.lines.Line2D at 0x1fa89891700>]"
      ]
     },
     "execution_count": 352,
     "metadata": {},
     "output_type": "execute_result"
    },
    {
     "data": {
      "image/png": "[encoded data removed]",
      "text/plain": [
       "<Figure size 576x396 with 1 Axes>"
      ]
     },
     "metadata": {},
     "output_type": "display_data"
    }
   ],
   "source": [
    "#X_train, X_test, y_train, y_test = model_selection.train_test_split(X1, gender, test_size=0.33)\n",
    "pricelist = []\n",
    "for i in range(2,8):\n",
    "    kmode = KModes(n_clusters=i, init = \"random\", n_init = 10)\n",
    "    kmode.fit(X6)\n",
    "    pricelist.append([i, min(kmode.epoch_costs_)])\n",
    "\n",
    "\n",
    "prices = np.array(pricelist)\n",
    "plt.plot(prices[:,0], prices[:,1])\n",
    "#clusters = kmode.fit_predict(X123)"
   ]
  },
  {
   "cell_type": "code",
   "execution_count": 370,
   "id": "abde091a",
   "metadata": {},
   "outputs": [],
   "source": [
    "kmode = KModes(n_clusters=2, max_iter=200, init = \"random\", n_init = 15)\n",
    "preds = kmode.fit_predict(X5.todense())"
   ]
  },
  {
   "cell_type": "code",
   "execution_count": 401,
   "id": "d89ff66d",
   "metadata": {},
   "outputs": [
    {
     "name": "stdout",
     "output_type": "stream",
     "text": [
      "({'wood': 15, 'floral': 4, 'arabian': 0, 'spici': 12, 'orient': 9, 'fruiti': 6, 'fresh': 5, 'citrus': 2, 'vanilla': 14, 'musk': 8, 'sweet': 13, 'aromat': 1, 'clean': 3, 'jasmin': 7, 'rose': 10, 'sandalwood': 11}, matrix([[ 75,  16,  93,   1, 315,  43,  77,   4,  10,  35,   2,   2, 114,\n",
      "           3,  24, 196]], dtype=int64))\n"
     ]
    }
   ],
   "source": [
    "from collections import Counter\n",
    "print((vecscents.vocabulary_, sum(X5.todense())))"
   ]
  },
  {
   "cell_type": "code",
   "execution_count": 439,
   "id": "64416829",
   "metadata": {
    "scrolled": true
   },
   "outputs": [
    {
     "data": {
      "text/plain": [
       "dict_values([75, 16, 93, 1, 315, 43, 77, 4, 10, 35, 2, 2, 114, 3, 24, 196])"
      ]
     },
     "execution_count": 439,
     "metadata": {},
     "output_type": "execute_result"
    }
   ],
   "source": [
    "dict(zip(vect_scents.get_feature_names(), sum(X3.toarray())))"
   ]
  },
  {
   "cell_type": "markdown",
   "id": "2b6e55bb",
   "metadata": {},
   "source": [
    "X = correlation with gender\n",
    "Y = dict(zip(vect_scents.get_feature_names(), sum(X3.toarray()))).values()"
   ]
  },
  {
   "cell_type": "code",
   "execution_count": 453,
   "id": "bedca887",
   "metadata": {},
   "outputs": [
    {
     "data": {
      "text/plain": [
       "(997, 997)"
      ]
     },
     "execution_count": 453,
     "metadata": {},
     "output_type": "execute_result"
    }
   ],
   "source": [
    "len(gender), len(X5.todense())"
   ]
  },
  {
   "cell_type": "code",
   "execution_count": 471,
   "id": "51bdc45e",
   "metadata": {},
   "outputs": [],
   "source": [
    "scent_cluster = pd.DataFrame(X5.todense())\n",
    "#scent_cluster['clusters'] = preds\n",
    "\n",
    "scent_cluster['gender'] = mlb.fit_transform(gender)\n",
    "X = scent_cluster.corr().iloc[-1][:-1]\n",
    "Y = dict(zip(vect_scents.get_feature_names(), sum(X3.toarray()))).values()\n"
   ]
  },
  {
   "cell_type": "code",
   "execution_count": 477,
   "id": "7d9d8139",
   "metadata": {},
   "outputs": [],
   "source": [
    "vec = CountVectorizer()\n",
    "out = vec.fit_transform(gender)"
   ]
  },
  {
   "cell_type": "code",
   "execution_count": 479,
   "id": "edc7440f",
   "metadata": {},
   "outputs": [
    {
     "data": {
      "text/plain": [
       "matrix([[1, 0],\n",
       "        [0, 1],\n",
       "        [1, 0],\n",
       "        ...,\n",
       "        [0, 1],\n",
       "        [1, 0],\n",
       "        [1, 0]], dtype=int64)"
      ]
     },
     "execution_count": 479,
     "metadata": {},
     "output_type": "execute_result"
    }
   ],
   "source": [
    "out.todense()"
   ]
  },
  {
   "cell_type": "code",
   "execution_count": 473,
   "id": "420e8f08",
   "metadata": {},
   "outputs": [
    {
     "data": {
      "text/plain": [
       "<matplotlib.collections.PathCollection at 0x1fa80a00640>"
      ]
     },
     "execution_count": 473,
     "metadata": {},
     "output_type": "execute_result"
    },
    {
     "data": {
      "image/png": "[encoded data removed]",
      "text/plain": [
       "<Figure size 576x396 with 1 Axes>"
      ]
     },
     "metadata": {},
     "output_type": "display_data"
    }
   ],
   "source": [
    "plt.scatter(X, Y)"
   ]
  },
  {
   "cell_type": "code",
   "execution_count": 371,
   "id": "a26f4aac",
   "metadata": {},
   "outputs": [],
   "source": [
    "df_corr = df.copy()\n",
    "df_corr.drop(['department', 'scents', 'base_note', 'middle_note', 'seller','num_seller_ratings'], axis=1, inplace=True)\n",
    "df_corr['clusters'] = preds\n",
    "df_corr['brand'] = mlb.fit_transform(df.brand)\n",
    "df_corr['name'] = mlb.fit_transform(df.name)\n",
    "df_corr['gender'] = mlb.fit_transform(gender)\n",
    "df_corr['concentration'] = mlb.fit_transform(df.concentration)"
   ]
  },
  {
   "cell_type": "code",
   "execution_count": 372,
   "id": "c225dbe6",
   "metadata": {},
   "outputs": [
    {
     "data": {
      "text/html": [
       "<div>\n",
       "<style scoped>\n",
       "    .dataframe tbody tr th:only-of-type {\n",
       "        vertical-align: middle;\n",
       "    }\n",
       "\n",
       "    .dataframe tbody tr th {\n",
       "        vertical-align: top;\n",
       "    }\n",
       "\n",
       "    .dataframe thead th {\n",
       "        text-align: right;\n",
       "    }\n",
       "</style>\n",
       "<table border=\"1\" class=\"dataframe\">\n",
       "  <thead>\n",
       "    <tr style=\"text-align: right;\">\n",
       "      <th></th>\n",
       "      <th>brand</th>\n",
       "      <th>name</th>\n",
       "      <th>old_price</th>\n",
       "      <th>new_price</th>\n",
       "      <th>ml</th>\n",
       "      <th>concentration</th>\n",
       "      <th>item_rating</th>\n",
       "      <th>seller_rating</th>\n",
       "      <th>clusters</th>\n",
       "      <th>gender</th>\n",
       "    </tr>\n",
       "  </thead>\n",
       "  <tbody>\n",
       "    <tr>\n",
       "      <th>brand</th>\n",
       "      <td>1.000000</td>\n",
       "      <td>0.108810</td>\n",
       "      <td>-0.036838</td>\n",
       "      <td>-0.001445</td>\n",
       "      <td>-0.035067</td>\n",
       "      <td>0.051141</td>\n",
       "      <td>0.044437</td>\n",
       "      <td>0.010865</td>\n",
       "      <td>-0.063129</td>\n",
       "      <td>-0.014706</td>\n",
       "    </tr>\n",
       "    <tr>\n",
       "      <th>name</th>\n",
       "      <td>0.108810</td>\n",
       "      <td>1.000000</td>\n",
       "      <td>-0.028168</td>\n",
       "      <td>-0.015708</td>\n",
       "      <td>-0.032864</td>\n",
       "      <td>-0.124253</td>\n",
       "      <td>0.028500</td>\n",
       "      <td>-0.009596</td>\n",
       "      <td>0.090804</td>\n",
       "      <td>0.086168</td>\n",
       "    </tr>\n",
       "    <tr>\n",
       "      <th>old_price</th>\n",
       "      <td>-0.036838</td>\n",
       "      <td>-0.028168</td>\n",
       "      <td>1.000000</td>\n",
       "      <td>0.841810</td>\n",
       "      <td>0.129848</td>\n",
       "      <td>-0.210091</td>\n",
       "      <td>0.072514</td>\n",
       "      <td>-0.091528</td>\n",
       "      <td>0.091654</td>\n",
       "      <td>0.116519</td>\n",
       "    </tr>\n",
       "    <tr>\n",
       "      <th>new_price</th>\n",
       "      <td>-0.001445</td>\n",
       "      <td>-0.015708</td>\n",
       "      <td>0.841810</td>\n",
       "      <td>1.000000</td>\n",
       "      <td>0.138367</td>\n",
       "      <td>-0.246922</td>\n",
       "      <td>0.101961</td>\n",
       "      <td>-0.010561</td>\n",
       "      <td>0.068533</td>\n",
       "      <td>0.118699</td>\n",
       "    </tr>\n",
       "    <tr>\n",
       "      <th>ml</th>\n",
       "      <td>-0.035067</td>\n",
       "      <td>-0.032864</td>\n",
       "      <td>0.129848</td>\n",
       "      <td>0.138367</td>\n",
       "      <td>1.000000</td>\n",
       "      <td>0.254131</td>\n",
       "      <td>-0.034914</td>\n",
       "      <td>0.026195</td>\n",
       "      <td>-0.167099</td>\n",
       "      <td>-0.272029</td>\n",
       "    </tr>\n",
       "    <tr>\n",
       "      <th>concentration</th>\n",
       "      <td>0.051141</td>\n",
       "      <td>-0.124253</td>\n",
       "      <td>-0.210091</td>\n",
       "      <td>-0.246922</td>\n",
       "      <td>0.254131</td>\n",
       "      <td>1.000000</td>\n",
       "      <td>-0.121972</td>\n",
       "      <td>-0.031854</td>\n",
       "      <td>-0.251883</td>\n",
       "      <td>-0.490587</td>\n",
       "    </tr>\n",
       "    <tr>\n",
       "      <th>item_rating</th>\n",
       "      <td>0.044437</td>\n",
       "      <td>0.028500</td>\n",
       "      <td>0.072514</td>\n",
       "      <td>0.101961</td>\n",
       "      <td>-0.034914</td>\n",
       "      <td>-0.121972</td>\n",
       "      <td>1.000000</td>\n",
       "      <td>-0.036694</td>\n",
       "      <td>0.039754</td>\n",
       "      <td>0.117296</td>\n",
       "    </tr>\n",
       "    <tr>\n",
       "      <th>seller_rating</th>\n",
       "      <td>0.010865</td>\n",
       "      <td>-0.009596</td>\n",
       "      <td>-0.091528</td>\n",
       "      <td>-0.010561</td>\n",
       "      <td>0.026195</td>\n",
       "      <td>-0.031854</td>\n",
       "      <td>-0.036694</td>\n",
       "      <td>1.000000</td>\n",
       "      <td>-0.063844</td>\n",
       "      <td>-0.065513</td>\n",
       "    </tr>\n",
       "    <tr>\n",
       "      <th>clusters</th>\n",
       "      <td>-0.063129</td>\n",
       "      <td>0.090804</td>\n",
       "      <td>0.091654</td>\n",
       "      <td>0.068533</td>\n",
       "      <td>-0.167099</td>\n",
       "      <td>-0.251883</td>\n",
       "      <td>0.039754</td>\n",
       "      <td>-0.063844</td>\n",
       "      <td>1.000000</td>\n",
       "      <td>0.463419</td>\n",
       "    </tr>\n",
       "    <tr>\n",
       "      <th>gender</th>\n",
       "      <td>-0.014706</td>\n",
       "      <td>0.086168</td>\n",
       "      <td>0.116519</td>\n",
       "      <td>0.118699</td>\n",
       "      <td>-0.272029</td>\n",
       "      <td>-0.490587</td>\n",
       "      <td>0.117296</td>\n",
       "      <td>-0.065513</td>\n",
       "      <td>0.463419</td>\n",
       "      <td>1.000000</td>\n",
       "    </tr>\n",
       "  </tbody>\n",
       "</table>\n",
       "</div>"
      ],
      "text/plain": [
       "                  brand      name  old_price  new_price        ml  \\\n",
       "brand          1.000000  0.108810  -0.036838  -0.001445 -0.035067   \n",
       "name           0.108810  1.000000  -0.028168  -0.015708 -0.032864   \n",
       "old_price     -0.036838 -0.028168   1.000000   0.841810  0.129848   \n",
       "new_price     -0.001445 -0.015708   0.841810   1.000000  0.138367   \n",
       "ml            -0.035067 -0.032864   0.129848   0.138367  1.000000   \n",
       "concentration  0.051141 -0.124253  -0.210091  -0.246922  0.254131   \n",
       "item_rating    0.044437  0.028500   0.072514   0.101961 -0.034914   \n",
       "seller_rating  0.010865 -0.009596  -0.091528  -0.010561  0.026195   \n",
       "clusters      -0.063129  0.090804   0.091654   0.068533 -0.167099   \n",
       "gender        -0.014706  0.086168   0.116519   0.118699 -0.272029   \n",
       "\n",
       "               concentration  item_rating  seller_rating  clusters    gender  \n",
       "brand               0.051141     0.044437       0.010865 -0.063129 -0.014706  \n",
       "name               -0.124253     0.028500      -0.009596  0.090804  0.086168  \n",
       "old_price          -0.210091     0.072514      -0.091528  0.091654  0.116519  \n",
       "new_price          -0.246922     0.101961      -0.010561  0.068533  0.118699  \n",
       "ml                  0.254131    -0.034914       0.026195 -0.167099 -0.272029  \n",
       "concentration       1.000000    -0.121972      -0.031854 -0.251883 -0.490587  \n",
       "item_rating        -0.121972     1.000000      -0.036694  0.039754  0.117296  \n",
       "seller_rating      -0.031854    -0.036694       1.000000 -0.063844 -0.065513  \n",
       "clusters           -0.251883     0.039754      -0.063844  1.000000  0.463419  \n",
       "gender             -0.490587     0.117296      -0.065513  0.463419  1.000000  "
      ]
     },
     "execution_count": 372,
     "metadata": {},
     "output_type": "execute_result"
    }
   ],
   "source": [
    "df_corr.corr()"
   ]
  },
  {
   "cell_type": "markdown",
   "id": "e10f62f5",
   "metadata": {},
   "source": [
    "### Attempts at K-Meanss"
   ]
  },
  {
   "cell_type": "code",
   "execution_count": null,
   "id": "a14332d8",
   "metadata": {},
   "outputs": [],
   "source": [
    "def convert_ratings(array):\n",
    "    copy = array.copy()\n",
    "    div = sum(array.T)\n",
    "    for i in range(0,5):\n",
    "        copy[:,i] = copy[:,i]*(i+1)\n",
    "    return sum(copy.T)/div\n",
    "    \n",
    "\n",
    "long_vote = convert_ratings(longevity)      \n",
    "#long_vote = scaler.fit_transform(long_vote.reshape(-1,1))"
   ]
  },
  {
   "cell_type": "code",
   "execution_count": null,
   "id": "f5022aab",
   "metadata": {},
   "outputs": [],
   "source": [
    "long_vote = scaler.fit_transform(long_vote.reshape(-1,1))\n",
    "ratings = scaler.fit_transform(ratings.values.reshape(-1,1))\n",
    "#date_scaled = scaler.fit_transform(np.array(date).reshape(-1,1))\n",
    "\n",
    "long_rating = np.hstack((long_vote, ratings))\n"
   ]
  },
  {
   "cell_type": "code",
   "execution_count": null,
   "id": "d3e9c45f",
   "metadata": {
    "scrolled": false
   },
   "outputs": [],
   "source": [
    "sorting = (df_not_noon.date > 2000)\n",
    "kmeans_not_noon = KMeans(n_clusters=1).fit(long_rating)\n",
    "\n",
    "plt.figure(figsize=(20,20))\n",
    "plt.scatter(long_rating[:,0][sorting], long_rating[:,1][sorting], alpha=0.5, cmap='spring', c=kmeans_not_noon.labels_[sorting])\n",
    "plt.scatter(kmeans_not_noon.cluster_centers_[:,0], kmeans_not_noon.cluster_centers_[:,1])\n",
    "#No point in clustering this - 1 (perfect) normal distribution"
   ]
  },
  {
   "cell_type": "code",
   "execution_count": null,
   "id": "6892859a",
   "metadata": {},
   "outputs": [],
   "source": [
    "kmeans = KMeans()\n",
    "visualizer = KElbowVisualizer(kmeans, k=(2,10))\n",
    "\n",
    "visualizer.fit(long_rating)        # Fit the data to the visualizer\n",
    "visualizer.show();"
   ]
  },
  {
   "cell_type": "code",
   "execution_count": null,
   "id": "37045165",
   "metadata": {},
   "outputs": [],
   "source": [
    "df_not_noon.head()"
   ]
  },
  {
   "cell_type": "code",
   "execution_count": null,
   "id": "9cb9714e",
   "metadata": {},
   "outputs": [],
   "source": []
  }
 ],
 "metadata": {
  "kernelspec": {
   "display_name": "Python 3 (ipykernel)",
   "language": "python",
   "name": "python3"
  },
  "language_info": {
   "codemirror_mode": {
    "name": "ipython",
    "version": 3
   },
   "file_extension": ".py",
   "mimetype": "text/x-python",
   "name": "python",
   "nbconvert_exporter": "python",
   "pygments_lexer": "ipython3",
   "version": "3.9.7"
  }
 },
 "nbformat": 4,
 "nbformat_minor": 5
}
