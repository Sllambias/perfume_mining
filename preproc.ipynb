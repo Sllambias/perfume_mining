{
 "cells": [
  {
   "cell_type": "code",
   "execution_count": 642,
   "id": "398c09d0",
   "metadata": {},
   "outputs": [],
   "source": [
    "import pandas as pd \n",
    "import matplotlib.pyplot as plt\n",
    "import re\n",
    "from symspellpy import SymSpell, Verbosity\n",
    "import numpy as np"
   ]
  },
  {
   "cell_type": "code",
   "execution_count": 643,
   "id": "2bd84f1a",
   "metadata": {},
   "outputs": [],
   "source": [
    "df = pd.read_csv(\"data/noon_perfumes_dataset.csv\", index_col=0)"
   ]
  },
  {
   "cell_type": "markdown",
   "id": "0aa169b8",
   "metadata": {},
   "source": [
    "to do: \n",
    "\n",
    "- one hot encoding of notes and scents\n",
    "    - req: string splitting and removal of words like \"and\"\n",
    "\n",
    "- check correlation between ratings and price?\n",
    "    - seller rating == rating of seller, not seller's rating of item\n",
    "        - some incorrect scrapings (ranges between 0-500) because the number of ratings has been mistaken for value of ratings in some cases\n",
    "        \n",
    "- Check correlation between ingredients (scents/notes) and price?"
   ]
  },
  {
   "cell_type": "code",
   "execution_count": 644,
   "id": "3c10ae85",
   "metadata": {},
   "outputs": [],
   "source": [
    "old_prices = df.old_price\n",
    "new_prices = df.new_price\n",
    "ml = df.ml"
   ]
  },
  {
   "cell_type": "code",
   "execution_count": 645,
   "id": "f8099b67",
   "metadata": {
    "scrolled": false
   },
   "outputs": [
    {
     "data": {
      "image/png": "[encoded data removed]",
      "text/plain": [
       "<Figure size 1080x360 with 3 Axes>"
      ]
     },
     "metadata": {
      "needs_background": "light"
     },
     "output_type": "display_data"
    }
   ],
   "source": [
    "fig, ax = plt.subplots(1, 3, figsize=(15, 5))\n",
    "ax[0].hist(x=new_prices/ml); ax[1].hist(x=old_prices/ml); ax[2].hist(df.item_rating, bins=20);"
   ]
  },
  {
   "cell_type": "code",
   "execution_count": 646,
   "id": "75e6626e",
   "metadata": {},
   "outputs": [],
   "source": [
    "notes = df[['base_note', 'middle_note']].values"
   ]
  },
  {
   "cell_type": "code",
   "execution_count": 719,
   "id": "746d5b49",
   "metadata": {},
   "outputs": [],
   "source": [
    "def text_clean(text_array):\n",
    "    text_list = []\n",
    "    for text_pair in text_array:\n",
    "        text = \", \".join(text_pair).lower().replace(\" and\", \",\") #join base_note and middle_note strings, lowercase everything and replace \"and\" with a comma\n",
    "        text = re.sub(r\"\\b\\,\\b\", \", \", text)\n",
    "        text = re.sub(r\"\\b\\s\\b|\\B\\,|of |the |-\", \"\", text)\n",
    "        text_list.append(text)\n",
    "        #text_list.append(text.split(\", \")) #split at commas (this way we preserve notes desribed by > 1 word)\n",
    "    return text_list"
   ]
  },
  {
   "cell_type": "code",
   "execution_count": 720,
   "id": "7a7b8d84",
   "metadata": {},
   "outputs": [
    {
     "data": {
      "text/plain": [
       "['musk, sandalwood, patchouli, oakmoss, cedar, pepper, pinetree, vetiver, ylangylang, rose, lilyofthevalley, cassia',\n",
       " 'whitemusk, vetiver, cedar, cacaopod',\n",
       " 'delicatemuskysensualwoods, distinct, exotic',\n",
       " 'mandarinorange, agarwood, musk, patchouli',\n",
       " 'tonkabean, tahitianvetiver, cedar, spices, whitepepper, basil, violetleaf',\n",
       " 'musk, cedar, cashmirwood, patchouli, orangeblossom, stephanotis, rose, blackcurrant, peach',\n",
       " 'cedarwood, tonkabeans, vetiver, musk',\n",
       " 'amber, musk, sandalwood, coumarin, vanilla, pinkpepper, cardomon, cinnamon, jasmin, cumin, redfruits, lily, nutmeg',\n",
       " 'amber, musk, powderynotes, cedar, sandalwood, rose, jasmine',\n",
       " 'goldenwoodsmusk, sambacjasmineabsolute, roseabsolute',\n",
       " 'patchouli, sandalwood, amber, musk',\n",
       " 'rarewood, amberfat, whitemusk, shepherd, saffron, teakwood, gaiakwood',\n",
       " 'sandalwood, cedarwood, vanilla, caramelmusk, woodyaccords, jasmine, rose, muget, freesia, cinnamon',\n",
       " 'sandalwood, tonkabean, amber, patchouli, musk, oakmoss, cedar, tobacco, pinetree, honey, orrisroot, jasmine, caraway, petitgrain, lilyofthevalley, rose, brazilianrosewood, incense',\n",
       " 'luidsandalwood, jasmine, amber, vanilla, sweetnapolitanocake, verbena, jacarandawood, grapefruitblossom',\n",
       " 'jasmine, tuberose',\n",
       " 'benzoin, chinesecedar, clarysage',\n",
       " 'honey, sandalwood, tonkabean, amber, musk, civet, vanilla, oakmoss, vetiver, carnation, tuberose, orchid, orrisroot, jasmine, hiacynth, turkishrose, ylangylang, lilyofthevalley, narcissus',\n",
       " 'patchouli, sandalwood, amber, musk',\n",
       " 'sandalwood, amber, patchouli, musk, coconut, carnation, cypress, iris, cinnamon, lavender, jasmine']"
      ]
     },
     "execution_count": 720,
     "metadata": {},
     "output_type": "execute_result"
    }
   ],
   "source": [
    "sent_dic = text_clean(notes)\n",
    "sent_dic[10:30]"
   ]
  },
  {
   "cell_type": "code",
   "execution_count": 721,
   "id": "7b9288c0",
   "metadata": {},
   "outputs": [],
   "source": [
    "cashmere_list = []\n",
    "for sent in sent_dic:   \n",
    "    for word in sent.split(\", \"):\n",
    "        if \"cash\" in word:\n",
    "            cashmere_list.append(word)"
   ]
  },
  {
   "cell_type": "code",
   "execution_count": 722,
   "id": "ff3be0d4",
   "metadata": {},
   "outputs": [
    {
     "name": "stdout",
     "output_type": "stream",
     "text": [
      "10 77\n"
     ]
    }
   ],
   "source": [
    "x, y = np.unique(cashmere_list, return_counts=True)\n",
    "print(len(x), sum(y))"
   ]
  },
  {
   "cell_type": "code",
   "execution_count": 723,
   "id": "86ae6d84",
   "metadata": {},
   "outputs": [
    {
     "data": {
      "text/plain": [
       "True"
      ]
     },
     "execution_count": 723,
     "metadata": {},
     "output_type": "execute_result"
    }
   ],
   "source": [
    "sym_spell = SymSpell(max_dictionary_edit_distance=2, count_threshold=5)\n",
    "sym_spell.create_dictionary(sent_dic)\n",
    "#suggestions = sym_spell.lookup_compound(\", \".join(sent_dic).replace(\",\", \"\"), max_edit_distance=2)"
   ]
  },
  {
   "cell_type": "code",
   "execution_count": 791,
   "id": "931943e9",
   "metadata": {},
   "outputs": [],
   "source": [
    "sent_dic_autocorrected = []\n",
    "for sent in sent_dic:\n",
    "    s = str()\n",
    "    for word in sent.split(\", \"):\n",
    "        suggestions = sym_spell.lookup(word, verbosity=Verbosity.ALL, max_edit_distance=2)\n",
    "        if suggestions:\n",
    "            word = suggestions[np.argmax([sug.count for sug in suggestions])].term\n",
    "        s += word+\" \"\n",
    "    sent_dic_autocorrected.append(s)\n"
   ]
  },
  {
   "cell_type": "code",
   "execution_count": 792,
   "id": "c65747b6",
   "metadata": {},
   "outputs": [],
   "source": [
    "cashmere_list_v2 = []\n",
    "for sent in sent_dic_autocorrected:   \n",
    "    for word in sent.split(\" \"):\n",
    "        if \"cash\" in word:\n",
    "            cashmere_list_v2.append(word)"
   ]
  },
  {
   "cell_type": "code",
   "execution_count": 793,
   "id": "1e934058",
   "metadata": {},
   "outputs": [
    {
     "name": "stdout",
     "output_type": "stream",
     "text": [
      "5 77\n"
     ]
    }
   ],
   "source": [
    "x, y = np.unique(cashmere_list_v2, return_counts=True)\n",
    "print(len(x), sum(y)) #Without losing tokens, the amount of unique types have been reduced from 10 --> 5"
   ]
  },
  {
   "cell_type": "code",
   "execution_count": null,
   "id": "3c6e5e47",
   "metadata": {},
   "outputs": [],
   "source": []
  }
 ],
 "metadata": {
  "kernelspec": {
   "display_name": "Python 3 (ipykernel)",
   "language": "python",
   "name": "python3"
  },
  "language_info": {
   "codemirror_mode": {
    "name": "ipython",
    "version": 3
   },
   "file_extension": ".py",
   "mimetype": "text/x-python",
   "name": "python",
   "nbconvert_exporter": "python",
   "pygments_lexer": "ipython3",
   "version": "3.8.10"
  }
 },
 "nbformat": 4,
 "nbformat_minor": 5
}
