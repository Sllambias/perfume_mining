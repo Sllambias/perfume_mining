{
 "cells": [
  {
   "cell_type": "code",
   "execution_count": 77,
   "id": "398c09d0",
   "metadata": {},
   "outputs": [],
   "source": [
    "import pandas as pd \n",
    "import numpy as np\n",
    "\n",
    "import matplotlib.pyplot as plt\n",
    "import matplotlib as mpl\n",
    "import matplotlib.cm as cm\n",
    "\n",
    "from sklearn.feature_extraction.text import CountVectorizer\n",
    "from sklearn.preprocessing import StandardScaler, normalize, LabelEncoder\n",
    "from sklearn import model_selection\n",
    "\n",
    "from scipy import stats\n",
    "from kmodes.kmodes import KModes\n",
    "from nltk.stem import SnowballStemmer "
   ]
  },
  {
   "cell_type": "code",
   "execution_count": 2,
   "id": "6c7fcdab",
   "metadata": {},
   "outputs": [],
   "source": [
    "stemmer = SnowballStemmer('english')\n",
    "\n",
    "def replace(t): #Function for catching what the stemmer misses to further reduce the number of categories (so far only for optimized for base notes) \n",
    "\n",
    "    if \"amber\" in t:\n",
    "        t = \"amber\"\n",
    "    if \"cash\" in t:\n",
    "        t = \"cashmere\"\n",
    "    if \"bean\" in t:\n",
    "        t = \"bean\"\n",
    "    if \"flo\" in t:\n",
    "        t = \"floral\"\n",
    "    if \"ced\" in t:\n",
    "        t = \"cedar\"\n",
    "    if \"mu\" in t:\n",
    "        t = \"musk\"\n",
    "    if \"leather\" in t:\n",
    "        t = \"leather\"\n",
    "    if \"lil\" in t:\n",
    "        t = \"lily\"\n",
    "    if \"lacton\" in t:\n",
    "        t = \"lacton\"\n",
    "    if \"labda\" in t:\n",
    "        t = \"labdanum\"\n",
    "    if \"patch\" in t:\n",
    "        t = \"patchouli\"\n",
    "    if \"vanil\" in t:\n",
    "        t = \"vanilla\"\n",
    "    if \"oud\" in t:\n",
    "        t = \"oud\"\n",
    "    if \"oliv\" in t:\n",
    "        t = \"olive\"\n",
    "    if \"sand\" in t:\n",
    "        t = \"sandalwood\"\n",
    "    if \"wood\" in t[:4]:\n",
    "        t = \"wood\"\n",
    "\n",
    "    return t\n",
    "            \n",
    "class ReplaceCountVectorizer(CountVectorizer):\n",
    "    \n",
    "     def build_analyzer(self):\n",
    "        analyzer = super(ReplaceCountVectorizer, self).build_analyzer()\n",
    "        return lambda doc: ([replace(w) for w in analyzer(doc)])\n",
    "    \n",
    "class StemmedCountVectorizer(CountVectorizer): #Builds ontop of sklearn:s CountVectorizer, documentation here: https://scikit-learn.org/stable/modules/generated/sklearn.feature_extraction.text.CountVectorizer.html\n",
    "    \n",
    "     def build_analyzer(self):\n",
    "        analyzer = super(StemmedCountVectorizer, self).build_analyzer()\n",
    "        return lambda doc: ([stemmer.stem(replace(w)) for w in analyzer(doc)]) "
   ]
  },
  {
   "cell_type": "code",
   "execution_count": 3,
   "id": "2bd84f1a",
   "metadata": {},
   "outputs": [],
   "source": [
    "scaler = StandardScaler()\n",
    "mlb = LabelEncoder()\n",
    "\n",
    "df_original = pd.read_csv(\"data/noon_perfumes_dataset.csv\", index_col=0)\n",
    "\n",
    "df = df_original.copy(deep=True)\n",
    "df.drop_duplicates(inplace=True)"
   ]
  },
  {
   "cell_type": "code",
   "execution_count": 4,
   "id": "d709fb82",
   "metadata": {},
   "outputs": [],
   "source": [
    "df['price_ml'] = df['new_price'] / df['ml']\n",
    "low, high = np.quantile(df['price_ml'],[0.25, 0.75])\n",
    "df['price'] = np.select([df.price_ml < low, df.price_ml > high], [\"cheap\", \"expensive\"], default=[\"medium\"])"
   ]
  },
  {
   "cell_type": "markdown",
   "id": "1c4d4e20",
   "metadata": {},
   "source": [
    "### Pre-proc"
   ]
  },
  {
   "cell_type": "code",
   "execution_count": 6,
   "id": "b90ad5f3",
   "metadata": {},
   "outputs": [],
   "source": [
    "#CONVERT PRICE TO REAL MONEYS\n",
    "df.old_price = df_original.old_price*0.24\n",
    "df.new_price = df_original.new_price*0.24"
   ]
  },
  {
   "cell_type": "code",
   "execution_count": 7,
   "id": "3e5d7c9a",
   "metadata": {},
   "outputs": [],
   "source": [
    "#REMOVE THE CHILD\n",
    "df.drop(index=df[df.department == 'Kids Unisex'].index, inplace=True)\n",
    "df.drop(index=df[df.department == 'Unisex'].index, inplace=True)"
   ]
  },
  {
   "cell_type": "code",
   "execution_count": 8,
   "id": "9ddc5198",
   "metadata": {},
   "outputs": [],
   "source": [
    "#REMOVE THE OIL\n",
    "df.drop(index=df[df.concentration == 'Oil'].index, inplace=True)\n",
    "df.drop(index=df[df.concentration == 'EDC'].index, inplace=True)"
   ]
  },
  {
   "cell_type": "code",
   "execution_count": 9,
   "id": "d99275a5",
   "metadata": {},
   "outputs": [],
   "source": [
    "#REMOVE THE PDT\n",
    "df.drop(index=df[df.concentration == 'PDT'].index, inplace=True)"
   ]
  },
  {
   "cell_type": "code",
   "execution_count": 10,
   "id": "75e6626e",
   "metadata": {},
   "outputs": [
    {
     "data": {
      "text/html": [
       "<div>\n",
       "<style scoped>\n",
       "    .dataframe tbody tr th:only-of-type {\n",
       "        vertical-align: middle;\n",
       "    }\n",
       "\n",
       "    .dataframe tbody tr th {\n",
       "        vertical-align: top;\n",
       "    }\n",
       "\n",
       "    .dataframe thead th {\n",
       "        text-align: right;\n",
       "    }\n",
       "</style>\n",
       "<table border=\"1\" class=\"dataframe\">\n",
       "  <thead>\n",
       "    <tr style=\"text-align: right;\">\n",
       "      <th></th>\n",
       "      <th>brand</th>\n",
       "      <th>concentration</th>\n",
       "      <th>scents</th>\n",
       "      <th>price</th>\n",
       "    </tr>\n",
       "  </thead>\n",
       "  <tbody>\n",
       "    <tr>\n",
       "      <th>10</th>\n",
       "      <td>CERRUTI 1881</td>\n",
       "      <td>EDT</td>\n",
       "      <td>Fresh</td>\n",
       "      <td>medium</td>\n",
       "    </tr>\n",
       "    <tr>\n",
       "      <th>11</th>\n",
       "      <td>Calvin Klein</td>\n",
       "      <td>EDT</td>\n",
       "      <td>Citrus</td>\n",
       "      <td>cheap</td>\n",
       "    </tr>\n",
       "    <tr>\n",
       "      <th>12</th>\n",
       "      <td>Rasasi</td>\n",
       "      <td>EDP</td>\n",
       "      <td>Fruity</td>\n",
       "      <td>cheap</td>\n",
       "    </tr>\n",
       "    <tr>\n",
       "      <th>13</th>\n",
       "      <td>MONTALE</td>\n",
       "      <td>EDP</td>\n",
       "      <td>Floral</td>\n",
       "      <td>expensive</td>\n",
       "    </tr>\n",
       "    <tr>\n",
       "      <th>14</th>\n",
       "      <td>Yves Saint Laurent</td>\n",
       "      <td>EDT</td>\n",
       "      <td>Woody</td>\n",
       "      <td>expensive</td>\n",
       "    </tr>\n",
       "  </tbody>\n",
       "</table>\n",
       "</div>"
      ],
      "text/plain": [
       "                 brand concentration  scents      price\n",
       "10        CERRUTI 1881           EDT   Fresh     medium\n",
       "11        Calvin Klein           EDT  Citrus      cheap\n",
       "12              Rasasi           EDP  Fruity      cheap\n",
       "13             MONTALE           EDP  Floral  expensive\n",
       "14  Yves Saint Laurent           EDT   Woody  expensive"
      ]
     },
     "execution_count": 10,
     "metadata": {},
     "output_type": "execute_result"
    }
   ],
   "source": [
    "notes = df[['base_note', 'middle_note']].values\n",
    "base_note = df['base_note'].values\n",
    "middle_note = df['middle_note'].values\n",
    "\n",
    "scents = df['scents'].values\n",
    "cat_df = df[['brand', 'concentration','scents','price']]"
   ]
  },
  {
   "cell_type": "markdown",
   "id": "438c065e",
   "metadata": {},
   "source": [
    "### Kmodes on Daniels code\n"
   ]
  },
  {
   "cell_type": "code",
   "execution_count": 13,
   "id": "c1d2e94a",
   "metadata": {
    "scrolled": false
   },
   "outputs": [
    {
     "data": {
      "text/plain": [
       "[<matplotlib.lines.Line2D at 0x24b1b08a250>]"
      ]
     },
     "execution_count": 13,
     "metadata": {},
     "output_type": "execute_result"
    },
    {
     "data": {
      "image/png": "[encoded data removed]",
      "text/plain": [
       "<Figure size 576x396 with 1 Axes>"
      ]
     },
     "metadata": {},
     "output_type": "display_data"
    }
   ],
   "source": [
    "pricelist = []\n",
    "\n",
    "for i in range(2,8):\n",
    "    kmode = KModes(n_clusters=i, init = \"random\", n_init = 10)\n",
    "    kmode.fit(cat_df)\n",
    "    pricelist.append([i, min(kmode.epoch_costs_)])\n",
    "\n",
    "\n",
    "prices = np.array(pricelist)\n",
    "plt.plot(prices[:,0], prices[:,1])\n"
   ]
  },
  {
   "cell_type": "code",
   "execution_count": 14,
   "id": "f99ef02a",
   "metadata": {},
   "outputs": [
    {
     "name": "stdout",
     "output_type": "stream",
     "text": [
      "[['GUCCI' 'EDP' 'Floral' 'expensive']\n",
      " ['BURBERRY' 'EDP' 'Floral' 'medium']\n",
      " ['HUGO BOSS' 'EDT' 'Woody' 'medium']\n",
      " ['DORALL COLLECTION' 'EDT' 'Woody' 'cheap']]\n"
     ]
    }
   ],
   "source": [
    "from kmodes.util.dissim import jaccard_dissim_label, ng_dissim\n",
    "\n",
    "\n",
    "kmode = KModes(n_clusters=4, max_iter=400, init = \"random\", \n",
    "               n_init = 30, random_state=248190)\n",
    "preds = kmode.fit_predict(cat_df)\n",
    "print(kmode.cluster_centroids_)"
   ]
  },
  {
   "cell_type": "code",
   "execution_count": 45,
   "id": "59c44344",
   "metadata": {},
   "outputs": [],
   "source": [
    "gender = df.department.apply(lambda y: 1 if y == 'Women' else 0)\n",
    "df_corr = df.copy()\n",
    "df_corr.drop(['old_price','new_price','ml','seller_rating','brand','name','department', 'scents', 'base_note', 'middle_note', 'seller','num_seller_ratings','price'], axis=1, inplace=True)\n",
    "df_corr['gender'] = mlb.fit_transform(gender)\n",
    "df_corr['concentration'] = mlb.fit_transform(df.concentration)\n",
    "\n",
    "df_corr[df_corr.columns] = scaler.fit_transform(df_corr[df_corr.columns])\n",
    "df_corr['clusters'] = preds"
   ]
  },
  {
   "cell_type": "code",
   "execution_count": 46,
   "id": "89cd1f14",
   "metadata": {},
   "outputs": [],
   "source": [
    "l = 0\n",
    "for i in range(len(kmode.cluster_centroids_)):\n",
    "    \n",
    "    subset = (df_corr.clusters == i)\n",
    "    if not l:\n",
    "        means = df_corr[subset].mean()[:-1]\n",
    "        l = 1\n",
    "    else:\n",
    "        means = np.vstack((means, df_corr[subset].mean()[:-1]))"
   ]
  },
  {
   "cell_type": "code",
   "execution_count": 76,
   "id": "a03b512b",
   "metadata": {},
   "outputs": [
    {
     "data": {
      "image/png": "[encoded data removed]",
      "text/plain": [
       "<Figure size 1224x576 with 1 Axes>"
      ]
     },
     "metadata": {},
     "output_type": "display_data"
    }
   ],
   "source": [
    "means_spaced = np.hstack((means.T, np.zeros((means.T.shape[0],1)))).flatten()\n",
    "\n",
    "cmap = cm.hsv\n",
    "colors = np.resize(np.arange(len(kmode.cluster_centroids_)+1), (means.T.shape[0]+1)*means.T.shape[1])\n",
    "norm = mpl.colors.Normalize(vmin=min(colors), vmax=max(colors))\n",
    "m = cm.ScalarMappable(norm=norm, cmap=cmap)\n",
    "\n",
    "\n",
    "plt.figure(figsize=(17,8))\n",
    "plot = plt.bar(range(len(means_spaced)), means_spaced, color=m.to_rgba(colors))\n",
    "\n",
    "\n",
    "tick_spacing = np.linspace(0, len(means_spaced), len(means.T)+1)[:-1]+1.5\n",
    "\n",
    "\n",
    "plt.xticks(ticks = tick_spacing, labels=df_corr.columns[:-1]);\n",
    "plt.legend(handles=plot[:4],labels=[\"cluster {}\".format(i+1) for i in range(kmode.get_params()['n_clusters'])]);\n"
   ]
  },
  {
   "cell_type": "markdown",
   "id": "cf6800e6",
   "metadata": {},
   "source": [
    "two similiar clusters (in this case red and green): clustering the same concentration and gender, but one is VERY expensive while the other is cheap. Interestingly the cheaper ones are better rated. This could be seen as a way to explore consumer satisfaction (cluster 2 wins)"
   ]
  },
  {
   "cell_type": "code",
   "execution_count": 29,
   "id": "702cc026",
   "metadata": {
    "scrolled": true
   },
   "outputs": [
    {
     "data": {
      "text/html": [
       "<div>\n",
       "<style scoped>\n",
       "    .dataframe tbody tr th:only-of-type {\n",
       "        vertical-align: middle;\n",
       "    }\n",
       "\n",
       "    .dataframe tbody tr th {\n",
       "        vertical-align: top;\n",
       "    }\n",
       "\n",
       "    .dataframe thead th {\n",
       "        text-align: right;\n",
       "    }\n",
       "</style>\n",
       "<table border=\"1\" class=\"dataframe\">\n",
       "  <thead>\n",
       "    <tr style=\"text-align: right;\">\n",
       "      <th></th>\n",
       "      <th>concentration</th>\n",
       "      <th>item_rating</th>\n",
       "      <th>price_ml</th>\n",
       "      <th>gender</th>\n",
       "      <th>cluster_1</th>\n",
       "      <th>cluster_2</th>\n",
       "      <th>cluster_3</th>\n",
       "      <th>cluster_4</th>\n",
       "    </tr>\n",
       "  </thead>\n",
       "  <tbody>\n",
       "    <tr>\n",
       "      <th>concentration</th>\n",
       "      <td>1.000000</td>\n",
       "      <td>-0.117736</td>\n",
       "      <td>-0.296901</td>\n",
       "      <td>-0.580816</td>\n",
       "      <td>-0.410549</td>\n",
       "      <td>-0.435713</td>\n",
       "      <td>0.541643</td>\n",
       "      <td>0.410654</td>\n",
       "    </tr>\n",
       "    <tr>\n",
       "      <th>item_rating</th>\n",
       "      <td>-0.117736</td>\n",
       "      <td>1.000000</td>\n",
       "      <td>0.053495</td>\n",
       "      <td>0.106680</td>\n",
       "      <td>0.017585</td>\n",
       "      <td>0.094414</td>\n",
       "      <td>-0.051981</td>\n",
       "      <td>-0.077224</td>\n",
       "    </tr>\n",
       "    <tr>\n",
       "      <th>price_ml</th>\n",
       "      <td>-0.296901</td>\n",
       "      <td>0.053495</td>\n",
       "      <td>1.000000</td>\n",
       "      <td>0.195403</td>\n",
       "      <td>0.577822</td>\n",
       "      <td>-0.102123</td>\n",
       "      <td>-0.109787</td>\n",
       "      <td>-0.447751</td>\n",
       "    </tr>\n",
       "    <tr>\n",
       "      <th>gender</th>\n",
       "      <td>-0.580816</td>\n",
       "      <td>0.106680</td>\n",
       "      <td>0.195403</td>\n",
       "      <td>1.000000</td>\n",
       "      <td>0.267545</td>\n",
       "      <td>0.364628</td>\n",
       "      <td>-0.475956</td>\n",
       "      <td>-0.226148</td>\n",
       "    </tr>\n",
       "    <tr>\n",
       "      <th>cluster_1</th>\n",
       "      <td>-0.410549</td>\n",
       "      <td>0.017585</td>\n",
       "      <td>0.577822</td>\n",
       "      <td>0.267545</td>\n",
       "      <td>1.000000</td>\n",
       "      <td>-0.417665</td>\n",
       "      <td>-0.358989</td>\n",
       "      <td>-0.288980</td>\n",
       "    </tr>\n",
       "    <tr>\n",
       "      <th>cluster_2</th>\n",
       "      <td>-0.435713</td>\n",
       "      <td>0.094414</td>\n",
       "      <td>-0.102123</td>\n",
       "      <td>0.364628</td>\n",
       "      <td>-0.417665</td>\n",
       "      <td>1.000000</td>\n",
       "      <td>-0.368364</td>\n",
       "      <td>-0.296526</td>\n",
       "    </tr>\n",
       "    <tr>\n",
       "      <th>cluster_3</th>\n",
       "      <td>0.541643</td>\n",
       "      <td>-0.051981</td>\n",
       "      <td>-0.109787</td>\n",
       "      <td>-0.475956</td>\n",
       "      <td>-0.358989</td>\n",
       "      <td>-0.368364</td>\n",
       "      <td>1.000000</td>\n",
       "      <td>-0.254869</td>\n",
       "    </tr>\n",
       "    <tr>\n",
       "      <th>cluster_4</th>\n",
       "      <td>0.410654</td>\n",
       "      <td>-0.077224</td>\n",
       "      <td>-0.447751</td>\n",
       "      <td>-0.226148</td>\n",
       "      <td>-0.288980</td>\n",
       "      <td>-0.296526</td>\n",
       "      <td>-0.254869</td>\n",
       "      <td>1.000000</td>\n",
       "    </tr>\n",
       "  </tbody>\n",
       "</table>\n",
       "</div>"
      ],
      "text/plain": [
       "               concentration  item_rating  price_ml    gender  cluster_1  \\\n",
       "concentration       1.000000    -0.117736 -0.296901 -0.580816  -0.410549   \n",
       "item_rating        -0.117736     1.000000  0.053495  0.106680   0.017585   \n",
       "price_ml           -0.296901     0.053495  1.000000  0.195403   0.577822   \n",
       "gender             -0.580816     0.106680  0.195403  1.000000   0.267545   \n",
       "cluster_1          -0.410549     0.017585  0.577822  0.267545   1.000000   \n",
       "cluster_2          -0.435713     0.094414 -0.102123  0.364628  -0.417665   \n",
       "cluster_3           0.541643    -0.051981 -0.109787 -0.475956  -0.358989   \n",
       "cluster_4           0.410654    -0.077224 -0.447751 -0.226148  -0.288980   \n",
       "\n",
       "               cluster_2  cluster_3  cluster_4  \n",
       "concentration  -0.435713   0.541643   0.410654  \n",
       "item_rating     0.094414  -0.051981  -0.077224  \n",
       "price_ml       -0.102123  -0.109787  -0.447751  \n",
       "gender          0.364628  -0.475956  -0.226148  \n",
       "cluster_1      -0.417665  -0.358989  -0.288980  \n",
       "cluster_2       1.000000  -0.368364  -0.296526  \n",
       "cluster_3      -0.368364   1.000000  -0.254869  \n",
       "cluster_4      -0.296526  -0.254869   1.000000  "
      ]
     },
     "execution_count": 29,
     "metadata": {},
     "output_type": "execute_result"
    }
   ],
   "source": [
    "df_corr.drop(columns=[\"clusters\"],inplace=True)\n",
    "for i in range(0, max(preds)+1):\n",
    "    col = pd.Series(preds).apply(lambda y: 1 if y == i else 0)\n",
    "    df_corr[\"cluster_{}\".format(i+1)] = np.array(col)\n",
    "\n",
    "df_corr.corr()"
   ]
  },
  {
   "cell_type": "markdown",
   "id": "cd8eec89",
   "metadata": {},
   "source": [
    "### Plotting for Daniel"
   ]
  },
  {
   "cell_type": "code",
   "execution_count": 19,
   "id": "0216d665",
   "metadata": {},
   "outputs": [],
   "source": [
    "vect_base = ReplaceCountVectorizer(max_features = 50, stop_words = ['accord', 'accords', 'note', 'notes', 'and', 'with', 'of', 'by', 'ectract', 'co', 'essence', 'masculine'])\n",
    "X1 = vect_base.fit_transform(base_note)\n",
    "\n",
    "base_names = vect_base.get_feature_names()\n",
    "base_df = pd.DataFrame(X1.todense(), columns = base_names)\n",
    "base_df['gender'] = mlb.fit_transform(gender)\n",
    "base_df[base_df.columns] = scaler.fit_transform(base_df[base_df.columns.values])\n",
    "\n",
    "mean_prices = []\n",
    "modes = []\n",
    "\n",
    "for note in base_names:\n",
    "    mean = df.price_ml[df['base_note'].str.contains(note, case=False)].mean()\n",
    "    mode = stats.mode(preds[df['base_note'].str.contains(note, case=False)], nan_policy='omit')[0]\n",
    "    modes.append(mode)\n",
    "    mean_prices.append(mean)"
   ]
  },
  {
   "cell_type": "code",
   "execution_count": 20,
   "id": "38bf063c",
   "metadata": {},
   "outputs": [
    {
     "data": {
      "image/png": "[encoded data removed]",
      "text/plain": [
       "<Figure size 1280x960 with 1 Axes>"
      ]
     },
     "metadata": {},
     "output_type": "display_data"
    }
   ],
   "source": [
    "norm = mpl.colors.Normalize(vmin=min(modes)[0], vmax=max(modes)[0]+1)\n",
    "cmap = cm.hsv\n",
    "m = cm.ScalarMappable(norm=norm, cmap=cmap)\n",
    "\n",
    "X = base_df.corr().iloc[-1][:-1] # Correlation between base notes and gender M/F\n",
    "Y = mean_prices # Mean price for each\n",
    "Z = sum(X1.toarray())\n",
    "plt.style.use('seaborn')\n",
    "plt.figure(figsize=(16, 12), dpi=80)\n",
    "plt.scatter(X,Y, s =0, c=modes)\n",
    "for i, d in enumerate(zip(X,Y)):\n",
    "    plt.annotate(base_names[i], d, ha='center',color=m.to_rgba(int(modes[i])), va='center',fontsize = Z[i]/23 + 10); # Fontsize needs to be scaled, I thought this was optimal to keep everything readable"
   ]
  }
 ],
 "metadata": {
  "kernelspec": {
   "display_name": "Python 3 (ipykernel)",
   "language": "python",
   "name": "python3"
  },
  "language_info": {
   "codemirror_mode": {
    "name": "ipython",
    "version": 3
   },
   "file_extension": ".py",
   "mimetype": "text/x-python",
   "name": "python",
   "nbconvert_exporter": "python",
   "pygments_lexer": "ipython3",
   "version": "3.9.7"
  }
 },
 "nbformat": 4,
 "nbformat_minor": 5
}
