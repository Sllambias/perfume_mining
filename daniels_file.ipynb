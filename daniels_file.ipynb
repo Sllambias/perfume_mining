{
 "cells": [
  {
   "cell_type": "code",
   "execution_count": 43,
   "metadata": {},
   "outputs": [],
   "source": [
    "import random\n",
    "import pandas as pd\n",
    "from matplotlib import pyplot as plt\n",
    "import numpy as np\n",
    "from sklearn import model_selection\n",
    "from sklearn.feature_extraction.text import CountVectorizer\n",
    "from sklearn.naive_bayes import BernoulliNB\n",
    "from sklearn.neighbors import KNeighborsClassifier\n",
    "from sklearn.linear_model import Perceptron\n",
    "from sklearn.ensemble import RandomForestClassifier\n",
    "from sklearn.neural_network import MLPClassifier\n",
    "from sklearn.svm import SVC\n",
    "from sklearn.dummy import DummyClassifier\n",
    "from sklearn.metrics import accuracy_score\n",
    "from sklearn.model_selection import cross_val_score\n",
    "from sklearn.preprocessing import LabelEncoder\n",
    "from statistics import stdev\n",
    "from collections import Counter\n",
    "import matplotlib.patches as mpatches\n",
    "\n"
   ]
  },
  {
   "cell_type": "code",
   "execution_count": 2,
   "metadata": {},
   "outputs": [
    {
     "data": {
      "text/html": [
       "<div>\n",
       "<style scoped>\n",
       "    .dataframe tbody tr th:only-of-type {\n",
       "        vertical-align: middle;\n",
       "    }\n",
       "\n",
       "    .dataframe tbody tr th {\n",
       "        vertical-align: top;\n",
       "    }\n",
       "\n",
       "    .dataframe thead th {\n",
       "        text-align: right;\n",
       "    }\n",
       "</style>\n",
       "<table border=\"1\" class=\"dataframe\">\n",
       "  <thead>\n",
       "    <tr style=\"text-align: right;\">\n",
       "      <th></th>\n",
       "      <th>brand</th>\n",
       "      <th>name</th>\n",
       "      <th>old_price</th>\n",
       "      <th>new_price</th>\n",
       "      <th>ml</th>\n",
       "      <th>concentration</th>\n",
       "      <th>department</th>\n",
       "      <th>scents</th>\n",
       "      <th>base_note</th>\n",
       "      <th>middle_note</th>\n",
       "      <th>item_rating</th>\n",
       "      <th>seller</th>\n",
       "      <th>seller_rating</th>\n",
       "      <th>num_seller_ratings</th>\n",
       "    </tr>\n",
       "  </thead>\n",
       "  <tbody>\n",
       "    <tr>\n",
       "      <th>0</th>\n",
       "      <td>PACO RABANNE</td>\n",
       "      <td>1 Million Lucky</td>\n",
       "      <td>395.0</td>\n",
       "      <td>244.55</td>\n",
       "      <td>100</td>\n",
       "      <td>EDT</td>\n",
       "      <td>Men</td>\n",
       "      <td>Woody</td>\n",
       "      <td>Oakmoss, Patchouli and Vetiver</td>\n",
       "      <td>Hazelnut, Jasmine, Cashmir Wood, Cedar and Honey</td>\n",
       "      <td>5.0</td>\n",
       "      <td>noon</td>\n",
       "      <td>4.2</td>\n",
       "      <td>98.1K</td>\n",
       "    </tr>\n",
       "    <tr>\n",
       "      <th>1</th>\n",
       "      <td>Roberto Cavalli</td>\n",
       "      <td>Paradiso Assoluto</td>\n",
       "      <td>415.0</td>\n",
       "      <td>107.95</td>\n",
       "      <td>50</td>\n",
       "      <td>EDP</td>\n",
       "      <td>Women</td>\n",
       "      <td>Floral</td>\n",
       "      <td>Vanilla, Sandalwood And Patchouli</td>\n",
       "      <td>Wild Jasmine and Red Lily</td>\n",
       "      <td>4.8</td>\n",
       "      <td>noon</td>\n",
       "      <td>4.2</td>\n",
       "      <td>98.1K</td>\n",
       "    </tr>\n",
       "    <tr>\n",
       "      <th>2</th>\n",
       "      <td>S.T.Dupont</td>\n",
       "      <td>Royal Amber</td>\n",
       "      <td>265.0</td>\n",
       "      <td>186.90</td>\n",
       "      <td>100</td>\n",
       "      <td>EDP</td>\n",
       "      <td>Unisex</td>\n",
       "      <td>Arabian</td>\n",
       "      <td>Lemon, Mint and Wood Moss</td>\n",
       "      <td>Sandalwood and Cedar</td>\n",
       "      <td>5.0</td>\n",
       "      <td>noon</td>\n",
       "      <td>4.2</td>\n",
       "      <td>98.1K</td>\n",
       "    </tr>\n",
       "    <tr>\n",
       "      <th>3</th>\n",
       "      <td>GUESS</td>\n",
       "      <td>Seductive Blue</td>\n",
       "      <td>290.0</td>\n",
       "      <td>103.20</td>\n",
       "      <td>100</td>\n",
       "      <td>EDT</td>\n",
       "      <td>Men</td>\n",
       "      <td>Spicy</td>\n",
       "      <td>Cashmere Wood, Moss And Rippled Sand Accord</td>\n",
       "      <td>Blue Coral Aquaspace Accord And Geranium</td>\n",
       "      <td>3.0</td>\n",
       "      <td>noon</td>\n",
       "      <td>4.2</td>\n",
       "      <td>98.1K</td>\n",
       "    </tr>\n",
       "    <tr>\n",
       "      <th>4</th>\n",
       "      <td>Roberto Cavalli</td>\n",
       "      <td>Uomo</td>\n",
       "      <td>260.0</td>\n",
       "      <td>94.95</td>\n",
       "      <td>50</td>\n",
       "      <td>EDP</td>\n",
       "      <td>Women</td>\n",
       "      <td>Arabian</td>\n",
       "      <td>Vanille, Benzoin, Tonka Bean</td>\n",
       "      <td>African Orange Flower</td>\n",
       "      <td>4.8</td>\n",
       "      <td>noon</td>\n",
       "      <td>4.2</td>\n",
       "      <td>98.1K</td>\n",
       "    </tr>\n",
       "    <tr>\n",
       "      <th>...</th>\n",
       "      <td>...</td>\n",
       "      <td>...</td>\n",
       "      <td>...</td>\n",
       "      <td>...</td>\n",
       "      <td>...</td>\n",
       "      <td>...</td>\n",
       "      <td>...</td>\n",
       "      <td>...</td>\n",
       "      <td>...</td>\n",
       "      <td>...</td>\n",
       "      <td>...</td>\n",
       "      <td>...</td>\n",
       "      <td>...</td>\n",
       "      <td>...</td>\n",
       "    </tr>\n",
       "    <tr>\n",
       "      <th>987</th>\n",
       "      <td>HUGO BOSS</td>\n",
       "      <td>Bottled Night</td>\n",
       "      <td>688.0</td>\n",
       "      <td>250.00</td>\n",
       "      <td>200</td>\n",
       "      <td>EDT</td>\n",
       "      <td>Men</td>\n",
       "      <td>Woody</td>\n",
       "      <td>Musk, Woody Notes</td>\n",
       "      <td>Violet</td>\n",
       "      <td>4.5</td>\n",
       "      <td>Lady Style</td>\n",
       "      <td>3.6</td>\n",
       "      <td>5</td>\n",
       "    </tr>\n",
       "    <tr>\n",
       "      <th>995</th>\n",
       "      <td>BVLGARI</td>\n",
       "      <td>Petits Et Mamans</td>\n",
       "      <td>327.0</td>\n",
       "      <td>197.75</td>\n",
       "      <td>100</td>\n",
       "      <td>EDT</td>\n",
       "      <td>Women</td>\n",
       "      <td>Floral</td>\n",
       "      <td>Iris and Vanilla</td>\n",
       "      <td>White Peach</td>\n",
       "      <td>4.8</td>\n",
       "      <td>Tiffany</td>\n",
       "      <td>4.1</td>\n",
       "      <td>75</td>\n",
       "    </tr>\n",
       "    <tr>\n",
       "      <th>997</th>\n",
       "      <td>Roberto Cavalli</td>\n",
       "      <td>Paradiso Azzurro</td>\n",
       "      <td>499.0</td>\n",
       "      <td>165.00</td>\n",
       "      <td>75</td>\n",
       "      <td>EDP</td>\n",
       "      <td>Women</td>\n",
       "      <td>Fruity</td>\n",
       "      <td>Cypress, Cashmere Wood, Amber wood, Sandalwood...</td>\n",
       "      <td>Wild Jasmine, Watery Notes, Apple, Tuberose, P...</td>\n",
       "      <td>4.7</td>\n",
       "      <td>Beauty Group</td>\n",
       "      <td>4.3</td>\n",
       "      <td>124</td>\n",
       "    </tr>\n",
       "    <tr>\n",
       "      <th>999</th>\n",
       "      <td>BURBERRY</td>\n",
       "      <td>For Women EDP Natural Sp</td>\n",
       "      <td>378.0</td>\n",
       "      <td>153.75</td>\n",
       "      <td>100</td>\n",
       "      <td>EDT</td>\n",
       "      <td>Women</td>\n",
       "      <td>Fruity</td>\n",
       "      <td>Musk And Vanilla</td>\n",
       "      <td>Woody-Floral, Sandalwood And Cedar</td>\n",
       "      <td>4.8</td>\n",
       "      <td>noon</td>\n",
       "      <td>4.2</td>\n",
       "      <td>98.1K</td>\n",
       "    </tr>\n",
       "    <tr>\n",
       "      <th>1001</th>\n",
       "      <td>SWISS ARABIAN</td>\n",
       "      <td>Layali CPO At</td>\n",
       "      <td>126.0</td>\n",
       "      <td>77.00</td>\n",
       "      <td>15</td>\n",
       "      <td>EDT</td>\n",
       "      <td>Unisex</td>\n",
       "      <td>Arabian</td>\n",
       "      <td>Agarwood and Amber</td>\n",
       "      <td>Ylang-Ylang, Rose and Jasmine</td>\n",
       "      <td>4.0</td>\n",
       "      <td>Swiss Arabian PerfumesPRICE UPDATE WITH 15% VA...</td>\n",
       "      <td>3.9</td>\n",
       "      <td>5</td>\n",
       "    </tr>\n",
       "  </tbody>\n",
       "</table>\n",
       "<p>903 rows × 14 columns</p>\n",
       "</div>"
      ],
      "text/plain": [
       "                brand                      name  old_price  new_price   ml  \\\n",
       "0        PACO RABANNE           1 Million Lucky      395.0     244.55  100   \n",
       "1     Roberto Cavalli         Paradiso Assoluto      415.0     107.95   50   \n",
       "2          S.T.Dupont               Royal Amber      265.0     186.90  100   \n",
       "3               GUESS            Seductive Blue      290.0     103.20  100   \n",
       "4     Roberto Cavalli                      Uomo      260.0      94.95   50   \n",
       "...               ...                       ...        ...        ...  ...   \n",
       "987         HUGO BOSS             Bottled Night      688.0     250.00  200   \n",
       "995           BVLGARI          Petits Et Mamans      327.0     197.75  100   \n",
       "997   Roberto Cavalli          Paradiso Azzurro      499.0     165.00   75   \n",
       "999          BURBERRY  For Women EDP Natural Sp      378.0     153.75  100   \n",
       "1001    SWISS ARABIAN             Layali CPO At      126.0      77.00   15   \n",
       "\n",
       "     concentration department   scents  \\\n",
       "0              EDT        Men    Woody   \n",
       "1              EDP      Women   Floral   \n",
       "2              EDP     Unisex  Arabian   \n",
       "3              EDT        Men    Spicy   \n",
       "4              EDP      Women  Arabian   \n",
       "...            ...        ...      ...   \n",
       "987            EDT        Men    Woody   \n",
       "995            EDT      Women   Floral   \n",
       "997            EDP      Women   Fruity   \n",
       "999            EDT      Women   Fruity   \n",
       "1001           EDT     Unisex  Arabian   \n",
       "\n",
       "                                              base_note  \\\n",
       "0                        Oakmoss, Patchouli and Vetiver   \n",
       "1                     Vanilla, Sandalwood And Patchouli   \n",
       "2                             Lemon, Mint and Wood Moss   \n",
       "3           Cashmere Wood, Moss And Rippled Sand Accord   \n",
       "4                          Vanille, Benzoin, Tonka Bean   \n",
       "...                                                 ...   \n",
       "987                                   Musk, Woody Notes   \n",
       "995                                    Iris and Vanilla   \n",
       "997   Cypress, Cashmere Wood, Amber wood, Sandalwood...   \n",
       "999                                    Musk And Vanilla   \n",
       "1001                                 Agarwood and Amber   \n",
       "\n",
       "                                            middle_note  item_rating  \\\n",
       "0      Hazelnut, Jasmine, Cashmir Wood, Cedar and Honey          5.0   \n",
       "1                             Wild Jasmine and Red Lily          4.8   \n",
       "2                                  Sandalwood and Cedar          5.0   \n",
       "3              Blue Coral Aquaspace Accord And Geranium          3.0   \n",
       "4                                 African Orange Flower          4.8   \n",
       "...                                                 ...          ...   \n",
       "987                                              Violet          4.5   \n",
       "995                                         White Peach          4.8   \n",
       "997   Wild Jasmine, Watery Notes, Apple, Tuberose, P...          4.7   \n",
       "999                  Woody-Floral, Sandalwood And Cedar          4.8   \n",
       "1001                      Ylang-Ylang, Rose and Jasmine          4.0   \n",
       "\n",
       "                                                 seller  seller_rating  \\\n",
       "0                                                  noon            4.2   \n",
       "1                                                  noon            4.2   \n",
       "2                                                  noon            4.2   \n",
       "3                                                  noon            4.2   \n",
       "4                                                  noon            4.2   \n",
       "...                                                 ...            ...   \n",
       "987                                          Lady Style            3.6   \n",
       "995                                             Tiffany            4.1   \n",
       "997                                        Beauty Group            4.3   \n",
       "999                                                noon            4.2   \n",
       "1001  Swiss Arabian PerfumesPRICE UPDATE WITH 15% VA...            3.9   \n",
       "\n",
       "     num_seller_ratings  \n",
       "0                 98.1K  \n",
       "1                 98.1K  \n",
       "2                 98.1K  \n",
       "3                 98.1K  \n",
       "4                 98.1K  \n",
       "...                 ...  \n",
       "987                   5  \n",
       "995                  75  \n",
       "997                 124  \n",
       "999               98.1K  \n",
       "1001                  5  \n",
       "\n",
       "[903 rows x 14 columns]"
      ]
     },
     "execution_count": 2,
     "metadata": {},
     "output_type": "execute_result"
    }
   ],
   "source": [
    "df = pd.read_csv(\"data/noon_perfumes_dataset.csv\", index_col=0)\n",
    "df = df.drop_duplicates()\n",
    "df"
   ]
  },
  {
   "cell_type": "code",
   "execution_count": 3,
   "metadata": {},
   "outputs": [
    {
     "data": {
      "text/html": [
       "<div>\n",
       "<style scoped>\n",
       "    .dataframe tbody tr th:only-of-type {\n",
       "        vertical-align: middle;\n",
       "    }\n",
       "\n",
       "    .dataframe tbody tr th {\n",
       "        vertical-align: top;\n",
       "    }\n",
       "\n",
       "    .dataframe thead th {\n",
       "        text-align: right;\n",
       "    }\n",
       "</style>\n",
       "<table border=\"1\" class=\"dataframe\">\n",
       "  <thead>\n",
       "    <tr style=\"text-align: right;\">\n",
       "      <th></th>\n",
       "      <th>brand</th>\n",
       "      <th>name</th>\n",
       "      <th>old_price</th>\n",
       "      <th>new_price</th>\n",
       "      <th>ml</th>\n",
       "      <th>concentration</th>\n",
       "      <th>department</th>\n",
       "      <th>scents</th>\n",
       "      <th>base_note</th>\n",
       "      <th>middle_note</th>\n",
       "      <th>item_rating</th>\n",
       "      <th>seller</th>\n",
       "      <th>seller_rating</th>\n",
       "      <th>num_seller_ratings</th>\n",
       "    </tr>\n",
       "  </thead>\n",
       "  <tbody>\n",
       "  </tbody>\n",
       "</table>\n",
       "</div>"
      ],
      "text/plain": [
       "Empty DataFrame\n",
       "Columns: [brand, name, old_price, new_price, ml, concentration, department, scents, base_note, middle_note, item_rating, seller, seller_rating, num_seller_ratings]\n",
       "Index: []"
      ]
     },
     "execution_count": 3,
     "metadata": {},
     "output_type": "execute_result"
    }
   ],
   "source": [
    "df.loc[df['base_note'].isin(['Accord'])]"
   ]
  },
  {
   "cell_type": "markdown",
   "metadata": {},
   "source": [
    "## Supervised Learning"
   ]
  },
  {
   "cell_type": "markdown",
   "metadata": {},
   "source": [
    "#### Predicting gender M/F based on base notes, middle notes and scent"
   ]
  },
  {
   "cell_type": "code",
   "execution_count": 176,
   "metadata": {},
   "outputs": [],
   "source": [
    "df = df[(df[\"department\"] != \"Kids Unisex\")]\n",
    "df = df[(df[\"department\"] != \"Unisex\")]  #We remove kids and unisex because they are small in relation to M/W\n",
    "#Labels\n",
    "gender = df[\"department\"].values\n",
    "#Features\n",
    "base_note = df[\"base_note\"].values\n",
    "middle_note = df[\"middle_note\"].values\n",
    "scents = df[\"scents\"].values"
   ]
  },
  {
   "cell_type": "code",
   "execution_count": null,
   "metadata": {},
   "outputs": [],
   "source": []
  },
  {
   "cell_type": "code",
   "execution_count": 177,
   "metadata": {},
   "outputs": [
    {
     "data": {
      "text/plain": [
       "318"
      ]
     },
     "execution_count": 177,
     "metadata": {},
     "output_type": "execute_result"
    }
   ],
   "source": [
    "vectorizer = CountVectorizer(stop_words = ['note', 'notes', 'and', 'with', 'of', 'by', 'ectract', 'co', 'essence', 'masculine'])\n",
    "X1 = vectorizer.fit_transform(base_note)\n",
    "len(vectorizer.get_feature_names_out())\n"
   ]
  },
  {
   "cell_type": "markdown",
   "metadata": {},
   "source": [
    "We have 'muscs', 'musk', 'musks', 'musky' which we want to treat the same, therefore we will preprocess some more use stemming provided by NLTK plus some a priori replacement"
   ]
  },
  {
   "cell_type": "code",
   "execution_count": 178,
   "metadata": {},
   "outputs": [],
   "source": [
    "from nltk.stem import SnowballStemmer\n",
    "\n",
    "stemmer = SnowballStemmer('english')\n",
    "def replace(t):\n",
    "\n",
    "    if \"amber\" in t:\n",
    "        t = \"amber\"\n",
    "    if \"cash\" in t:\n",
    "        t = \"cashmere\"\n",
    "    if \"flo\" in t:\n",
    "        t = \"floral\"\n",
    "    if \"ced\" in t:\n",
    "        t = \"cedar\"\n",
    "    if \"mu\" in t:\n",
    "        t = \"musk\"\n",
    "    if \"leather\" in t:\n",
    "        t = \"leather\"\n",
    "    if \"lil\" in t:\n",
    "        t = \"lily\"\n",
    "    if \"lacton\" in t:\n",
    "        t = \"lacton\"\n",
    "    if \"labda\" in t:\n",
    "        t = \"labdanum\"\n",
    "    if \"patch\" in t:\n",
    "        t = \"patchouli\"\n",
    "    if \"vanil\" in t:\n",
    "        t = \"vanilla\"\n",
    "    if \"oud\" in t:\n",
    "        t = \"oud\"\n",
    "    if \"oliv\" in t:\n",
    "        t = \"olive\"\n",
    "    if \"sand\" in t:\n",
    "        t = \"sandalwood\"\n",
    "    if \"wood\" in t[:4]:\n",
    "        t = \"wood\"\n",
    "\n",
    "    return t\n",
    "            \n",
    "class StemmedCountVectorizer(CountVectorizer):\n",
    "    \n",
    "     def build_analyzer(self):\n",
    "        analyzer = super(StemmedCountVectorizer, self).build_analyzer()\n",
    "        return lambda doc: ([stemmer.stem(replace(w)) for w in analyzer(doc)])\n",
    "    \n",
    "#    def build_tokenizer(self):\n",
    "#        tokenize = super().build_tokenizer()\n",
    "#        return lambda doc: list(replace(tokenize(doc)))\n",
    "\n",
    "class ReplaceCountVectorizer(CountVectorizer):\n",
    "    \n",
    "     def build_analyzer(self):\n",
    "        analyzer = super(ReplaceCountVectorizer, self).build_analyzer()\n",
    "        return lambda doc: ([replace(w) for w in analyzer(doc)])\n",
    "    "
   ]
  },
  {
   "cell_type": "code",
   "execution_count": 179,
   "metadata": {},
   "outputs": [],
   "source": [
    "vect_base = StemmedCountVectorizer(stop_words = ['note', 'notes', 'and', 'with', 'of', 'by', 'ectract', 'co', 'essence', 'masculine'])\n",
    "vect_middle = StemmedCountVectorizer(stop_words = ['note', 'notes', 'and', 'with', 'of', 'by', 'ectract', 'co', 'essence', 'masculine'])\n",
    "vect_scents = StemmedCountVectorizer(stop_words = ['and'])\n",
    "\n",
    "X1 = vect_base.fit_transform(base_note)\n",
    "X2 = vect_middle.fit_transform(middle_note)\n",
    "X3 = vect_scents.fit_transform(scents)"
   ]
  },
  {
   "cell_type": "code",
   "execution_count": 180,
   "metadata": {},
   "outputs": [],
   "source": [
    "random.state = 43\n",
    "\n",
    "X_comb = np.hstack((X1.toarray(), X2.toarray(), X3.toarray()))\n",
    "\n",
    "nb = BernoulliNB()\n",
    "p = Perceptron()\n",
    "mlp = MLPClassifier(max_iter = 500, solver = 'lbfgs')\n",
    "rf = RandomForestClassifier(n_estimators = 500)\n",
    "knn = KNeighborsClassifier(metric='jaccard', n_neighbors=1)\n",
    "svm = SVC()\n",
    "baseline = DummyClassifier(strategy='most_frequent')\n",
    "\n",
    "classifiers = {\"NB\": nb, \"P\": p, \"MLP\": mlp, \"RF\": rf, \"kNN\": knn, \"SVM\": svm, \"baseline\": baseline}"
   ]
  },
  {
   "cell_type": "code",
   "execution_count": 181,
   "metadata": {},
   "outputs": [
    {
     "data": {
      "text/plain": [
       "((842, 273), (842, 401), (842, 15))"
      ]
     },
     "execution_count": 181,
     "metadata": {},
     "output_type": "execute_result"
    }
   ],
   "source": [
    "X1.toarray().shape, X2.toarray().shape, X3.toarray().shape"
   ]
  },
  {
   "cell_type": "markdown",
   "metadata": {},
   "source": [
    "### Base notes only"
   ]
  },
  {
   "cell_type": "code",
   "execution_count": null,
   "metadata": {},
   "outputs": [],
   "source": [
    "base_scores = {}\n",
    "base_stdevs = {}\n",
    "for name, clf in classifiers.items():\n",
    "    if name == \"kNN\":\n",
    "        scores = cross_val_score(clf,X1.toarray().astype('bool'), gender, cv=5)\n",
    "    else:\n",
    "        scores = cross_val_score(clf,X1.toarray(), gender, cv=5)\n",
    "    mean = scores.mean()\n",
    "    std = stdev(scores)\n",
    "    base_scores[name] = mean\n",
    "    base_stdevs[name] = std"
   ]
  },
  {
   "cell_type": "code",
   "execution_count": null,
   "metadata": {},
   "outputs": [],
   "source": [
    "base_scores"
   ]
  },
  {
   "cell_type": "markdown",
   "metadata": {},
   "source": [
    "#### Middle Notes"
   ]
  },
  {
   "cell_type": "code",
   "execution_count": null,
   "metadata": {},
   "outputs": [],
   "source": [
    "mid_scores = {}\n",
    "mid_stdevs = {}\n",
    "for name, clf in classifiers.items():\n",
    "    if name == \"kNN\":\n",
    "        scores = cross_val_score(clf,X2.toarray().astype('bool'), gender, cv=5)\n",
    "    else:\n",
    "        scores = cross_val_score(clf,X2.toarray(), gender, cv=5)\n",
    "    mean = scores.mean()\n",
    "    std = stdev(scores)\n",
    "    mid_scores[name] = mean\n",
    "    mid_stdevs[name] = std\n",
    "print(mid_scores)"
   ]
  },
  {
   "cell_type": "markdown",
   "metadata": {},
   "source": [
    "#### Scents"
   ]
  },
  {
   "cell_type": "code",
   "execution_count": null,
   "metadata": {},
   "outputs": [],
   "source": [
    "scent_scores = {}\n",
    "scent_stdevs = {}\n",
    "for name, clf in classifiers.items():\n",
    "    if name == \"kNN\":\n",
    "        scores = cross_val_score(clf,X3.toarray().astype('bool'), gender, cv=5)\n",
    "    else:\n",
    "        scores = cross_val_score(clf,X3.toarray(), gender, cv=5)\n",
    "    mean = scores.mean()\n",
    "    std = stdev(scores)\n",
    "    scent_scores[name] = mean\n",
    "    scent_stdevs[name] = std\n",
    "print(scent_scores)"
   ]
  },
  {
   "cell_type": "markdown",
   "metadata": {
    "tags": []
   },
   "source": [
    "### All Features"
   ]
  },
  {
   "cell_type": "code",
   "execution_count": null,
   "metadata": {},
   "outputs": [],
   "source": [
    "comb_scores = {}\n",
    "comb_stdevs = {}\n",
    "for name, clf in classifiers.items():\n",
    "    if name == \"kNN\":\n",
    "        scores = cross_val_score(clf,X_comb.astype('bool'), gender, cv=5)\n",
    "    else:\n",
    "        scores = cross_val_score(clf,X_comb, gender, cv=5)\n",
    "    mean = scores.mean()\n",
    "    std = stdev(scores)\n",
    "    comb_scores[name] = mean\n",
    "    comb_stdevs[name] = std\n",
    "print(comb_scores)"
   ]
  },
  {
   "cell_type": "code",
   "execution_count": null,
   "metadata": {},
   "outputs": [],
   "source": []
  },
  {
   "cell_type": "code",
   "execution_count": null,
   "metadata": {},
   "outputs": [],
   "source": [
    "def roundd(scoredict, n):\n",
    "    for k, v in scoredict.items():\n",
    "        scoredict[k] = round(v,n)\n",
    "    return scoredict"
   ]
  },
  {
   "cell_type": "code",
   "execution_count": null,
   "metadata": {},
   "outputs": [],
   "source": [
    "base_scores = roundd(base_scores,2)\n",
    "mid_scores = roundd(mid_scores,2)\n",
    "scent_scores = roundd(scent_scores,2)\n",
    "comb_scores = roundd(comb_scores,2)\n",
    "\n",
    "rows_list = [base_scores, mid_scores, scent_scores, comb_scores]\n",
    "res = pd.DataFrame(rows_list)\n",
    "res[\" \"] = [\"Base Notes\", \"Middle Notes\", \"Scents\", \"Features Combined\"]\n",
    "res = res.set_index([\" \"])\n",
    "res"
   ]
  },
  {
   "cell_type": "code",
   "execution_count": null,
   "metadata": {},
   "outputs": [],
   "source": [
    "res.to_csv(\"table2.csv\")"
   ]
  },
  {
   "cell_type": "markdown",
   "metadata": {},
   "source": [
    "### SVM Grid Search"
   ]
  },
  {
   "cell_type": "code",
   "execution_count": 182,
   "metadata": {},
   "outputs": [
    {
     "name": "stdout",
     "output_type": "stream",
     "text": [
      "Fitting 5 folds for each of 48 candidates, totalling 240 fits\n",
      "Fitting 5 folds for each of 48 candidates, totalling 240 fits\n",
      "Fitting 5 folds for each of 48 candidates, totalling 240 fits\n",
      "Fitting 5 folds for each of 48 candidates, totalling 240 fits\n",
      "Fitting 5 folds for each of 48 candidates, totalling 240 fits\n",
      "Fitting 5 folds for each of 48 candidates, totalling 240 fits\n",
      "Fitting 5 folds for each of 48 candidates, totalling 240 fits\n",
      "Fitting 5 folds for each of 48 candidates, totalling 240 fits\n",
      "Fitting 5 folds for each of 48 candidates, totalling 240 fits\n",
      "Fitting 5 folds for each of 48 candidates, totalling 240 fits\n",
      "Fitting 5 folds for each of 48 candidates, totalling 240 fits\n",
      "Fitting 5 folds for each of 48 candidates, totalling 240 fits\n",
      "Fitting 5 folds for each of 48 candidates, totalling 240 fits\n",
      "Fitting 5 folds for each of 48 candidates, totalling 240 fits\n",
      "Fitting 5 folds for each of 48 candidates, totalling 240 fits\n",
      "Fitting 5 folds for each of 48 candidates, totalling 240 fits\n",
      "Fitting 5 folds for each of 48 candidates, totalling 240 fits\n",
      "Fitting 5 folds for each of 48 candidates, totalling 240 fits\n",
      "Fitting 5 folds for each of 48 candidates, totalling 240 fits\n",
      "Fitting 5 folds for each of 48 candidates, totalling 240 fits\n",
      "Fitting 5 folds for each of 48 candidates, totalling 240 fits\n",
      "Fitting 5 folds for each of 48 candidates, totalling 240 fits\n",
      "Fitting 5 folds for each of 48 candidates, totalling 240 fits\n",
      "Fitting 5 folds for each of 48 candidates, totalling 240 fits\n",
      "0.73870808678501\n",
      "0.8467526063679911\n",
      "0.7778740490278951\n",
      "0.8990560721329952\n"
     ]
    }
   ],
   "source": [
    "from sklearn.model_selection import GridSearchCV\n",
    "param_grid = {'C': [0.1,1, 10, 100], 'gamma': [1,0.1,0.01,0.001],'kernel': ['rbf', 'poly', 'sigmoid']}\n",
    "\n",
    "grid = GridSearchCV(SVC(),param_grid,refit=True,verbose=1)\n",
    "grid1 = grid.fit(X1,gender)\n",
    "grid2 = grid.fit(X2,gender)\n",
    "grid3 = grid.fit(X3,gender)\n",
    "grid4 = grid.fit(X_comb,gender)\n",
    "\n",
    "grid_scores_base = cross_val_score(grid1, X1, gender)\n",
    "grid_scores_mid = cross_val_score(grid2, X2, gender)\n",
    "grid_scores_scent = cross_val_score(grid3, X3, gender)\n",
    "grid_scores_comb = cross_val_score(grid4, X_comb, gender)\n",
    "\n",
    "print(grid_scores_base.mean())\n",
    "print(grid_scores_mid.mean())\n",
    "print(grid_scores_scent.mean())\n",
    "print(grid_scores_comb.mean())\n"
   ]
  },
  {
   "cell_type": "code",
   "execution_count": 184,
   "metadata": {},
   "outputs": [
    {
     "data": {
      "text/plain": [
       "(SVC(C=10, gamma=0.1),\n",
       " SVC(C=10, gamma=0.1),\n",
       " SVC(C=10, gamma=0.1),\n",
       " SVC(C=10, gamma=0.1))"
      ]
     },
     "execution_count": 184,
     "metadata": {},
     "output_type": "execute_result"
    }
   ],
   "source": [
    "grid1.best_estimator_, grid2.best_estimator_,grid3.best_estimator_,grid4.best_estimator_"
   ]
  },
  {
   "cell_type": "code",
   "execution_count": null,
   "metadata": {},
   "outputs": [],
   "source": []
  },
  {
   "cell_type": "code",
   "execution_count": null,
   "metadata": {},
   "outputs": [],
   "source": []
  },
  {
   "cell_type": "markdown",
   "metadata": {
    "tags": []
   },
   "source": [
    "## Plotting "
   ]
  },
  {
   "cell_type": "code",
   "execution_count": 155,
   "metadata": {},
   "outputs": [],
   "source": [
    "# We will include the top 40 notes for base and middle\n",
    "vect_base = ReplaceCountVectorizer(max_features = 8, stop_words = ['accord', 'accords', 'note', 'notes', 'and', 'with', 'of', 'by', 'ectract', 'co', 'essence', 'masculine'])\n",
    "vect_middle = ReplaceCountVectorizer(max_features = 8, stop_words = ['of', 'the', 'valley', 'note', 'notes', 'and', 'with', 'ectract', 'co', 'essence', 'masculine'])\n",
    "vect_scents = ReplaceCountVectorizer(max_features = 8, stop_words = ['note', 'notes', 'and', 'with', 'of', 'by', 'ectract', 'co', 'essence', 'masculine'])\n",
    "\n",
    "X1 = vect_base.fit_transform(base_note)\n",
    "X2 = vect_middle.fit_transform(middle_note)\n",
    "\n",
    "X3 = vect_scents.fit_transform(scents)\n"
   ]
  },
  {
   "cell_type": "code",
   "execution_count": 153,
   "metadata": {},
   "outputs": [],
   "source": [
    "#gender = df[\"department\"].apply(lambda y: 'Men' if y == 'Unisex' else y)\n",
    "df = df[df.department != \"Unisex\"]\n",
    "\n",
    "\n",
    "scent_names = vect_scents.get_feature_names_out()\n",
    "base_names = vect_base.get_feature_names_out()\n",
    "middle_names = vect_middle.get_feature_names_out()\n",
    "\n",
    "scent_df = pd.DataFrame(X3.todense(), columns = scent_names)\n",
    "#scent_df_all = pd.DataFrame(X4.todense(), columns = scent_names_all)\n",
    "base_df = pd.DataFrame(X1.todense(), columns = base_names)\n",
    "middle_df = pd.DataFrame(X2.todense(), columns = middle_names)\n",
    "\n",
    "mlb = LabelEncoder()\n",
    "\n",
    "scent_df['gender'] = mlb.fit_transform(gender)\n",
    "\n",
    "base_df['gender'] = scent_df['gender']\n",
    "middle_df['gender'] = scent_df['gender']\n",
    "\n"
   ]
  },
  {
   "cell_type": "code",
   "execution_count": null,
   "metadata": {},
   "outputs": [],
   "source": []
  },
  {
   "cell_type": "code",
   "execution_count": 85,
   "metadata": {},
   "outputs": [],
   "source": [
    "\n",
    "mens_count = np.count_nonzero(scent_df['gender'] == 0)\n",
    "womens_count = np.count_nonzero(scent_df['gender'] == 1)\n",
    "\n",
    "men_scents = {}\n",
    "women_scents = {}\n",
    "\n",
    "scent_counts = np.zeros(shape=(len(scent_names),2))\n",
    "for i, scent in enumerate(scent_names):\n",
    "    men_scents[scent] = np.count_nonzero(np.logical_and(scent_df['gender'] == 0, scent_df[scent] == 1))\n",
    "    women_scents[scent] = np.count_nonzero(np.logical_and(scent_df['gender'] == 1, scent_df[scent] == 1))\n",
    "    \n",
    "    scent_counts[i,0] = men_scents[scent]/mens_count\n",
    "    scent_counts[i,1] =  women_scents[scent]/womens_count\n",
    "\n",
    "scent_counts *= 100\n"
   ]
  },
  {
   "cell_type": "code",
   "execution_count": 120,
   "metadata": {},
   "outputs": [],
   "source": [
    "bar_labels = np.empty((6,2), dtype = 'object')\n",
    "for i in range(len(scent_counts)):\n",
    "    for j in range(2):\n",
    "        bar_labels[i,j] = scent_names[i] + \", {:.1f}\".format(scent_counts[i,j]) + \"%\"\n",
    "\n",
    "bar_labels[5,0] = \"Other, {:.1f}\".format(100-sum(scent_counts[:,0])) + \"%\"\n",
    "bar_labels[5,1] = \"Other, {:.1f}\".format(100-sum(scent_counts[:,1])) + \"%\"\n"
   ]
  },
  {
   "cell_type": "code",
   "execution_count": 121,
   "metadata": {},
   "outputs": [
    {
     "data": {
      "image/png": "[encoded data removed]",
      "text/plain": [
       "<Figure size 576x396 with 1 Axes>"
      ]
     },
     "metadata": {},
     "output_type": "display_data"
    }
   ],
   "source": [
    "plt.style.use('seaborn')\n",
    "labels = [\"Men\", \"Women\"]\n",
    "\n",
    "width = 0.5   \n",
    "\n",
    "fig, ax = plt.subplots()\n",
    "bars = []\n",
    "bars.append(ax.bar(labels, scent_counts[0], width, label=scent_names[0]))\n",
    "for i in range(1,len(scent_counts)):\n",
    "\n",
    "    bars.append(ax.bar(labels, scent_counts[i], width, bottom=sum(scent_counts[:i]), label=scent_names[i]))\n",
    "\n",
    "bars.append(ax.bar(labels, 100-sum(scent_counts), width, bottom=sum(scent_counts), label=\"other\"))\n",
    "\n",
    "ax.set_title('Distribution of scents per department')\n",
    "\n",
    "for i, bar in enumerate(bars[:5]):\n",
    "    plt.bar_label(bar, labels = bar_labels[i], label_type ='center')\n",
    "\n",
    "plt.bar_label(bars[5], labels = bar_labels[5], label_type = 'center')\n",
    "\n",
    "plt.savefig('scents_dpt.png', dpi = 300)\n",
    "plt.show()\n"
   ]
  },
  {
   "cell_type": "code",
   "execution_count": 146,
   "metadata": {},
   "outputs": [],
   "source": [
    "def visualize_distribution(df, names, ax):\n",
    "    mens_total = np.count_nonzero(df['gender'] == 0)\n",
    "    womens_total = np.count_nonzero(df['gender'] == 1)\n",
    "  \n",
    "    counts = np.zeros(shape=(len(names),2))\n",
    "    for i, feat in enumerate(names):\n",
    "        men = np.count_nonzero(np.logical_and(df['gender'] == 0, df[feat] == 1))\n",
    "        women = np.count_nonzero(np.logical_and(df['gender'] == 1, df[feat] == 1))\n",
    "\n",
    "        counts[i,0] = men/mens_total\n",
    "        counts[i,1] =  women/womens_total\n",
    "\n",
    "    counts *= 100\n",
    "    print(counts)\n",
    "    bar_labels = np.empty((6,2), dtype = 'object')\n",
    "    for i in range(len(counts)):\n",
    "        for j in range(2):\n",
    "            bar_labels[i,j] = names[i] + \", {:.1f}\".format(counts[i,j]) + \"%\"\n",
    "\n",
    "    bar_labels[5,0] = \"Other, {:.1f}\".format(100-sum(counts[:,0])) + \"%\"\n",
    "    bar_labels[5,1] = \"Other, {:.1f}\".format(100-sum(counts[:,1])) + \"%\"\n",
    "    \n",
    "    labels = [\"Men\", \"Women\"]\n",
    "    width = 0.5   \n",
    "    bars = []\n",
    " \n",
    "    bars.append(ax.bar(labels, counts[0], width))\n",
    "    for i in range(1,len(counts)):\n",
    " \n",
    "        bars.append(ax.bar(labels, counts[i], width, bottom=sum(counts[:i])))\n",
    "\n",
    "    bars.append(ax.bar(labels, 100-sum(counts), width, bottom=sum(counts)))\n",
    "\n",
    "\n",
    "    return bars, bar_labels\n",
    "  #  plt.show()"
   ]
  },
  {
   "cell_type": "markdown",
   "metadata": {},
   "source": [
    "#### Scatterplot: Correlation with gender (X) and Frequency (Y) "
   ]
  },
  {
   "cell_type": "code",
   "execution_count": 183,
   "metadata": {},
   "outputs": [
    {
     "ename": "ValueError",
     "evalue": "x and y must be the same size",
     "output_type": "error",
     "traceback": [
      "\u001b[0;31m---------------------------------------------------------------------------\u001b[0m",
      "\u001b[0;31mValueError\u001b[0m                                Traceback (most recent call last)",
      "\u001b[0;32m/var/folders/34/fn22ssxs7kj5cs5rw14127h40000gn/T/ipykernel_21704/477261418.py\u001b[0m in \u001b[0;36m<module>\u001b[0;34m\u001b[0m\n\u001b[1;32m      3\u001b[0m \u001b[0mplt\u001b[0m\u001b[0;34m.\u001b[0m\u001b[0mstyle\u001b[0m\u001b[0;34m.\u001b[0m\u001b[0muse\u001b[0m\u001b[0;34m(\u001b[0m\u001b[0;34m'seaborn'\u001b[0m\u001b[0;34m)\u001b[0m\u001b[0;34m\u001b[0m\u001b[0;34m\u001b[0m\u001b[0m\n\u001b[1;32m      4\u001b[0m \u001b[0mplt\u001b[0m\u001b[0;34m.\u001b[0m\u001b[0mfigure\u001b[0m\u001b[0;34m(\u001b[0m\u001b[0mfigsize\u001b[0m\u001b[0;34m=\u001b[0m\u001b[0;34m(\u001b[0m\u001b[0;36m8\u001b[0m\u001b[0;34m,\u001b[0m \u001b[0;36m6\u001b[0m\u001b[0;34m)\u001b[0m\u001b[0;34m,\u001b[0m \u001b[0mdpi\u001b[0m\u001b[0;34m=\u001b[0m\u001b[0;36m80\u001b[0m\u001b[0;34m)\u001b[0m\u001b[0;34m\u001b[0m\u001b[0;34m\u001b[0m\u001b[0m\n\u001b[0;32m----> 5\u001b[0;31m \u001b[0mplt\u001b[0m\u001b[0;34m.\u001b[0m\u001b[0mscatter\u001b[0m\u001b[0;34m(\u001b[0m\u001b[0mX\u001b[0m\u001b[0;34m,\u001b[0m\u001b[0mY\u001b[0m\u001b[0;34m,\u001b[0m \u001b[0ms\u001b[0m \u001b[0;34m=\u001b[0m\u001b[0;36m0\u001b[0m\u001b[0;34m)\u001b[0m\u001b[0;34m\u001b[0m\u001b[0;34m\u001b[0m\u001b[0m\n\u001b[0m\u001b[1;32m      6\u001b[0m \u001b[0;32mfor\u001b[0m \u001b[0mi\u001b[0m\u001b[0;34m,\u001b[0m \u001b[0md\u001b[0m \u001b[0;32min\u001b[0m \u001b[0menumerate\u001b[0m\u001b[0;34m(\u001b[0m\u001b[0mzip\u001b[0m\u001b[0;34m(\u001b[0m\u001b[0mX\u001b[0m\u001b[0;34m,\u001b[0m\u001b[0mY\u001b[0m\u001b[0;34m)\u001b[0m\u001b[0;34m)\u001b[0m\u001b[0;34m:\u001b[0m\u001b[0;34m\u001b[0m\u001b[0;34m\u001b[0m\u001b[0m\n\u001b[1;32m      7\u001b[0m     \u001b[0mplt\u001b[0m\u001b[0;34m.\u001b[0m\u001b[0mannotate\u001b[0m\u001b[0;34m(\u001b[0m\u001b[0mscent_names\u001b[0m\u001b[0;34m[\u001b[0m\u001b[0mi\u001b[0m\u001b[0;34m]\u001b[0m\u001b[0;34m,\u001b[0m \u001b[0md\u001b[0m\u001b[0;34m,\u001b[0m \u001b[0mha\u001b[0m\u001b[0;34m=\u001b[0m\u001b[0;34m'center'\u001b[0m\u001b[0;34m,\u001b[0m \u001b[0mva\u001b[0m\u001b[0;34m=\u001b[0m\u001b[0;34m'center'\u001b[0m\u001b[0;34m,\u001b[0m \u001b[0mc\u001b[0m\u001b[0;34m=\u001b[0m\u001b[0;34m'r'\u001b[0m\u001b[0;34m)\u001b[0m \u001b[0;31m# Fontsize needs to be scaled, I thought this was optimal to keep everything readable\u001b[0m\u001b[0;34m\u001b[0m\u001b[0;34m\u001b[0m\u001b[0m\n",
      "\u001b[0;32m~/opt/anaconda3/lib/python3.8/site-packages/matplotlib/pyplot.py\u001b[0m in \u001b[0;36mscatter\u001b[0;34m(x, y, s, c, marker, cmap, norm, vmin, vmax, alpha, linewidths, edgecolors, plotnonfinite, data, **kwargs)\u001b[0m\n\u001b[1;32m   2805\u001b[0m         \u001b[0mvmin\u001b[0m\u001b[0;34m=\u001b[0m\u001b[0;32mNone\u001b[0m\u001b[0;34m,\u001b[0m \u001b[0mvmax\u001b[0m\u001b[0;34m=\u001b[0m\u001b[0;32mNone\u001b[0m\u001b[0;34m,\u001b[0m \u001b[0malpha\u001b[0m\u001b[0;34m=\u001b[0m\u001b[0;32mNone\u001b[0m\u001b[0;34m,\u001b[0m \u001b[0mlinewidths\u001b[0m\u001b[0;34m=\u001b[0m\u001b[0;32mNone\u001b[0m\u001b[0;34m,\u001b[0m \u001b[0;34m*\u001b[0m\u001b[0;34m,\u001b[0m\u001b[0;34m\u001b[0m\u001b[0;34m\u001b[0m\u001b[0m\n\u001b[1;32m   2806\u001b[0m         edgecolors=None, plotnonfinite=False, data=None, **kwargs):\n\u001b[0;32m-> 2807\u001b[0;31m     __ret = gca().scatter(\n\u001b[0m\u001b[1;32m   2808\u001b[0m         \u001b[0mx\u001b[0m\u001b[0;34m,\u001b[0m \u001b[0my\u001b[0m\u001b[0;34m,\u001b[0m \u001b[0ms\u001b[0m\u001b[0;34m=\u001b[0m\u001b[0ms\u001b[0m\u001b[0;34m,\u001b[0m \u001b[0mc\u001b[0m\u001b[0;34m=\u001b[0m\u001b[0mc\u001b[0m\u001b[0;34m,\u001b[0m \u001b[0mmarker\u001b[0m\u001b[0;34m=\u001b[0m\u001b[0mmarker\u001b[0m\u001b[0;34m,\u001b[0m \u001b[0mcmap\u001b[0m\u001b[0;34m=\u001b[0m\u001b[0mcmap\u001b[0m\u001b[0;34m,\u001b[0m \u001b[0mnorm\u001b[0m\u001b[0;34m=\u001b[0m\u001b[0mnorm\u001b[0m\u001b[0;34m,\u001b[0m\u001b[0;34m\u001b[0m\u001b[0;34m\u001b[0m\u001b[0m\n\u001b[1;32m   2809\u001b[0m         \u001b[0mvmin\u001b[0m\u001b[0;34m=\u001b[0m\u001b[0mvmin\u001b[0m\u001b[0;34m,\u001b[0m \u001b[0mvmax\u001b[0m\u001b[0;34m=\u001b[0m\u001b[0mvmax\u001b[0m\u001b[0;34m,\u001b[0m \u001b[0malpha\u001b[0m\u001b[0;34m=\u001b[0m\u001b[0malpha\u001b[0m\u001b[0;34m,\u001b[0m \u001b[0mlinewidths\u001b[0m\u001b[0;34m=\u001b[0m\u001b[0mlinewidths\u001b[0m\u001b[0;34m,\u001b[0m\u001b[0;34m\u001b[0m\u001b[0;34m\u001b[0m\u001b[0m\n",
      "\u001b[0;32m~/opt/anaconda3/lib/python3.8/site-packages/matplotlib/__init__.py\u001b[0m in \u001b[0;36minner\u001b[0;34m(ax, data, *args, **kwargs)\u001b[0m\n\u001b[1;32m   1410\u001b[0m     \u001b[0;32mdef\u001b[0m \u001b[0minner\u001b[0m\u001b[0;34m(\u001b[0m\u001b[0max\u001b[0m\u001b[0;34m,\u001b[0m \u001b[0;34m*\u001b[0m\u001b[0margs\u001b[0m\u001b[0;34m,\u001b[0m \u001b[0mdata\u001b[0m\u001b[0;34m=\u001b[0m\u001b[0;32mNone\u001b[0m\u001b[0;34m,\u001b[0m \u001b[0;34m**\u001b[0m\u001b[0mkwargs\u001b[0m\u001b[0;34m)\u001b[0m\u001b[0;34m:\u001b[0m\u001b[0;34m\u001b[0m\u001b[0;34m\u001b[0m\u001b[0m\n\u001b[1;32m   1411\u001b[0m         \u001b[0;32mif\u001b[0m \u001b[0mdata\u001b[0m \u001b[0;32mis\u001b[0m \u001b[0;32mNone\u001b[0m\u001b[0;34m:\u001b[0m\u001b[0;34m\u001b[0m\u001b[0;34m\u001b[0m\u001b[0m\n\u001b[0;32m-> 1412\u001b[0;31m             \u001b[0;32mreturn\u001b[0m \u001b[0mfunc\u001b[0m\u001b[0;34m(\u001b[0m\u001b[0max\u001b[0m\u001b[0;34m,\u001b[0m \u001b[0;34m*\u001b[0m\u001b[0mmap\u001b[0m\u001b[0;34m(\u001b[0m\u001b[0msanitize_sequence\u001b[0m\u001b[0;34m,\u001b[0m \u001b[0margs\u001b[0m\u001b[0;34m)\u001b[0m\u001b[0;34m,\u001b[0m \u001b[0;34m**\u001b[0m\u001b[0mkwargs\u001b[0m\u001b[0;34m)\u001b[0m\u001b[0;34m\u001b[0m\u001b[0;34m\u001b[0m\u001b[0m\n\u001b[0m\u001b[1;32m   1413\u001b[0m \u001b[0;34m\u001b[0m\u001b[0m\n\u001b[1;32m   1414\u001b[0m         \u001b[0mbound\u001b[0m \u001b[0;34m=\u001b[0m \u001b[0mnew_sig\u001b[0m\u001b[0;34m.\u001b[0m\u001b[0mbind\u001b[0m\u001b[0;34m(\u001b[0m\u001b[0max\u001b[0m\u001b[0;34m,\u001b[0m \u001b[0;34m*\u001b[0m\u001b[0margs\u001b[0m\u001b[0;34m,\u001b[0m \u001b[0;34m**\u001b[0m\u001b[0mkwargs\u001b[0m\u001b[0;34m)\u001b[0m\u001b[0;34m\u001b[0m\u001b[0;34m\u001b[0m\u001b[0m\n",
      "\u001b[0;32m~/opt/anaconda3/lib/python3.8/site-packages/matplotlib/axes/_axes.py\u001b[0m in \u001b[0;36mscatter\u001b[0;34m(self, x, y, s, c, marker, cmap, norm, vmin, vmax, alpha, linewidths, edgecolors, plotnonfinite, **kwargs)\u001b[0m\n\u001b[1;32m   4321\u001b[0m         \u001b[0my\u001b[0m \u001b[0;34m=\u001b[0m \u001b[0mnp\u001b[0m\u001b[0;34m.\u001b[0m\u001b[0mma\u001b[0m\u001b[0;34m.\u001b[0m\u001b[0mravel\u001b[0m\u001b[0;34m(\u001b[0m\u001b[0my\u001b[0m\u001b[0;34m)\u001b[0m\u001b[0;34m\u001b[0m\u001b[0;34m\u001b[0m\u001b[0m\n\u001b[1;32m   4322\u001b[0m         \u001b[0;32mif\u001b[0m \u001b[0mx\u001b[0m\u001b[0;34m.\u001b[0m\u001b[0msize\u001b[0m \u001b[0;34m!=\u001b[0m \u001b[0my\u001b[0m\u001b[0;34m.\u001b[0m\u001b[0msize\u001b[0m\u001b[0;34m:\u001b[0m\u001b[0;34m\u001b[0m\u001b[0;34m\u001b[0m\u001b[0m\n\u001b[0;32m-> 4323\u001b[0;31m             \u001b[0;32mraise\u001b[0m \u001b[0mValueError\u001b[0m\u001b[0;34m(\u001b[0m\u001b[0;34m\"x and y must be the same size\"\u001b[0m\u001b[0;34m)\u001b[0m\u001b[0;34m\u001b[0m\u001b[0;34m\u001b[0m\u001b[0m\n\u001b[0m\u001b[1;32m   4324\u001b[0m \u001b[0;34m\u001b[0m\u001b[0m\n\u001b[1;32m   4325\u001b[0m         \u001b[0;32mif\u001b[0m \u001b[0ms\u001b[0m \u001b[0;32mis\u001b[0m \u001b[0;32mNone\u001b[0m\u001b[0;34m:\u001b[0m\u001b[0;34m\u001b[0m\u001b[0;34m\u001b[0m\u001b[0m\n",
      "\u001b[0;31mValueError\u001b[0m: x and y must be the same size"
     ]
    },
    {
     "data": {
      "image/png": "[encoded data removed]",
      "text/plain": [
       "<Figure size 640x480 with 1 Axes>"
      ]
     },
     "metadata": {},
     "output_type": "display_data"
    }
   ],
   "source": [
    "X = scent_df.corr().iloc[-1][:-1] # Correlation between scents and gender M/F\n",
    "Y = sum(X3.toarray())\n",
    "plt.style.use('seaborn')\n",
    "plt.figure(figsize=(8, 6), dpi=80)\n",
    "plt.scatter(X,Y, s =0)\n",
    "for i, d in enumerate(zip(X,Y)):\n",
    "    plt.annotate(scent_names[i], d, ha='center', va='center', c='r') # Fontsize needs to be scaled, I thought this was optimal to keep everything readable\n",
    "\n",
    "X = base_df.corr().iloc[-1][:-1] # Correlation between base and gender M/F\n",
    "Y = sum(X1.toarray())\n",
    "plt.scatter(X,Y, s =0)\n",
    "for i, d in enumerate(zip(X,Y)):\n",
    "    plt.annotate(base_names[i], d, ha='center', va='center', c='b')\n",
    "    \n",
    "X = middle_df.corr().iloc[-1][:-1] # Correlation between midnotes and gender M/F\n",
    "Y = sum(X2.toarray())\n",
    "plt.scatter(X,Y, s =0)\n",
    "for i, d in enumerate(zip(X,Y)):\n",
    "    plt.annotate(middle_names[i], d, ha='center', va='center', c='g')\n",
    "    \n",
    "patch1 = mpatches.Patch(color='r',label='Scents') \n",
    "patch2 = mpatches.Patch(color='b', label='Base Notes') \n",
    "patch3 = mpatches.Patch(color='g', label='Middle Notes')\n",
    "plt.legend(framealpha=1, handles=[patch1, patch2, patch3])\n",
    "\n",
    "plt.xlim(-0.5, 0.5)\n",
    "plt.title(\"Correlation with department (Men/Women) and frequency for most common features\")\n",
    "plt.ylabel(\"Number of occurences\")\n",
    "plt.xlabel(\"Correlation\")\n",
    "#plt.savefig(\"Correlation2.png\",dpi=300)"
   ]
  },
  {
   "cell_type": "code",
   "execution_count": null,
   "metadata": {},
   "outputs": [],
   "source": []
  },
  {
   "cell_type": "code",
   "execution_count": null,
   "metadata": {},
   "outputs": [],
   "source": []
  },
  {
   "cell_type": "markdown",
   "metadata": {},
   "source": [
    "As we can see, manly-man notes such as 'leather', 'cedar' and 'tobacco' are to the left and girly-girl notes such as 'praline', 'caramel', 'rose' and 'vanilla' are to the right"
   ]
  },
  {
   "cell_type": "markdown",
   "metadata": {},
   "source": [
    "#### MIDDLE Notes Scatterplot: Correlation with gender (X) and Average Price (Among perfumes where note is present) (Y) "
   ]
  },
  {
   "cell_type": "markdown",
   "metadata": {},
   "source": [
    "Middle Notes, mean price"
   ]
  },
  {
   "cell_type": "code",
   "execution_count": null,
   "metadata": {},
   "outputs": [],
   "source": [
    "mean_prices_middle = []\n",
    "for note in middle_names:\n",
    "    mean = df.price_ml[df['middle_note'].str.contains(note, case=False)].mean()\n",
    "    mean_prices_middle.append(mean)"
   ]
  },
  {
   "cell_type": "code",
   "execution_count": null,
   "metadata": {},
   "outputs": [],
   "source": [
    "len(mean_prices_middle), len(middle_names)"
   ]
  },
  {
   "cell_type": "code",
   "execution_count": null,
   "metadata": {},
   "outputs": [],
   "source": [
    "middle_names"
   ]
  },
  {
   "cell_type": "code",
   "execution_count": null,
   "metadata": {},
   "outputs": [],
   "source": [
    "X = middle_df.corr().iloc[-1][:-1] # Correlation between middle notes and gender M/F\n",
    "Y = mean_prices_middle # Mean price for each\n",
    "Z = sum(X2.toarray()) #Frequency (will be mapped to font size)\n",
    "plt.style.use('seaborn')\n",
    "plt.figure(figsize=(16, 12), dpi=80)\n",
    "plt.scatter(X,Y, s =0)\n",
    "for i, d in enumerate(zip(X,Y)):\n",
    "    plt.annotate(middle_names[i], d, ha='center', va='center',fontsize = Z[i]/20 + 10) # Fontsize needs to be scaled, I thought this was optimal to keep everything readable"
   ]
  },
  {
   "cell_type": "code",
   "execution_count": null,
   "metadata": {},
   "outputs": [],
   "source": [
    "X1.toarray().shape"
   ]
  },
  {
   "cell_type": "code",
   "execution_count": null,
   "metadata": {},
   "outputs": [],
   "source": [
    "dict(zip(vect_base.get_feature_names_out(),sum(X1.toarray())))"
   ]
  },
  {
   "cell_type": "code",
   "execution_count": null,
   "metadata": {},
   "outputs": [],
   "source": []
  },
  {
   "cell_type": "code",
   "execution_count": null,
   "metadata": {},
   "outputs": [],
   "source": []
  },
  {
   "cell_type": "code",
   "execution_count": 125,
   "metadata": {},
   "outputs": [
    {
     "data": {
      "text/plain": [
       "'vanilla'"
      ]
     },
     "execution_count": 125,
     "metadata": {},
     "output_type": "execute_result"
    }
   ],
   "source": [
    "scent"
   ]
  },
  {
   "cell_type": "code",
   "execution_count": null,
   "metadata": {},
   "outputs": [],
   "source": []
  }
 ],
 "metadata": {
  "kernelspec": {
   "display_name": "Python 3 (ipykernel)",
   "language": "python",
   "name": "python3"
  },
  "language_info": {
   "codemirror_mode": {
    "name": "ipython",
    "version": 3
   },
   "file_extension": ".py",
   "mimetype": "text/x-python",
   "name": "python",
   "nbconvert_exporter": "python",
   "pygments_lexer": "ipython3",
   "version": "3.8.12"
  }
 },
 "nbformat": 4,
 "nbformat_minor": 4
}
