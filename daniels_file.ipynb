{
 "cells": [
  {
   "cell_type": "code",
   "execution_count": 23,
   "metadata": {},
   "outputs": [],
   "source": [
    "import random\n",
    "import pandas as pd\n",
    "from matplotlib import pyplot as plt\n",
    "import numpy as np\n",
    "from sklearn import model_selection\n",
    "from sklearn.feature_extraction.text import CountVectorizer\n",
    "from sklearn.naive_bayes import BernoulliNB\n",
    "from sklearn.neighbors import KNeighborsClassifier\n",
    "from sklearn.linear_model import Perceptron\n",
    "from sklearn.ensemble import RandomForestClassifier\n",
    "from sklearn.neural_network import MLPClassifier\n",
    "from sklearn.svm import SVC\n",
    "from sklearn.dummy import DummyClassifier\n",
    "from sklearn.metrics import accuracy_score, confusion_matrix\n",
    "from sklearn.model_selection import cross_val_score, KFold\n",
    "from sklearn.preprocessing import LabelEncoder\n",
    "from statistics import stdev\n",
    "from collections import Counter\n",
    "import matplotlib.patches as mpatches\n",
    "\n"
   ]
  },
  {
   "cell_type": "code",
   "execution_count": 2,
   "metadata": {},
   "outputs": [
    {
     "data": {
      "text/html": [
       "<div>\n",
       "<style scoped>\n",
       "    .dataframe tbody tr th:only-of-type {\n",
       "        vertical-align: middle;\n",
       "    }\n",
       "\n",
       "    .dataframe tbody tr th {\n",
       "        vertical-align: top;\n",
       "    }\n",
       "\n",
       "    .dataframe thead th {\n",
       "        text-align: right;\n",
       "    }\n",
       "</style>\n",
       "<table border=\"1\" class=\"dataframe\">\n",
       "  <thead>\n",
       "    <tr style=\"text-align: right;\">\n",
       "      <th></th>\n",
       "      <th>brand</th>\n",
       "      <th>name</th>\n",
       "      <th>old_price</th>\n",
       "      <th>new_price</th>\n",
       "      <th>ml</th>\n",
       "      <th>concentration</th>\n",
       "      <th>department</th>\n",
       "      <th>scents</th>\n",
       "      <th>base_note</th>\n",
       "      <th>middle_note</th>\n",
       "      <th>item_rating</th>\n",
       "      <th>seller</th>\n",
       "      <th>seller_rating</th>\n",
       "      <th>num_seller_ratings</th>\n",
       "    </tr>\n",
       "  </thead>\n",
       "  <tbody>\n",
       "    <tr>\n",
       "      <th>0</th>\n",
       "      <td>PACO RABANNE</td>\n",
       "      <td>1 Million Lucky</td>\n",
       "      <td>395.0</td>\n",
       "      <td>244.55</td>\n",
       "      <td>100</td>\n",
       "      <td>EDT</td>\n",
       "      <td>Men</td>\n",
       "      <td>Woody</td>\n",
       "      <td>Oakmoss, Patchouli and Vetiver</td>\n",
       "      <td>Hazelnut, Jasmine, Cashmir Wood, Cedar and Honey</td>\n",
       "      <td>5.0</td>\n",
       "      <td>noon</td>\n",
       "      <td>4.2</td>\n",
       "      <td>98.1K</td>\n",
       "    </tr>\n",
       "    <tr>\n",
       "      <th>1</th>\n",
       "      <td>Roberto Cavalli</td>\n",
       "      <td>Paradiso Assoluto</td>\n",
       "      <td>415.0</td>\n",
       "      <td>107.95</td>\n",
       "      <td>50</td>\n",
       "      <td>EDP</td>\n",
       "      <td>Women</td>\n",
       "      <td>Floral</td>\n",
       "      <td>Vanilla, Sandalwood And Patchouli</td>\n",
       "      <td>Wild Jasmine and Red Lily</td>\n",
       "      <td>4.8</td>\n",
       "      <td>noon</td>\n",
       "      <td>4.2</td>\n",
       "      <td>98.1K</td>\n",
       "    </tr>\n",
       "    <tr>\n",
       "      <th>2</th>\n",
       "      <td>S.T.Dupont</td>\n",
       "      <td>Royal Amber</td>\n",
       "      <td>265.0</td>\n",
       "      <td>186.90</td>\n",
       "      <td>100</td>\n",
       "      <td>EDP</td>\n",
       "      <td>Unisex</td>\n",
       "      <td>Arabian</td>\n",
       "      <td>Lemon, Mint and Wood Moss</td>\n",
       "      <td>Sandalwood and Cedar</td>\n",
       "      <td>5.0</td>\n",
       "      <td>noon</td>\n",
       "      <td>4.2</td>\n",
       "      <td>98.1K</td>\n",
       "    </tr>\n",
       "    <tr>\n",
       "      <th>3</th>\n",
       "      <td>GUESS</td>\n",
       "      <td>Seductive Blue</td>\n",
       "      <td>290.0</td>\n",
       "      <td>103.20</td>\n",
       "      <td>100</td>\n",
       "      <td>EDT</td>\n",
       "      <td>Men</td>\n",
       "      <td>Spicy</td>\n",
       "      <td>Cashmere Wood, Moss And Rippled Sand Accord</td>\n",
       "      <td>Blue Coral Aquaspace Accord And Geranium</td>\n",
       "      <td>3.0</td>\n",
       "      <td>noon</td>\n",
       "      <td>4.2</td>\n",
       "      <td>98.1K</td>\n",
       "    </tr>\n",
       "    <tr>\n",
       "      <th>4</th>\n",
       "      <td>Roberto Cavalli</td>\n",
       "      <td>Uomo</td>\n",
       "      <td>260.0</td>\n",
       "      <td>94.95</td>\n",
       "      <td>50</td>\n",
       "      <td>EDP</td>\n",
       "      <td>Women</td>\n",
       "      <td>Arabian</td>\n",
       "      <td>Vanille, Benzoin, Tonka Bean</td>\n",
       "      <td>African Orange Flower</td>\n",
       "      <td>4.8</td>\n",
       "      <td>noon</td>\n",
       "      <td>4.2</td>\n",
       "      <td>98.1K</td>\n",
       "    </tr>\n",
       "    <tr>\n",
       "      <th>...</th>\n",
       "      <td>...</td>\n",
       "      <td>...</td>\n",
       "      <td>...</td>\n",
       "      <td>...</td>\n",
       "      <td>...</td>\n",
       "      <td>...</td>\n",
       "      <td>...</td>\n",
       "      <td>...</td>\n",
       "      <td>...</td>\n",
       "      <td>...</td>\n",
       "      <td>...</td>\n",
       "      <td>...</td>\n",
       "      <td>...</td>\n",
       "      <td>...</td>\n",
       "    </tr>\n",
       "    <tr>\n",
       "      <th>987</th>\n",
       "      <td>HUGO BOSS</td>\n",
       "      <td>Bottled Night</td>\n",
       "      <td>688.0</td>\n",
       "      <td>250.00</td>\n",
       "      <td>200</td>\n",
       "      <td>EDT</td>\n",
       "      <td>Men</td>\n",
       "      <td>Woody</td>\n",
       "      <td>Musk, Woody Notes</td>\n",
       "      <td>Violet</td>\n",
       "      <td>4.5</td>\n",
       "      <td>Lady Style</td>\n",
       "      <td>3.6</td>\n",
       "      <td>5</td>\n",
       "    </tr>\n",
       "    <tr>\n",
       "      <th>995</th>\n",
       "      <td>BVLGARI</td>\n",
       "      <td>Petits Et Mamans</td>\n",
       "      <td>327.0</td>\n",
       "      <td>197.75</td>\n",
       "      <td>100</td>\n",
       "      <td>EDT</td>\n",
       "      <td>Women</td>\n",
       "      <td>Floral</td>\n",
       "      <td>Iris and Vanilla</td>\n",
       "      <td>White Peach</td>\n",
       "      <td>4.8</td>\n",
       "      <td>Tiffany</td>\n",
       "      <td>4.1</td>\n",
       "      <td>75</td>\n",
       "    </tr>\n",
       "    <tr>\n",
       "      <th>997</th>\n",
       "      <td>Roberto Cavalli</td>\n",
       "      <td>Paradiso Azzurro</td>\n",
       "      <td>499.0</td>\n",
       "      <td>165.00</td>\n",
       "      <td>75</td>\n",
       "      <td>EDP</td>\n",
       "      <td>Women</td>\n",
       "      <td>Fruity</td>\n",
       "      <td>Cypress, Cashmere Wood, Amber wood, Sandalwood...</td>\n",
       "      <td>Wild Jasmine, Watery Notes, Apple, Tuberose, P...</td>\n",
       "      <td>4.7</td>\n",
       "      <td>Beauty Group</td>\n",
       "      <td>4.3</td>\n",
       "      <td>124</td>\n",
       "    </tr>\n",
       "    <tr>\n",
       "      <th>999</th>\n",
       "      <td>BURBERRY</td>\n",
       "      <td>For Women EDP Natural Sp</td>\n",
       "      <td>378.0</td>\n",
       "      <td>153.75</td>\n",
       "      <td>100</td>\n",
       "      <td>EDT</td>\n",
       "      <td>Women</td>\n",
       "      <td>Fruity</td>\n",
       "      <td>Musk And Vanilla</td>\n",
       "      <td>Woody-Floral, Sandalwood And Cedar</td>\n",
       "      <td>4.8</td>\n",
       "      <td>noon</td>\n",
       "      <td>4.2</td>\n",
       "      <td>98.1K</td>\n",
       "    </tr>\n",
       "    <tr>\n",
       "      <th>1001</th>\n",
       "      <td>SWISS ARABIAN</td>\n",
       "      <td>Layali CPO At</td>\n",
       "      <td>126.0</td>\n",
       "      <td>77.00</td>\n",
       "      <td>15</td>\n",
       "      <td>EDT</td>\n",
       "      <td>Unisex</td>\n",
       "      <td>Arabian</td>\n",
       "      <td>Agarwood and Amber</td>\n",
       "      <td>Ylang-Ylang, Rose and Jasmine</td>\n",
       "      <td>4.0</td>\n",
       "      <td>Swiss Arabian PerfumesPRICE UPDATE WITH 15% VA...</td>\n",
       "      <td>3.9</td>\n",
       "      <td>5</td>\n",
       "    </tr>\n",
       "  </tbody>\n",
       "</table>\n",
       "<p>903 rows × 14 columns</p>\n",
       "</div>"
      ],
      "text/plain": [
       "                brand                      name  old_price  new_price   ml  \\\n",
       "0        PACO RABANNE           1 Million Lucky      395.0     244.55  100   \n",
       "1     Roberto Cavalli         Paradiso Assoluto      415.0     107.95   50   \n",
       "2          S.T.Dupont               Royal Amber      265.0     186.90  100   \n",
       "3               GUESS            Seductive Blue      290.0     103.20  100   \n",
       "4     Roberto Cavalli                      Uomo      260.0      94.95   50   \n",
       "...               ...                       ...        ...        ...  ...   \n",
       "987         HUGO BOSS             Bottled Night      688.0     250.00  200   \n",
       "995           BVLGARI          Petits Et Mamans      327.0     197.75  100   \n",
       "997   Roberto Cavalli          Paradiso Azzurro      499.0     165.00   75   \n",
       "999          BURBERRY  For Women EDP Natural Sp      378.0     153.75  100   \n",
       "1001    SWISS ARABIAN             Layali CPO At      126.0      77.00   15   \n",
       "\n",
       "     concentration department   scents  \\\n",
       "0              EDT        Men    Woody   \n",
       "1              EDP      Women   Floral   \n",
       "2              EDP     Unisex  Arabian   \n",
       "3              EDT        Men    Spicy   \n",
       "4              EDP      Women  Arabian   \n",
       "...            ...        ...      ...   \n",
       "987            EDT        Men    Woody   \n",
       "995            EDT      Women   Floral   \n",
       "997            EDP      Women   Fruity   \n",
       "999            EDT      Women   Fruity   \n",
       "1001           EDT     Unisex  Arabian   \n",
       "\n",
       "                                              base_note  \\\n",
       "0                        Oakmoss, Patchouli and Vetiver   \n",
       "1                     Vanilla, Sandalwood And Patchouli   \n",
       "2                             Lemon, Mint and Wood Moss   \n",
       "3           Cashmere Wood, Moss And Rippled Sand Accord   \n",
       "4                          Vanille, Benzoin, Tonka Bean   \n",
       "...                                                 ...   \n",
       "987                                   Musk, Woody Notes   \n",
       "995                                    Iris and Vanilla   \n",
       "997   Cypress, Cashmere Wood, Amber wood, Sandalwood...   \n",
       "999                                    Musk And Vanilla   \n",
       "1001                                 Agarwood and Amber   \n",
       "\n",
       "                                            middle_note  item_rating  \\\n",
       "0      Hazelnut, Jasmine, Cashmir Wood, Cedar and Honey          5.0   \n",
       "1                             Wild Jasmine and Red Lily          4.8   \n",
       "2                                  Sandalwood and Cedar          5.0   \n",
       "3              Blue Coral Aquaspace Accord And Geranium          3.0   \n",
       "4                                 African Orange Flower          4.8   \n",
       "...                                                 ...          ...   \n",
       "987                                              Violet          4.5   \n",
       "995                                         White Peach          4.8   \n",
       "997   Wild Jasmine, Watery Notes, Apple, Tuberose, P...          4.7   \n",
       "999                  Woody-Floral, Sandalwood And Cedar          4.8   \n",
       "1001                      Ylang-Ylang, Rose and Jasmine          4.0   \n",
       "\n",
       "                                                 seller  seller_rating  \\\n",
       "0                                                  noon            4.2   \n",
       "1                                                  noon            4.2   \n",
       "2                                                  noon            4.2   \n",
       "3                                                  noon            4.2   \n",
       "4                                                  noon            4.2   \n",
       "...                                                 ...            ...   \n",
       "987                                          Lady Style            3.6   \n",
       "995                                             Tiffany            4.1   \n",
       "997                                        Beauty Group            4.3   \n",
       "999                                                noon            4.2   \n",
       "1001  Swiss Arabian PerfumesPRICE UPDATE WITH 15% VA...            3.9   \n",
       "\n",
       "     num_seller_ratings  \n",
       "0                 98.1K  \n",
       "1                 98.1K  \n",
       "2                 98.1K  \n",
       "3                 98.1K  \n",
       "4                 98.1K  \n",
       "...                 ...  \n",
       "987                   5  \n",
       "995                  75  \n",
       "997                 124  \n",
       "999               98.1K  \n",
       "1001                  5  \n",
       "\n",
       "[903 rows x 14 columns]"
      ]
     },
     "execution_count": 2,
     "metadata": {},
     "output_type": "execute_result"
    }
   ],
   "source": [
    "df = pd.read_csv(\"data/noon_perfumes_dataset.csv\", index_col=0)\n",
    "df = df.drop_duplicates()\n",
    "df"
   ]
  },
  {
   "cell_type": "markdown",
   "metadata": {},
   "source": [
    "## Supervised Learning"
   ]
  },
  {
   "cell_type": "markdown",
   "metadata": {},
   "source": [
    "#### Predicting gender M/F based on base notes, middle notes and scent"
   ]
  },
  {
   "cell_type": "code",
   "execution_count": 3,
   "metadata": {},
   "outputs": [],
   "source": [
    "df = df[(df[\"department\"] != \"Kids Unisex\")]\n",
    "df = df[(df[\"department\"] != \"Unisex\")]  #We remove kids and unisex because they are small in relation to M/W\n",
    "#Labels\n",
    "gender = df[\"department\"].values\n",
    "#Features\n",
    "base_note = df[\"base_note\"].values\n",
    "middle_note = df[\"middle_note\"].values\n",
    "scents = df[\"scents\"].values"
   ]
  },
  {
   "cell_type": "markdown",
   "metadata": {},
   "source": [
    "We will binarize our categorical features so that for each perfume (row) and each base note, middle note and scent (columns), \"1\" will correspond to \"present\", whereas \"0\" will correspond to \"not present\" for that specific perfume and feature. This will be achieved by sklearn's CountVectorizer."
   ]
  },
  {
   "cell_type": "code",
   "execution_count": 20,
   "metadata": {},
   "outputs": [
    {
     "data": {
      "text/plain": [
       "array(['absolute', 'acacia', 'accord', 'accords', 'addiction', 'agarwood',\n",
       "       'akigalawood', 'aldehyde', 'almod', 'almond', 'almonds', 'amarelo',\n",
       "       'amber', 'ambergris', 'amberwood', 'ambery', 'ambrette',\n",
       "       'ambroxan', 'animal', 'anise', 'apricot', 'aromatic', 'atlas',\n",
       "       'australian', 'balsa', 'balsam', 'balsamic', 'base', 'bean',\n",
       "       'beans', 'beeswax', 'benzoin', 'benzointolu', 'bergamot',\n",
       "       'berries', 'birch', 'black', 'blackberry', 'blond', 'blonde',\n",
       "       'blood', 'blossom', 'blue', 'bourbon', 'brazilian', 'brown',\n",
       "       'burnt', 'buttery', 'cacao', 'cactus', 'cader', 'california',\n",
       "       'candy', 'caramel', 'caraway', 'cardamom', 'carnation', 'cashere',\n",
       "       'cashmeran', 'cashmere', 'cashmerean', 'cashmirwood', 'cedar',\n",
       "       'cedarwood', 'ceder', 'celery', 'centifolia', 'character',\n",
       "       'cherokee', 'chestnut', 'chocolate', 'cinnamon', 'cistus',\n",
       "       'citrus', 'civet', 'clove', 'cloves', 'cocoa', 'coconut', 'coffee',\n",
       "       'copper', 'coriander', 'cotton', 'coumarin', 'cream', 'creamy',\n",
       "       'creeper', 'crystal', 'cuddly', 'currant', 'cybet', 'cyclamen',\n",
       "       'cypress', 'dakota', 'damascus', 'dark', 'delicate', 'desert',\n",
       "       'diamond', 'dry', 'earthy', 'ebony', 'evernyl', 'extract', 'fern',\n",
       "       'fir', 'floral', 'flower', 'flowers', 'frankincense', 'french',\n",
       "       'from', 'fruity', 'gaiac', 'gardenia', 'gaïac', 'georgywood',\n",
       "       'geranium', 'ginger', 'golden', 'grain', 'gray', 'green', 'grey',\n",
       "       'guaiac', 'guimave', 'haitian', 'heart', 'heather', 'heliotrope',\n",
       "       'heliotropine', 'himalayan', 'hip', 'honey', 'hyacinth', 'incense',\n",
       "       'indian', 'indonesian', 'inoki', 'iris', 'jasmin', 'jasmine',\n",
       "       'joshua', 'juniper', 'king', 'labdanum', 'labdanun', 'lactone',\n",
       "       'lactonic', 'lamon', 'laos', 'laotian', 'laurels', 'leaf',\n",
       "       'leather', 'leatherwood', 'leathery', 'leaves', 'lemon', 'lichen',\n",
       "       'licorice', 'light', 'lignum', 'like', 'lilies', 'lily', 'liquid',\n",
       "       'litchi', 'living', 'lotus', 'louro', 'luid', 'madagascar',\n",
       "       'magnolia', 'mahogany', 'mandarin', 'maple', 'marine',\n",
       "       'marshmallow', 'milk', 'mineral', 'mix', 'moss', 'mousse', 'musk',\n",
       "       'musks', 'musky', 'musty', 'myrrh', 'natural', 'nectarine',\n",
       "       'neroli', 'nutmeg', 'oak', 'oakmoss', 'oil', 'oined', 'olibanum',\n",
       "       'olive', 'olivewood', 'opoponax', 'orange', 'orcanox', 'orchid',\n",
       "       'oriental', 'orris', 'osmanthus', 'oud', 'oudh', 'pacsuli',\n",
       "       'palisander', 'papyrus', 'paraguayan', 'patchouli', 'patchoulie',\n",
       "       'patchoulli', 'peach', 'pearl', 'pelargonium', 'pepper', 'peru',\n",
       "       'petals', 'pine', 'plant', 'plants', 'platanus', 'plum', 'pod',\n",
       "       'pods', 'powdery', 'praline', 'pralines', 'precious', 'pressed',\n",
       "       'rangoon', 'raspberry', 'red', 'redwood', 'resin', 'rich',\n",
       "       'rippled', 'roasted', 'root', 'roots', 'rose', 'rosemary',\n",
       "       'rosewood', 'rum', 'saffron', 'salt', 'salty', 'sand', 'sandal',\n",
       "       'sandalwod', 'sandalwood', 'scents', 'schijnhulst', 'seeds',\n",
       "       'sensual', 'sensuality', 'siam', 'sicilian', 'silver', 'skin',\n",
       "       'smoke', 'soft', 'spices', 'spicy', 'strawberry', 'styrax',\n",
       "       'suede', 'sugar', 'sweet', 'tahitensis', 'tahiti', 'tahitian',\n",
       "       'tea', 'teak', 'temple', 'the', 'tibetan', 'toacco', 'tob',\n",
       "       'tobacco', 'toffee', 'tolu', 'tonka', 'touches', 'transparent',\n",
       "       'tree', 'tuberose', 'valley', 'vanilla', 'vanillastyrax',\n",
       "       'vanille', 'vegetal', 'velvet', 'veti', 'vetiver', 'vetyver',\n",
       "       'vintage', 'violet', 'violetwhite', 'virginia', 'virginian',\n",
       "       'vitae', 'voluptuous', 'warm', 'whisky', 'white', 'whitemusk',\n",
       "       'wild', 'wisteria', 'woman', 'wood', 'woods', 'woodsy', 'woody'],\n",
       "      dtype=object)"
      ]
     },
     "execution_count": 20,
     "metadata": {},
     "output_type": "execute_result"
    }
   ],
   "source": [
    "vectorizer = CountVectorizer(stop_words = ['note', 'notes', 'and', 'with', 'of', 'by', 'ectract', 'co', 'essence', 'masculine'])\n",
    "X1 = vectorizer.fit_transform(base_note)\n",
    "vectorizer.get_feature_names_out()\n"
   ]
  },
  {
   "cell_type": "markdown",
   "metadata": {},
   "source": [
    "As we can see, for base notes, we have things such as 'muscs', 'musk', 'musks', 'musky' which correspond to the same feature; we want to concatenate these, therefore we will preprocess some more, tweaking the CountVectorizer with some stemming provided by NLTK plus some a priori replacement"
   ]
  },
  {
   "cell_type": "code",
   "execution_count": 15,
   "metadata": {},
   "outputs": [],
   "source": [
    "from nltk.stem import SnowballStemmer\n",
    "\n",
    "stemmer = SnowballStemmer('english')\n",
    "def replace(t):\n",
    "\n",
    "    if \"amber\" in t:\n",
    "        t = \"amber\"\n",
    "    if \"cash\" in t:\n",
    "        t = \"cashmere\"\n",
    "    if \"flo\" in t:\n",
    "        t = \"floral\"\n",
    "    if \"ced\" in t:\n",
    "        t = \"cedar\"\n",
    "    if \"mu\" in t:\n",
    "        t = \"musk\"\n",
    "    if \"leather\" in t:\n",
    "        t = \"leather\"\n",
    "    if \"lil\" in t:\n",
    "        t = \"lily\"\n",
    "    if \"lacton\" in t:\n",
    "        t = \"lacton\"\n",
    "    if \"labda\" in t:\n",
    "        t = \"labdanum\"\n",
    "    if \"patch\" in t:\n",
    "        t = \"patchouli\"\n",
    "    if \"vanil\" in t:\n",
    "        t = \"vanilla\"\n",
    "    if \"oud\" in t:\n",
    "        t = \"oud\"\n",
    "    if \"oliv\" in t:\n",
    "        t = \"olive\"\n",
    "    if \"sand\" in t:\n",
    "        t = \"sandalwood\"\n",
    "    if \"wood\" in t[:4]:\n",
    "        t = \"wood\"\n",
    "\n",
    "    return t\n",
    "            \n",
    "class StemmedCountVectorizer(CountVectorizer):\n",
    "    \n",
    "     def build_analyzer(self):\n",
    "        analyzer = super(StemmedCountVectorizer, self).build_analyzer()\n",
    "        return lambda doc: ([stemmer.stem(replace(w)) for w in analyzer(doc)])\n",
    "    \n",
    "#    def build_tokenizer(self):\n",
    "#        tokenize = super().build_tokenizer()\n",
    "#        return lambda doc: list(replace(tokenize(doc)))\n",
    "\n",
    "class ReplaceCountVectorizer(CountVectorizer): #This one is better for visualization as it doesn't do stemming, thus keeping words comprehensible\n",
    "    \n",
    "     def build_analyzer(self):\n",
    "        analyzer = super(ReplaceCountVectorizer, self).build_analyzer()\n",
    "        return lambda doc: ([replace(w) for w in analyzer(doc)])\n",
    "    "
   ]
  },
  {
   "cell_type": "code",
   "execution_count": 16,
   "metadata": {},
   "outputs": [],
   "source": [
    "vect_base = StemmedCountVectorizer(stop_words = ['note', 'notes', 'and', 'with', 'of', 'by', 'ectract', 'co', 'essence', 'masculine'])\n",
    "vect_middle = StemmedCountVectorizer(stop_words = ['note', 'notes', 'and', 'with', 'of', 'by', 'ectract', 'co', 'essence', 'masculine'])\n",
    "vect_scents = StemmedCountVectorizer(stop_words = ['and'])\n",
    "\n",
    "X1 = vect_base.fit_transform(base_note) #Binarized feature vector for base notes (<insert shape after preprocessing>)\n",
    "X2 = vect_middle.fit_transform(middle_note) #Same for middle notes (<insert shape after preprocessing>)\n",
    "X3 = vect_scents.fit_transform(scents) #Same for scents (<insert shape after preprocessing>)"
   ]
  },
  {
   "cell_type": "code",
   "execution_count": 17,
   "metadata": {},
   "outputs": [
    {
     "data": {
      "text/plain": [
       "((842, 273), (842, 401), (842, 15))"
      ]
     },
     "execution_count": 17,
     "metadata": {},
     "output_type": "execute_result"
    }
   ],
   "source": [
    "X1.toarray().shape, X2.toarray().shape, X3.toarray().shape"
   ]
  },
  {
   "cell_type": "code",
   "execution_count": 18,
   "metadata": {},
   "outputs": [],
   "source": [
    "random.state = 43\n",
    "\n",
    "X_comb = np.hstack((X1.toarray(), X2.toarray(), X3.toarray())) #Combined features\n",
    "\n",
    "nb = BernoulliNB()\n",
    "p = Perceptron()\n",
    "mlp = MLPClassifier(max_iter = 500, solver = 'lbfgs')\n",
    "rf = RandomForestClassifier(n_estimators = 500)\n",
    "knn = KNeighborsClassifier(metric='jaccard', n_neighbors=1)\n",
    "svm = SVC()\n",
    "baseline = DummyClassifier(strategy='most_frequent')\n",
    "\n",
    "classifiers = {\"NB\": nb, \"P\": p, \"MLP\": mlp, \"RF\": rf, \"kNN\": knn, \"SVM\": svm, \"baseline\": baseline}"
   ]
  },
  {
   "cell_type": "code",
   "execution_count": 31,
   "metadata": {},
   "outputs": [
    {
     "data": {
      "text/plain": [
       "array(['Men', 'Women', 'Men', 'Women', 'Women', 'Women', 'Men', 'Women',\n",
       "       'Men', 'Men', 'Men', 'Men', 'Men', 'Men', 'Women', 'Women', 'Men',\n",
       "       'Women', 'Women', 'Women', 'Women', 'Men', 'Women', 'Women', 'Men',\n",
       "       'Women', 'Women', 'Men', 'Women', 'Men', 'Women', 'Men', 'Women',\n",
       "       'Men', 'Men', 'Men', 'Women', 'Women', 'Men', 'Men', 'Women',\n",
       "       'Men', 'Women', 'Women', 'Men', 'Women', 'Men', 'Women', 'Men',\n",
       "       'Women', 'Men', 'Women', 'Men', 'Men', 'Women', 'Women', 'Women',\n",
       "       'Women', 'Women', 'Women', 'Men', 'Women', 'Women', 'Men', 'Men',\n",
       "       'Men', 'Women', 'Men', 'Men', 'Men', 'Women', 'Men', 'Women',\n",
       "       'Women', 'Men', 'Men', 'Women', 'Women', 'Women', 'Women', 'Men',\n",
       "       'Men', 'Men', 'Women', 'Women', 'Men', 'Men', 'Men', 'Men',\n",
       "       'Women', 'Men', 'Men', 'Women', 'Women', 'Men', 'Women', 'Men',\n",
       "       'Women', 'Women', 'Men', 'Men', 'Men', 'Men', 'Women', 'Men',\n",
       "       'Men', 'Men', 'Men', 'Women', 'Women', 'Men', 'Women', 'Women',\n",
       "       'Women', 'Women', 'Women', 'Men', 'Women', 'Women', 'Women', 'Men',\n",
       "       'Men', 'Women', 'Women', 'Men', 'Women', 'Women', 'Men', 'Men',\n",
       "       'Men', 'Women', 'Women', 'Women', 'Women', 'Men', 'Men', 'Women',\n",
       "       'Women', 'Men', 'Men', 'Women', 'Men', 'Men', 'Men', 'Men',\n",
       "       'Women', 'Women', 'Women', 'Men', 'Women', 'Women', 'Men', 'Women',\n",
       "       'Women', 'Women', 'Men', 'Women', 'Men', 'Men', 'Men', 'Women',\n",
       "       'Women', 'Women', 'Men', 'Women', 'Men', 'Men', 'Women', 'Women',\n",
       "       'Women', 'Women', 'Women', 'Women', 'Men', 'Women', 'Men', 'Men',\n",
       "       'Women', 'Women', 'Women', 'Men', 'Men', 'Women', 'Women', 'Women',\n",
       "       'Men', 'Women', 'Men', 'Women', 'Men', 'Women', 'Women', 'Women',\n",
       "       'Women', 'Women', 'Men', 'Women', 'Women', 'Women', 'Men', 'Men',\n",
       "       'Women', 'Men', 'Men', 'Women', 'Men', 'Women', 'Women', 'Men',\n",
       "       'Men', 'Men', 'Men', 'Women', 'Women', 'Men', 'Men', 'Women',\n",
       "       'Women', 'Men', 'Women', 'Men', 'Men', 'Men', 'Women', 'Men',\n",
       "       'Men', 'Men', 'Women', 'Men', 'Men', 'Men', 'Men', 'Women',\n",
       "       'Women', 'Men', 'Women', 'Men', 'Men', 'Women', 'Men', 'Men',\n",
       "       'Men', 'Women', 'Women', 'Women', 'Men', 'Men', 'Men', 'Men',\n",
       "       'Women', 'Men', 'Women', 'Men', 'Men', 'Women', 'Men', 'Women',\n",
       "       'Men', 'Women', 'Men', 'Men', 'Women', 'Men', 'Men', 'Women',\n",
       "       'Men', 'Women', 'Women', 'Men', 'Women', 'Women', 'Women', 'Men',\n",
       "       'Women', 'Men', 'Men', 'Men', 'Women', 'Women', 'Men', 'Women',\n",
       "       'Women', 'Women', 'Women', 'Men', 'Women', 'Women', 'Men', 'Women',\n",
       "       'Women', 'Women', 'Women', 'Men', 'Men', 'Women', 'Men', 'Men',\n",
       "       'Men', 'Men', 'Women', 'Women', 'Women', 'Women', 'Men', 'Men',\n",
       "       'Women', 'Women', 'Men', 'Women', 'Women', 'Women', 'Women', 'Men',\n",
       "       'Women', 'Men', 'Men', 'Men', 'Men', 'Men', 'Men', 'Men', 'Men',\n",
       "       'Women', 'Men', 'Men', 'Women', 'Women', 'Women', 'Women', 'Women',\n",
       "       'Men', 'Women', 'Women', 'Men', 'Women', 'Women', 'Men', 'Women',\n",
       "       'Women', 'Women', 'Men', 'Men', 'Women', 'Men', 'Women', 'Women',\n",
       "       'Men', 'Men', 'Women', 'Women', 'Men', 'Men', 'Women', 'Men',\n",
       "       'Men', 'Men', 'Women', 'Women', 'Men', 'Women', 'Women', 'Men',\n",
       "       'Women', 'Men', 'Men', 'Men', 'Men', 'Women', 'Men', 'Women',\n",
       "       'Women', 'Women', 'Women', 'Men', 'Men', 'Men', 'Women', 'Women',\n",
       "       'Men', 'Men', 'Men', 'Men', 'Women', 'Men', 'Women', 'Women',\n",
       "       'Women', 'Men', 'Men', 'Women', 'Men', 'Men', 'Women', 'Women',\n",
       "       'Men', 'Men', 'Men', 'Women', 'Women', 'Men', 'Men', 'Men', 'Men',\n",
       "       'Women', 'Women', 'Women', 'Women', 'Women', 'Men', 'Women',\n",
       "       'Women', 'Women', 'Women', 'Women', 'Women', 'Men', 'Men', 'Women',\n",
       "       'Men', 'Women', 'Men', 'Women', 'Men', 'Women', 'Men', 'Women',\n",
       "       'Men', 'Women', 'Women', 'Women', 'Men', 'Women', 'Women', 'Men',\n",
       "       'Men', 'Women', 'Men', 'Men', 'Men', 'Women', 'Women', 'Women',\n",
       "       'Men', 'Men', 'Women', 'Women', 'Women', 'Women', 'Men', 'Men',\n",
       "       'Men', 'Men', 'Men', 'Women', 'Women', 'Men', 'Women', 'Women',\n",
       "       'Men', 'Men', 'Women', 'Men', 'Men', 'Men', 'Women', 'Women',\n",
       "       'Women', 'Women', 'Men', 'Women', 'Women', 'Women', 'Men', 'Men',\n",
       "       'Women', 'Men', 'Men', 'Women', 'Men', 'Men', 'Men', 'Women',\n",
       "       'Men', 'Women', 'Women', 'Men', 'Women', 'Men', 'Women', 'Men',\n",
       "       'Women', 'Men', 'Women', 'Women', 'Men', 'Women', 'Men', 'Men',\n",
       "       'Women', 'Women', 'Men', 'Women', 'Women', 'Women', 'Men', 'Men',\n",
       "       'Women', 'Women', 'Men', 'Women', 'Men', 'Men', 'Men', 'Women',\n",
       "       'Men', 'Women', 'Women', 'Men', 'Women', 'Men', 'Men', 'Women',\n",
       "       'Women', 'Women', 'Women', 'Women', 'Men', 'Men', 'Women', 'Men',\n",
       "       'Women', 'Women', 'Men', 'Men', 'Women', 'Men', 'Women', 'Men',\n",
       "       'Women', 'Men', 'Men', 'Women', 'Men', 'Women', 'Men', 'Men',\n",
       "       'Men', 'Women', 'Men', 'Men', 'Women', 'Men', 'Women', 'Men',\n",
       "       'Women', 'Men', 'Men', 'Women', 'Men', 'Women', 'Men', 'Women',\n",
       "       'Men', 'Men', 'Women', 'Women', 'Women', 'Women', 'Women', 'Women',\n",
       "       'Women', 'Women', 'Women', 'Men', 'Women', 'Men', 'Women', 'Women',\n",
       "       'Men', 'Women', 'Women', 'Women', 'Women', 'Men', 'Women', 'Women',\n",
       "       'Men', 'Men', 'Women', 'Men', 'Women', 'Men', 'Men', 'Women',\n",
       "       'Women', 'Women', 'Men', 'Men', 'Men', 'Women', 'Women', 'Women',\n",
       "       'Men', 'Women', 'Men', 'Men', 'Men', 'Women', 'Men', 'Men',\n",
       "       'Women', 'Women', 'Men', 'Men', 'Women', 'Women', 'Women', 'Women',\n",
       "       'Men', 'Women', 'Women', 'Women', 'Men', 'Men', 'Men', 'Women',\n",
       "       'Women', 'Women', 'Women', 'Women', 'Women', 'Men', 'Men', 'Men',\n",
       "       'Women', 'Men', 'Men', 'Women', 'Men', 'Women', 'Men', 'Men',\n",
       "       'Women', 'Women', 'Women', 'Women', 'Women', 'Men', 'Men', 'Women',\n",
       "       'Men', 'Men', 'Women', 'Women', 'Men', 'Men', 'Women', 'Women',\n",
       "       'Women', 'Women', 'Women', 'Women', 'Men', 'Men', 'Women', 'Men',\n",
       "       'Women', 'Women', 'Women', 'Women', 'Women', 'Men', 'Women', 'Men',\n",
       "       'Men', 'Women', 'Women', 'Women', 'Women', 'Men', 'Men', 'Women',\n",
       "       'Men', 'Women', 'Men', 'Men', 'Men', 'Women', 'Women', 'Women',\n",
       "       'Women', 'Men', 'Women', 'Women', 'Women', 'Men', 'Women', 'Women',\n",
       "       'Men', 'Men', 'Men', 'Women', 'Men', 'Women', 'Men', 'Men',\n",
       "       'Women', 'Women', 'Women', 'Men', 'Women', 'Women', 'Women',\n",
       "       'Women', 'Men', 'Men', 'Women', 'Men', 'Women', 'Men', 'Men',\n",
       "       'Men', 'Women', 'Men', 'Women', 'Women', 'Women', 'Men', 'Men',\n",
       "       'Women', 'Men', 'Men', 'Women', 'Women', 'Men', 'Women', 'Men',\n",
       "       'Men', 'Women', 'Women', 'Men', 'Women', 'Women', 'Men', 'Women',\n",
       "       'Men', 'Women', 'Women', 'Men', 'Men', 'Men', 'Women', 'Women',\n",
       "       'Women', 'Women', 'Men', 'Men', 'Men', 'Women', 'Women', 'Women',\n",
       "       'Women', 'Women', 'Men', 'Women', 'Women', 'Women', 'Women', 'Men',\n",
       "       'Women', 'Women', 'Men', 'Men', 'Men', 'Men', 'Men', 'Men', 'Men',\n",
       "       'Women', 'Women', 'Men', 'Men', 'Women', 'Men', 'Men', 'Women',\n",
       "       'Women', 'Men', 'Women', 'Women', 'Women', 'Women', 'Women',\n",
       "       'Women', 'Women', 'Women', 'Women', 'Women', 'Men', 'Women',\n",
       "       'Women', 'Men', 'Men', 'Women', 'Women', 'Men', 'Women', 'Women',\n",
       "       'Men', 'Women', 'Women', 'Women', 'Women', 'Women', 'Men', 'Men',\n",
       "       'Men', 'Women', 'Men', 'Women', 'Women', 'Women', 'Women', 'Men',\n",
       "       'Men', 'Women', 'Men', 'Men', 'Men', 'Men', 'Men', 'Women',\n",
       "       'Women', 'Women', 'Women', 'Women', 'Men', 'Men', 'Men', 'Women',\n",
       "       'Women', 'Women'], dtype=object)"
      ]
     },
     "execution_count": 31,
     "metadata": {},
     "output_type": "execute_result"
    }
   ],
   "source": [
    "gender"
   ]
  },
  {
   "cell_type": "markdown",
   "metadata": {},
   "source": [
    "### Base notes only"
   ]
  },
  {
   "cell_type": "code",
   "execution_count": 10,
   "metadata": {},
   "outputs": [],
   "source": [
    "base_scores = {}\n",
    "base_stdevs = {}\n",
    "for name, clf in classifiers.items():\n",
    "    if name == \"kNN\":\n",
    "        scores = cross_val_score(clf,X1.toarray().astype('bool'), gender, cv=5)\n",
    "    else:\n",
    "        scores = cross_val_score(clf,X1.toarray(), gender, cv=5)\n",
    "    mean = scores.mean()\n",
    "    std = stdev(scores)\n",
    "    base_scores[name] = mean\n",
    "    base_stdevs[name] = std"
   ]
  },
  {
   "cell_type": "code",
   "execution_count": 11,
   "metadata": {},
   "outputs": [
    {
     "data": {
      "text/plain": [
       "{'NB': 0.7564736545505777,\n",
       " 'P': 0.7042335869258947,\n",
       " 'MLP': 0.7209213863060018,\n",
       " 'RF': 0.7410467737390813,\n",
       " 'kNN': 0.7351648351648352,\n",
       " 'SVM': 0.7695407156945618,\n",
       " 'baseline': 0.535629754860524}"
      ]
     },
     "execution_count": 11,
     "metadata": {},
     "output_type": "execute_result"
    }
   ],
   "source": [
    "base_scores"
   ]
  },
  {
   "cell_type": "markdown",
   "metadata": {},
   "source": [
    "#### Middle Notes"
   ]
  },
  {
   "cell_type": "code",
   "execution_count": 12,
   "metadata": {},
   "outputs": [
    {
     "name": "stdout",
     "output_type": "stream",
     "text": [
      "{'NB': 0.8657579599887292, 'P': 0.8278106508875741, 'MLP': 0.8645745280360664, 'RF': 0.8752606367990984, 'kNN': 0.8479853479853479, 'SVM': 0.8871513102282332, 'baseline': 0.535629754860524}\n"
     ]
    }
   ],
   "source": [
    "mid_scores = {}\n",
    "mid_stdevs = {}\n",
    "for name, clf in classifiers.items():\n",
    "    if name == \"kNN\":\n",
    "        scores = cross_val_score(clf,X2.toarray().astype('bool'), gender, cv=5)\n",
    "    else:\n",
    "        scores = cross_val_score(clf,X2.toarray(), gender, cv=5)\n",
    "    mean = scores.mean()\n",
    "    std = stdev(scores)\n",
    "    mid_scores[name] = mean\n",
    "    mid_stdevs[name] = std\n",
    "print(mid_scores)"
   ]
  },
  {
   "cell_type": "markdown",
   "metadata": {},
   "source": [
    "#### Scents"
   ]
  },
  {
   "cell_type": "code",
   "execution_count": 13,
   "metadata": {},
   "outputs": [
    {
     "name": "stdout",
     "output_type": "stream",
     "text": [
      "{'NB': 0.7755142293603832, 'P': 0.7529797125950972, 'MLP': 0.774323753169907, 'RF': 0.7755071851225697, 'kNN': 0.6875457875457875, 'SVM': 0.7778740490278951, 'baseline': 0.535629754860524}\n"
     ]
    }
   ],
   "source": [
    "scent_scores = {}\n",
    "scent_stdevs = {}\n",
    "for name, clf in classifiers.items():\n",
    "    if name == \"kNN\":\n",
    "        scores = cross_val_score(clf,X3.toarray().astype('bool'), gender, cv=5)\n",
    "    else:\n",
    "        scores = cross_val_score(clf,X3.toarray(), gender, cv=5)\n",
    "    mean = scores.mean()\n",
    "    std = stdev(scores)\n",
    "    scent_scores[name] = mean\n",
    "    scent_stdevs[name] = std\n",
    "print(scent_scores)"
   ]
  },
  {
   "cell_type": "markdown",
   "metadata": {
    "tags": []
   },
   "source": [
    "### All Features"
   ]
  },
  {
   "cell_type": "code",
   "execution_count": 14,
   "metadata": {},
   "outputs": [
    {
     "name": "stdout",
     "output_type": "stream",
     "text": [
      "{'NB': 0.9132995209918287, 'P': 0.8717526063679909, 'MLP': 0.8907368272752889, 'RF': 0.9026275007044238, 'kNN': 0.8574950690335307, 'SVM': 0.8919202592279516, 'baseline': 0.535629754860524}\n"
     ]
    }
   ],
   "source": [
    "comb_scores = {}\n",
    "comb_stdevs = {}\n",
    "for name, clf in classifiers.items():\n",
    "    if name == \"kNN\":\n",
    "        scores = cross_val_score(clf,X_comb.astype('bool'), gender, cv=5)\n",
    "    else:\n",
    "        scores = cross_val_score(clf,X_comb, gender, cv=5)\n",
    "    mean = scores.mean()\n",
    "    std = stdev(scores)\n",
    "    comb_scores[name] = mean\n",
    "    comb_stdevs[name] = std\n",
    "print(comb_scores)"
   ]
  },
  {
   "cell_type": "code",
   "execution_count": 15,
   "metadata": {},
   "outputs": [],
   "source": [
    "def roundd(scoredict, n):\n",
    "    for k, v in scoredict.items():\n",
    "        scoredict[k] = round(v,n)\n",
    "    return scoredict"
   ]
  },
  {
   "cell_type": "code",
   "execution_count": 16,
   "metadata": {},
   "outputs": [
    {
     "data": {
      "text/html": [
       "<div>\n",
       "<style scoped>\n",
       "    .dataframe tbody tr th:only-of-type {\n",
       "        vertical-align: middle;\n",
       "    }\n",
       "\n",
       "    .dataframe tbody tr th {\n",
       "        vertical-align: top;\n",
       "    }\n",
       "\n",
       "    .dataframe thead th {\n",
       "        text-align: right;\n",
       "    }\n",
       "</style>\n",
       "<table border=\"1\" class=\"dataframe\">\n",
       "  <thead>\n",
       "    <tr style=\"text-align: right;\">\n",
       "      <th></th>\n",
       "      <th>NB</th>\n",
       "      <th>P</th>\n",
       "      <th>MLP</th>\n",
       "      <th>RF</th>\n",
       "      <th>kNN</th>\n",
       "      <th>SVM</th>\n",
       "      <th>baseline</th>\n",
       "    </tr>\n",
       "    <tr>\n",
       "      <th></th>\n",
       "      <th></th>\n",
       "      <th></th>\n",
       "      <th></th>\n",
       "      <th></th>\n",
       "      <th></th>\n",
       "      <th></th>\n",
       "      <th></th>\n",
       "    </tr>\n",
       "  </thead>\n",
       "  <tbody>\n",
       "    <tr>\n",
       "      <th>Base Notes</th>\n",
       "      <td>0.76</td>\n",
       "      <td>0.70</td>\n",
       "      <td>0.72</td>\n",
       "      <td>0.74</td>\n",
       "      <td>0.74</td>\n",
       "      <td>0.77</td>\n",
       "      <td>0.54</td>\n",
       "    </tr>\n",
       "    <tr>\n",
       "      <th>Middle Notes</th>\n",
       "      <td>0.87</td>\n",
       "      <td>0.83</td>\n",
       "      <td>0.86</td>\n",
       "      <td>0.88</td>\n",
       "      <td>0.85</td>\n",
       "      <td>0.89</td>\n",
       "      <td>0.54</td>\n",
       "    </tr>\n",
       "    <tr>\n",
       "      <th>Scents</th>\n",
       "      <td>0.78</td>\n",
       "      <td>0.75</td>\n",
       "      <td>0.77</td>\n",
       "      <td>0.78</td>\n",
       "      <td>0.69</td>\n",
       "      <td>0.78</td>\n",
       "      <td>0.54</td>\n",
       "    </tr>\n",
       "    <tr>\n",
       "      <th>Features Combined</th>\n",
       "      <td>0.91</td>\n",
       "      <td>0.87</td>\n",
       "      <td>0.89</td>\n",
       "      <td>0.90</td>\n",
       "      <td>0.86</td>\n",
       "      <td>0.89</td>\n",
       "      <td>0.54</td>\n",
       "    </tr>\n",
       "  </tbody>\n",
       "</table>\n",
       "</div>"
      ],
      "text/plain": [
       "                     NB     P   MLP    RF   kNN   SVM  baseline\n",
       "                                                               \n",
       "Base Notes         0.76  0.70  0.72  0.74  0.74  0.77      0.54\n",
       "Middle Notes       0.87  0.83  0.86  0.88  0.85  0.89      0.54\n",
       "Scents             0.78  0.75  0.77  0.78  0.69  0.78      0.54\n",
       "Features Combined  0.91  0.87  0.89  0.90  0.86  0.89      0.54"
      ]
     },
     "execution_count": 16,
     "metadata": {},
     "output_type": "execute_result"
    }
   ],
   "source": [
    "base_scores = roundd(base_scores,2)\n",
    "mid_scores = roundd(mid_scores,2)\n",
    "scent_scores = roundd(scent_scores,2)\n",
    "comb_scores = roundd(comb_scores,2)\n",
    "\n",
    "rows_list = [base_scores, mid_scores, scent_scores, comb_scores]\n",
    "res = pd.DataFrame(rows_list)\n",
    "res[\" \"] = [\"Base Notes\", \"Middle Notes\", \"Scents\", \"Features Combined\"]\n",
    "res = res.set_index([\" \"])\n",
    "res"
   ]
  },
  {
   "cell_type": "code",
   "execution_count": 17,
   "metadata": {},
   "outputs": [],
   "source": [
    "res.to_csv(\"table2.csv\")"
   ]
  },
  {
   "cell_type": "markdown",
   "metadata": {},
   "source": [
    "### SVM Grid Search"
   ]
  },
  {
   "cell_type": "code",
   "execution_count": null,
   "metadata": {},
   "outputs": [],
   "source": [
    "from sklearn.model_selection import GridSearchCV\n",
    "param_grid = {'C': [0.1,1, 10, 100], 'gamma': [1,0.1,0.01,0.001],'kernel': ['rbf', 'poly', 'sigmoid']}\n",
    "\n",
    "grid = GridSearchCV(SVC(),param_grid,refit=True,verbose=1)\n",
    "grid1 = grid.fit(X1,gender)\n",
    "grid2 = grid.fit(X2,gender)\n",
    "grid3 = grid.fit(X3,gender)\n",
    "grid4 = grid.fit(X_comb,gender)\n",
    "\n",
    "grid_scores_base = cross_val_score(grid1, X1, gender)\n",
    "grid_scores_mid = cross_val_score(grid2, X2, gender)\n",
    "grid_scores_scent = cross_val_score(grid3, X3, gender)\n",
    "grid_scores_comb = cross_val_score(grid4, X_comb, gender)\n",
    "\n",
    "print(grid_scores_base.mean())\n",
    "print(grid_scores_mid.mean())\n",
    "print(grid_scores_scent.mean())\n",
    "print(grid_scores_comb.mean())\n"
   ]
  },
  {
   "cell_type": "code",
   "execution_count": 19,
   "metadata": {},
   "outputs": [
    {
     "data": {
      "text/plain": [
       "(SVC(C=10, gamma=0.1),\n",
       " SVC(C=10, gamma=0.1),\n",
       " SVC(C=10, gamma=0.1),\n",
       " SVC(C=10, gamma=0.1))"
      ]
     },
     "execution_count": 19,
     "metadata": {},
     "output_type": "execute_result"
    }
   ],
   "source": [
    "grid1.best_estimator_, grid2.best_estimator_,grid3.best_estimator_,grid4.best_estimator_"
   ]
  },
  {
   "cell_type": "markdown",
   "metadata": {},
   "source": [
    "### Average Confusion Matrix (across folds) for SVM"
   ]
  },
  {
   "cell_type": "code",
   "execution_count": 26,
   "metadata": {},
   "outputs": [],
   "source": [
    "\n",
    "conf_matrix_list_of_arrays = []\n",
    "kf = KFold(n_splits=5)\n",
    "model = grid4.best_estimator_\n",
    "for train_index, test_index in kf.split(X_comb):\n",
    "\n",
    "   X_train, X_test = X_comb[train_index], X_comb[test_index]\n",
    "   y_train, y_test = gender[train_index], gender[test_index]\n",
    "\n",
    "   model.fit(X_train, y_train)\n",
    "   conf_matrix = confusion_matrix(y_test, model.predict(X_test))\n",
    "   conf_matrix_list_of_arrays.append(conf_matrix)"
   ]
  },
  {
   "cell_type": "code",
   "execution_count": 30,
   "metadata": {},
   "outputs": [
    {
     "name": "stdout",
     "output_type": "stream",
     "text": [
      "[[68.8  9.4]\n",
      " [ 6.6 83.6]]\n"
     ]
    }
   ],
   "source": [
    "mean_conf = np.mean(conf_matrix_list_of_arrays, axis=0)\n",
    "print(mean_conf)"
   ]
  },
  {
   "cell_type": "markdown",
   "metadata": {
    "tags": []
   },
   "source": [
    "## Plotting "
   ]
  },
  {
   "cell_type": "code",
   "execution_count": 5,
   "metadata": {},
   "outputs": [],
   "source": [
    "# We will include the top 5 features (most frequent) for base notes, middle notes and scents\n",
    "vect_base = ReplaceCountVectorizer(max_features = 5, stop_words = ['accord', 'accords', 'note', 'notes', 'and', 'with', 'of', 'by', 'ectract', 'co', 'essence', 'masculine'])\n",
    "vect_middle = ReplaceCountVectorizer(max_features = 5, stop_words = ['of', 'the', 'valley', 'note', 'notes', 'and', 'with', 'ectract', 'co', 'essence', 'masculine'])\n",
    "vect_scents = ReplaceCountVectorizer(max_features = 5, stop_words = ['note', 'notes', 'and', 'with', 'of', 'by', 'ectract', 'co', 'essence', 'masculine'])\n",
    "\n",
    "X1 = vect_base.fit_transform(base_note)\n",
    "X2 = vect_middle.fit_transform(middle_note)\n",
    "X3 = vect_scents.fit_transform(scents)\n"
   ]
  },
  {
   "cell_type": "code",
   "execution_count": 6,
   "metadata": {},
   "outputs": [],
   "source": [
    "scent_names = vect_scents.get_feature_names_out()\n",
    "base_names = vect_base.get_feature_names_out()\n",
    "middle_names = vect_middle.get_feature_names_out()\n",
    "\n",
    "scent_df = pd.DataFrame(X3.todense(), columns = scent_names)\n",
    "base_df = pd.DataFrame(X1.todense(), columns = base_names)\n",
    "middle_df = pd.DataFrame(X2.todense(), columns = middle_names)\n",
    "\n",
    "mlb = LabelEncoder()\n",
    "\n",
    "scent_df['gender'] = mlb.fit_transform(gender) #Binarizing gender (for entirely non-political reasons)\n",
    "base_df['gender'] = scent_df['gender']\n",
    "middle_df['gender'] = scent_df['gender']"
   ]
  },
  {
   "cell_type": "markdown",
   "metadata": {},
   "source": [
    "### Stacked Barplot: Distribution of Scents per Department"
   ]
  },
  {
   "cell_type": "code",
   "execution_count": 7,
   "metadata": {},
   "outputs": [],
   "source": [
    "def visualize_distribution(df, names, ax):\n",
    "    mens_total = np.count_nonzero(df['gender'] == 0)\n",
    "    womens_total = np.count_nonzero(df['gender'] == 1)\n",
    "  \n",
    "    counts = np.zeros(shape=(len(names),2))\n",
    "    for i, feat in enumerate(names):\n",
    "        men = np.count_nonzero(np.logical_and(df['gender'] == 0, df[feat] == 1))\n",
    "        women = np.count_nonzero(np.logical_and(df['gender'] == 1, df[feat] == 1))\n",
    "\n",
    "        counts[i,0] = men/mens_total\n",
    "        counts[i,1] =  women/womens_total\n",
    "\n",
    "    counts *= 100\n",
    "\n",
    "    bar_labels = np.empty((6,2), dtype = 'object')\n",
    "    for i in range(len(counts)):\n",
    "        for j in range(2):\n",
    "            bar_labels[i,j] = names[i] + \", {:.1f}\".format(counts[i,j]) + \"%\"\n",
    "\n",
    "    bar_labels[5,0] = \"Other, {:.1f}\".format(100-sum(counts[:,0])) + \"%\"\n",
    "    bar_labels[5,1] = \"Other, {:.1f}\".format(100-sum(counts[:,1])) + \"%\"\n",
    "    \n",
    "    labels = [\"Men\", \"Women\"]\n",
    "    width = 0.5   \n",
    "    bars = []\n",
    " \n",
    "    bars.append(ax.bar(labels, counts[0], width))\n",
    "    for i in range(1,len(counts)):\n",
    " \n",
    "        bars.append(ax.bar(labels, counts[i], width, bottom=sum(counts[:i])))\n",
    "\n",
    "    bars.append(ax.bar(labels, 100-sum(counts), width, bottom=sum(counts)))\n",
    "    ax.set_title('Distribution of scents per department')\n",
    "\n",
    "\n",
    "    for i, bar in enumerate(bars[:5]):\n",
    "        plt.bar_label(bar, labels = bar_labels[i], label_type ='center')\n",
    "\n",
    "    plt.bar_label(bars[5], labels = bar_labels[5], label_type = 'center')\n",
    "\n",
    "    plt.show()"
   ]
  },
  {
   "cell_type": "code",
   "execution_count": 8,
   "metadata": {},
   "outputs": [
    {
     "data": {
      "image/png": "[encoded data removed]",
      "text/plain": [
       "<Figure size 576x396 with 1 Axes>"
      ]
     },
     "metadata": {},
     "output_type": "display_data"
    }
   ],
   "source": [
    "plt.style.use('seaborn')\n",
    "fig, ax = plt.subplots()\n",
    "visualize_distribution(scent_df, scent_names, ax)\n"
   ]
  },
  {
   "cell_type": "markdown",
   "metadata": {},
   "source": [
    "#### Scatterplot: Correlation with Gender (X) and Frequency (Y) for top 5 features"
   ]
  },
  {
   "cell_type": "code",
   "execution_count": 9,
   "metadata": {},
   "outputs": [
    {
     "data": {
      "text/plain": [
       "Text(0.5, 0, 'Correlation')"
      ]
     },
     "execution_count": 9,
     "metadata": {},
     "output_type": "execute_result"
    },
    {
     "data": {
      "image/png": "[encoded data removed]",
      "text/plain": [
       "<Figure size 640x480 with 1 Axes>"
      ]
     },
     "metadata": {},
     "output_type": "display_data"
    }
   ],
   "source": [
    "X = scent_df.corr().iloc[-1][:-1] # Correlation between scents and gender M/W\n",
    "Y = sum(X3.toarray()) #Sum of the columns gives the number of occurences for each scent\n",
    "plt.style.use('seaborn')\n",
    "plt.figure(figsize=(8, 6), dpi=80)\n",
    "plt.scatter(X,Y, s =0)\n",
    "for i, d in enumerate(zip(X,Y)):\n",
    "    plt.annotate(scent_names[i], d, ha='center', va='center', c='r') \n",
    "\n",
    "X = base_df.corr().iloc[-1][:-1] # Correlation between base notes and gender M/W\n",
    "Y = sum(X1.toarray()) #Sum of the columns gives the number of occurences for each base note\n",
    "plt.scatter(X,Y, s =0)\n",
    "for i, d in enumerate(zip(X,Y)):\n",
    "    plt.annotate(base_names[i], d, ha='center', va='center', c='b')\n",
    "    \n",
    "X = middle_df.corr().iloc[-1][:-1] # Correlation between middle notes and gender M/W\n",
    "Y = sum(X2.toarray()) ##Sum of the columns gives the number of occurences for each middle note\n",
    "plt.scatter(X,Y, s =0)\n",
    "for i, d in enumerate(zip(X,Y)):\n",
    "    plt.annotate(middle_names[i], d, ha='center', va='center', c='g')\n",
    "    \n",
    "patch1 = mpatches.Patch(color='r',label='Scents') \n",
    "patch2 = mpatches.Patch(color='b', label='Base Notes') \n",
    "patch3 = mpatches.Patch(color='g', label='Middle Notes')\n",
    "plt.legend(framealpha=1, handles=[patch1, patch2, patch3])\n",
    "\n",
    "plt.xlim(-0.5, 0.5)\n",
    "plt.title(\"Correlation with department (Men/Women) and frequency for most common features\")\n",
    "plt.ylabel(\"Number of occurences\")\n",
    "plt.xlabel(\"Correlation\")\n",
    "#plt.savefig(\"Correlation2.png\",dpi=300)"
   ]
  },
  {
   "cell_type": "code",
   "execution_count": null,
   "metadata": {},
   "outputs": [],
   "source": []
  }
 ],
 "metadata": {
  "kernelspec": {
   "display_name": "Python 3 (ipykernel)",
   "language": "python",
   "name": "python3"
  },
  "language_info": {
   "codemirror_mode": {
    "name": "ipython",
    "version": 3
   },
   "file_extension": ".py",
   "mimetype": "text/x-python",
   "name": "python",
   "nbconvert_exporter": "python",
   "pygments_lexer": "ipython3",
   "version": "3.8.12"
  }
 },
 "nbformat": 4,
 "nbformat_minor": 4
}
