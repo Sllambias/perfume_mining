{
 "cells": [
  {
   "cell_type": "code",
   "execution_count": 79,
   "metadata": {},
   "outputs": [],
   "source": [
    "import random\n",
    "import pandas as pd\n",
    "from matplotlib import pyplot as plt\n",
    "import numpy as np\n",
    "from sklearn import model_selection\n",
    "from sklearn.feature_extraction.text import CountVectorizer\n",
    "from sklearn.naive_bayes import BernoulliNB\n",
    "from sklearn.neighbors import KNeighborsClassifier\n",
    "from sklearn.linear_model import Perceptron\n",
    "from sklearn.dummy import DummyClassifier\n",
    "from sklearn.metrics import accuracy_score\n",
    "from sklearn.model_selection import cross_val_score\n",
    "from sklearn.preprocessing import LabelEncoder\n",
    "from statistics import stdev\n",
    "from collections import Counter\n"
   ]
  },
  {
   "cell_type": "code",
   "execution_count": 2,
   "metadata": {},
   "outputs": [
    {
     "data": {
      "text/html": [
       "<div>\n",
       "<style scoped>\n",
       "    .dataframe tbody tr th:only-of-type {\n",
       "        vertical-align: middle;\n",
       "    }\n",
       "\n",
       "    .dataframe tbody tr th {\n",
       "        vertical-align: top;\n",
       "    }\n",
       "\n",
       "    .dataframe thead th {\n",
       "        text-align: right;\n",
       "    }\n",
       "</style>\n",
       "<table border=\"1\" class=\"dataframe\">\n",
       "  <thead>\n",
       "    <tr style=\"text-align: right;\">\n",
       "      <th></th>\n",
       "      <th>brand</th>\n",
       "      <th>name</th>\n",
       "      <th>old_price</th>\n",
       "      <th>new_price</th>\n",
       "      <th>ml</th>\n",
       "      <th>concentration</th>\n",
       "      <th>department</th>\n",
       "      <th>scents</th>\n",
       "      <th>base_note</th>\n",
       "      <th>middle_note</th>\n",
       "      <th>item_rating</th>\n",
       "      <th>seller</th>\n",
       "      <th>seller_rating</th>\n",
       "      <th>num_seller_ratings</th>\n",
       "    </tr>\n",
       "  </thead>\n",
       "  <tbody>\n",
       "    <tr>\n",
       "      <th>0</th>\n",
       "      <td>PACO RABANNE</td>\n",
       "      <td>1 Million Lucky</td>\n",
       "      <td>395.0</td>\n",
       "      <td>244.55</td>\n",
       "      <td>100</td>\n",
       "      <td>EDT</td>\n",
       "      <td>Men</td>\n",
       "      <td>Woody</td>\n",
       "      <td>Oakmoss, Patchouli and Vetiver</td>\n",
       "      <td>Hazelnut, Jasmine, Cashmir Wood, Cedar and Honey</td>\n",
       "      <td>5.0</td>\n",
       "      <td>noon</td>\n",
       "      <td>4.2</td>\n",
       "      <td>98.1K</td>\n",
       "    </tr>\n",
       "    <tr>\n",
       "      <th>1</th>\n",
       "      <td>Roberto Cavalli</td>\n",
       "      <td>Paradiso Assoluto</td>\n",
       "      <td>415.0</td>\n",
       "      <td>107.95</td>\n",
       "      <td>50</td>\n",
       "      <td>EDP</td>\n",
       "      <td>Women</td>\n",
       "      <td>Floral</td>\n",
       "      <td>Vanilla, Sandalwood And Patchouli</td>\n",
       "      <td>Wild Jasmine and Red Lily</td>\n",
       "      <td>4.8</td>\n",
       "      <td>noon</td>\n",
       "      <td>4.2</td>\n",
       "      <td>98.1K</td>\n",
       "    </tr>\n",
       "    <tr>\n",
       "      <th>2</th>\n",
       "      <td>S.T.Dupont</td>\n",
       "      <td>Royal Amber</td>\n",
       "      <td>265.0</td>\n",
       "      <td>186.90</td>\n",
       "      <td>100</td>\n",
       "      <td>EDP</td>\n",
       "      <td>Unisex</td>\n",
       "      <td>Arabian</td>\n",
       "      <td>Lemon, Mint and Wood Moss</td>\n",
       "      <td>Sandalwood and Cedar</td>\n",
       "      <td>5.0</td>\n",
       "      <td>noon</td>\n",
       "      <td>4.2</td>\n",
       "      <td>98.1K</td>\n",
       "    </tr>\n",
       "    <tr>\n",
       "      <th>3</th>\n",
       "      <td>GUESS</td>\n",
       "      <td>Seductive Blue</td>\n",
       "      <td>290.0</td>\n",
       "      <td>103.20</td>\n",
       "      <td>100</td>\n",
       "      <td>EDT</td>\n",
       "      <td>Men</td>\n",
       "      <td>Spicy</td>\n",
       "      <td>Cashmere Wood, Moss And Rippled Sand Accord</td>\n",
       "      <td>Blue Coral Aquaspace Accord And Geranium</td>\n",
       "      <td>3.0</td>\n",
       "      <td>noon</td>\n",
       "      <td>4.2</td>\n",
       "      <td>98.1K</td>\n",
       "    </tr>\n",
       "    <tr>\n",
       "      <th>4</th>\n",
       "      <td>Roberto Cavalli</td>\n",
       "      <td>Uomo</td>\n",
       "      <td>260.0</td>\n",
       "      <td>94.95</td>\n",
       "      <td>50</td>\n",
       "      <td>EDP</td>\n",
       "      <td>Women</td>\n",
       "      <td>Arabian</td>\n",
       "      <td>Vanille, Benzoin, Tonka Bean</td>\n",
       "      <td>African Orange Flower</td>\n",
       "      <td>4.8</td>\n",
       "      <td>noon</td>\n",
       "      <td>4.2</td>\n",
       "      <td>98.1K</td>\n",
       "    </tr>\n",
       "    <tr>\n",
       "      <th>...</th>\n",
       "      <td>...</td>\n",
       "      <td>...</td>\n",
       "      <td>...</td>\n",
       "      <td>...</td>\n",
       "      <td>...</td>\n",
       "      <td>...</td>\n",
       "      <td>...</td>\n",
       "      <td>...</td>\n",
       "      <td>...</td>\n",
       "      <td>...</td>\n",
       "      <td>...</td>\n",
       "      <td>...</td>\n",
       "      <td>...</td>\n",
       "      <td>...</td>\n",
       "    </tr>\n",
       "    <tr>\n",
       "      <th>987</th>\n",
       "      <td>HUGO BOSS</td>\n",
       "      <td>Bottled Night</td>\n",
       "      <td>688.0</td>\n",
       "      <td>250.00</td>\n",
       "      <td>200</td>\n",
       "      <td>EDT</td>\n",
       "      <td>Men</td>\n",
       "      <td>Woody</td>\n",
       "      <td>Musk, Woody Notes</td>\n",
       "      <td>Violet</td>\n",
       "      <td>4.5</td>\n",
       "      <td>Lady Style</td>\n",
       "      <td>3.6</td>\n",
       "      <td>5</td>\n",
       "    </tr>\n",
       "    <tr>\n",
       "      <th>995</th>\n",
       "      <td>BVLGARI</td>\n",
       "      <td>Petits Et Mamans</td>\n",
       "      <td>327.0</td>\n",
       "      <td>197.75</td>\n",
       "      <td>100</td>\n",
       "      <td>EDT</td>\n",
       "      <td>Women</td>\n",
       "      <td>Floral</td>\n",
       "      <td>Iris and Vanilla</td>\n",
       "      <td>White Peach</td>\n",
       "      <td>4.8</td>\n",
       "      <td>Tiffany</td>\n",
       "      <td>4.1</td>\n",
       "      <td>75</td>\n",
       "    </tr>\n",
       "    <tr>\n",
       "      <th>997</th>\n",
       "      <td>Roberto Cavalli</td>\n",
       "      <td>Paradiso Azzurro</td>\n",
       "      <td>499.0</td>\n",
       "      <td>165.00</td>\n",
       "      <td>75</td>\n",
       "      <td>EDP</td>\n",
       "      <td>Women</td>\n",
       "      <td>Fruity</td>\n",
       "      <td>Cypress, Cashmere Wood, Amber wood, Sandalwood...</td>\n",
       "      <td>Wild Jasmine, Watery Notes, Apple, Tuberose, P...</td>\n",
       "      <td>4.7</td>\n",
       "      <td>Beauty Group</td>\n",
       "      <td>4.3</td>\n",
       "      <td>124</td>\n",
       "    </tr>\n",
       "    <tr>\n",
       "      <th>999</th>\n",
       "      <td>BURBERRY</td>\n",
       "      <td>For Women EDP Natural Sp</td>\n",
       "      <td>378.0</td>\n",
       "      <td>153.75</td>\n",
       "      <td>100</td>\n",
       "      <td>EDT</td>\n",
       "      <td>Women</td>\n",
       "      <td>Fruity</td>\n",
       "      <td>Musk And Vanilla</td>\n",
       "      <td>Woody-Floral, Sandalwood And Cedar</td>\n",
       "      <td>4.8</td>\n",
       "      <td>noon</td>\n",
       "      <td>4.2</td>\n",
       "      <td>98.1K</td>\n",
       "    </tr>\n",
       "    <tr>\n",
       "      <th>1001</th>\n",
       "      <td>SWISS ARABIAN</td>\n",
       "      <td>Layali CPO At</td>\n",
       "      <td>126.0</td>\n",
       "      <td>77.00</td>\n",
       "      <td>15</td>\n",
       "      <td>EDT</td>\n",
       "      <td>Unisex</td>\n",
       "      <td>Arabian</td>\n",
       "      <td>Agarwood and Amber</td>\n",
       "      <td>Ylang-Ylang, Rose and Jasmine</td>\n",
       "      <td>4.0</td>\n",
       "      <td>Swiss Arabian PerfumesPRICE UPDATE WITH 15% VA...</td>\n",
       "      <td>3.9</td>\n",
       "      <td>5</td>\n",
       "    </tr>\n",
       "  </tbody>\n",
       "</table>\n",
       "<p>903 rows × 14 columns</p>\n",
       "</div>"
      ],
      "text/plain": [
       "                brand                      name  old_price  new_price   ml  \\\n",
       "0        PACO RABANNE           1 Million Lucky      395.0     244.55  100   \n",
       "1     Roberto Cavalli         Paradiso Assoluto      415.0     107.95   50   \n",
       "2          S.T.Dupont               Royal Amber      265.0     186.90  100   \n",
       "3               GUESS            Seductive Blue      290.0     103.20  100   \n",
       "4     Roberto Cavalli                      Uomo      260.0      94.95   50   \n",
       "...               ...                       ...        ...        ...  ...   \n",
       "987         HUGO BOSS             Bottled Night      688.0     250.00  200   \n",
       "995           BVLGARI          Petits Et Mamans      327.0     197.75  100   \n",
       "997   Roberto Cavalli          Paradiso Azzurro      499.0     165.00   75   \n",
       "999          BURBERRY  For Women EDP Natural Sp      378.0     153.75  100   \n",
       "1001    SWISS ARABIAN             Layali CPO At      126.0      77.00   15   \n",
       "\n",
       "     concentration department   scents  \\\n",
       "0              EDT        Men    Woody   \n",
       "1              EDP      Women   Floral   \n",
       "2              EDP     Unisex  Arabian   \n",
       "3              EDT        Men    Spicy   \n",
       "4              EDP      Women  Arabian   \n",
       "...            ...        ...      ...   \n",
       "987            EDT        Men    Woody   \n",
       "995            EDT      Women   Floral   \n",
       "997            EDP      Women   Fruity   \n",
       "999            EDT      Women   Fruity   \n",
       "1001           EDT     Unisex  Arabian   \n",
       "\n",
       "                                              base_note  \\\n",
       "0                        Oakmoss, Patchouli and Vetiver   \n",
       "1                     Vanilla, Sandalwood And Patchouli   \n",
       "2                             Lemon, Mint and Wood Moss   \n",
       "3           Cashmere Wood, Moss And Rippled Sand Accord   \n",
       "4                          Vanille, Benzoin, Tonka Bean   \n",
       "...                                                 ...   \n",
       "987                                   Musk, Woody Notes   \n",
       "995                                    Iris and Vanilla   \n",
       "997   Cypress, Cashmere Wood, Amber wood, Sandalwood...   \n",
       "999                                    Musk And Vanilla   \n",
       "1001                                 Agarwood and Amber   \n",
       "\n",
       "                                            middle_note  item_rating  \\\n",
       "0      Hazelnut, Jasmine, Cashmir Wood, Cedar and Honey          5.0   \n",
       "1                             Wild Jasmine and Red Lily          4.8   \n",
       "2                                  Sandalwood and Cedar          5.0   \n",
       "3              Blue Coral Aquaspace Accord And Geranium          3.0   \n",
       "4                                 African Orange Flower          4.8   \n",
       "...                                                 ...          ...   \n",
       "987                                              Violet          4.5   \n",
       "995                                         White Peach          4.8   \n",
       "997   Wild Jasmine, Watery Notes, Apple, Tuberose, P...          4.7   \n",
       "999                  Woody-Floral, Sandalwood And Cedar          4.8   \n",
       "1001                      Ylang-Ylang, Rose and Jasmine          4.0   \n",
       "\n",
       "                                                 seller  seller_rating  \\\n",
       "0                                                  noon            4.2   \n",
       "1                                                  noon            4.2   \n",
       "2                                                  noon            4.2   \n",
       "3                                                  noon            4.2   \n",
       "4                                                  noon            4.2   \n",
       "...                                                 ...            ...   \n",
       "987                                          Lady Style            3.6   \n",
       "995                                             Tiffany            4.1   \n",
       "997                                        Beauty Group            4.3   \n",
       "999                                                noon            4.2   \n",
       "1001  Swiss Arabian PerfumesPRICE UPDATE WITH 15% VA...            3.9   \n",
       "\n",
       "     num_seller_ratings  \n",
       "0                 98.1K  \n",
       "1                 98.1K  \n",
       "2                 98.1K  \n",
       "3                 98.1K  \n",
       "4                 98.1K  \n",
       "...                 ...  \n",
       "987                   5  \n",
       "995                  75  \n",
       "997                 124  \n",
       "999               98.1K  \n",
       "1001                  5  \n",
       "\n",
       "[903 rows x 14 columns]"
      ]
     },
     "execution_count": 2,
     "metadata": {},
     "output_type": "execute_result"
    }
   ],
   "source": [
    "df = pd.read_csv(\"data/noon_perfumes_dataset.csv\", index_col=0)\n",
    "df = df.drop_duplicates()\n",
    "df"
   ]
  },
  {
   "cell_type": "code",
   "execution_count": 3,
   "metadata": {},
   "outputs": [
    {
     "data": {
      "text/html": [
       "<div>\n",
       "<style scoped>\n",
       "    .dataframe tbody tr th:only-of-type {\n",
       "        vertical-align: middle;\n",
       "    }\n",
       "\n",
       "    .dataframe tbody tr th {\n",
       "        vertical-align: top;\n",
       "    }\n",
       "\n",
       "    .dataframe thead th {\n",
       "        text-align: right;\n",
       "    }\n",
       "</style>\n",
       "<table border=\"1\" class=\"dataframe\">\n",
       "  <thead>\n",
       "    <tr style=\"text-align: right;\">\n",
       "      <th></th>\n",
       "      <th>brand</th>\n",
       "      <th>name</th>\n",
       "      <th>old_price</th>\n",
       "      <th>new_price</th>\n",
       "      <th>ml</th>\n",
       "      <th>concentration</th>\n",
       "      <th>department</th>\n",
       "      <th>scents</th>\n",
       "      <th>base_note</th>\n",
       "      <th>middle_note</th>\n",
       "      <th>item_rating</th>\n",
       "      <th>seller</th>\n",
       "      <th>seller_rating</th>\n",
       "      <th>num_seller_ratings</th>\n",
       "    </tr>\n",
       "  </thead>\n",
       "  <tbody>\n",
       "  </tbody>\n",
       "</table>\n",
       "</div>"
      ],
      "text/plain": [
       "Empty DataFrame\n",
       "Columns: [brand, name, old_price, new_price, ml, concentration, department, scents, base_note, middle_note, item_rating, seller, seller_rating, num_seller_ratings]\n",
       "Index: []"
      ]
     },
     "execution_count": 3,
     "metadata": {},
     "output_type": "execute_result"
    }
   ],
   "source": [
    "df.loc[df['base_note'].isin(['Accord'])]"
   ]
  },
  {
   "cell_type": "markdown",
   "metadata": {},
   "source": [
    "## Supervised Learning"
   ]
  },
  {
   "cell_type": "markdown",
   "metadata": {},
   "source": [
    "#### Predicting gender M/F based on base notes, middle notes and scent"
   ]
  },
  {
   "cell_type": "code",
   "execution_count": 44,
   "metadata": {},
   "outputs": [],
   "source": [
    "df = df[(df[\"department\"] != \"Kids Unisex\")]\n",
    "df = df[(df[\"department\"] != \"Unisex\")]  #We remove kids and unisex because they are small in relation to M/W\n",
    "#Labels\n",
    "gender = df[\"department\"].values\n",
    "#Features\n",
    "base_note = df[\"base_note\"].values\n",
    "middle_note = df[\"middle_note\"].values\n",
    "scents = df[\"scents\"].values"
   ]
  },
  {
   "cell_type": "code",
   "execution_count": null,
   "metadata": {},
   "outputs": [],
   "source": []
  },
  {
   "cell_type": "code",
   "execution_count": 45,
   "metadata": {},
   "outputs": [
    {
     "data": {
      "text/plain": [
       "318"
      ]
     },
     "execution_count": 45,
     "metadata": {},
     "output_type": "execute_result"
    }
   ],
   "source": [
    "vectorizer = CountVectorizer(stop_words = ['note', 'notes', 'and', 'with', 'of', 'by', 'ectract', 'co', 'essence', 'masculine'])\n",
    "X1 = vectorizer.fit_transform(base_note)\n",
    "len(vectorizer.get_feature_names_out())\n"
   ]
  },
  {
   "cell_type": "markdown",
   "metadata": {},
   "source": [
    "We have 'muscs', 'musk', 'musks', 'musky' which we want to treat the same, therefore we will preprocess some more use stemming provided by NLTK plus some a priori replacement"
   ]
  },
  {
   "cell_type": "code",
   "execution_count": 46,
   "metadata": {},
   "outputs": [],
   "source": [
    "from nltk.stem import SnowballStemmer\n",
    "\n",
    "stemmer = SnowballStemmer('english')\n",
    "def replace(t):\n",
    "\n",
    "    if \"amber\" in t:\n",
    "        t = \"amber\"\n",
    "    if \"cash\" in t:\n",
    "        t = \"cashmere\"\n",
    "    if \"flo\" in t:\n",
    "        t = \"floral\"\n",
    "    if \"ced\" in t:\n",
    "        t = \"cedar\"\n",
    "    if \"mu\" in t:\n",
    "        t = \"musk\"\n",
    "    if \"leather\" in t:\n",
    "        t = \"leather\"\n",
    "    if \"lil\" in t:\n",
    "        t = \"lily\"\n",
    "    if \"lacton\" in t:\n",
    "        t = \"lacton\"\n",
    "    if \"labda\" in t:\n",
    "        t = \"labdanum\"\n",
    "    if \"patch\" in t:\n",
    "        t = \"patchouli\"\n",
    "    if \"vanil\" in t:\n",
    "        t = \"vanilla\"\n",
    "    if \"oud\" in t:\n",
    "        t = \"oud\"\n",
    "    if \"oliv\" in t:\n",
    "        t = \"olive\"\n",
    "    if \"sand\" in t:\n",
    "        t = \"sandalwood\"\n",
    "    if \"wood\" in t[:4]:\n",
    "        t = \"wood\"\n",
    "\n",
    "    return t\n",
    "            \n",
    "class StemmedCountVectorizer(CountVectorizer):\n",
    "    \n",
    "     def build_analyzer(self):\n",
    "        analyzer = super(StemmedCountVectorizer, self).build_analyzer()\n",
    "        return lambda doc: ([stemmer.stem(replace(w)) for w in analyzer(doc)])\n",
    "    \n",
    "#    def build_tokenizer(self):\n",
    "#        tokenize = super().build_tokenizer()\n",
    "#        return lambda doc: list(replace(tokenize(doc)))\n",
    "\n",
    "class ReplaceCountVectorizer(CountVectorizer):\n",
    "    \n",
    "     def build_analyzer(self):\n",
    "        analyzer = super(ReplaceCountVectorizer, self).build_analyzer()\n",
    "        return lambda doc: ([replace(w) for w in analyzer(doc)])\n",
    "    "
   ]
  },
  {
   "cell_type": "code",
   "execution_count": 47,
   "metadata": {},
   "outputs": [],
   "source": [
    "vect_base = StemmedCountVectorizer(stop_words = ['note', 'notes', 'and', 'with', 'of', 'by', 'ectract', 'co', 'essence', 'masculine'])\n",
    "vect_middle = StemmedCountVectorizer(stop_words = ['note', 'notes', 'and', 'with', 'of', 'by', 'ectract', 'co', 'essence', 'masculine'])\n",
    "vect_scents = StemmedCountVectorizer(stop_words = ['and'])\n",
    "\n",
    "X1 = vect_base.fit_transform(base_note)\n",
    "X2 = vect_middle.fit_transform(middle_note)\n",
    "X3 = vect_scents.fit_transform(scents)"
   ]
  },
  {
   "cell_type": "code",
   "execution_count": 166,
   "metadata": {},
   "outputs": [],
   "source": [
    "random.state = 43\n",
    "\n",
    "X_comb = np.hstack((X1.toarray(), X2.toarray(), X3.toarray()))\n",
    "nb = BernoulliNB()\n",
    "p = Perceptron()\n",
    "mlp = MLPClassifier(max_iter = 500, solver = 'lbfgs')\n",
    "rf = RandomForestClassifier(n_estimators = 500)\n",
    "knn = KNeighborsClassifier(metric='jaccard', n_neighbors=1)\n",
    "baseline = DummyClassifier(strategy='most_frequent')\n",
    "\n",
    "classifiers = {\"NB\": nb, \"P\": p, \"MLP\": mlp, \"RF\": rf, \"kNN\": knn, \"baseline\": baseline}"
   ]
  },
  {
   "cell_type": "markdown",
   "metadata": {},
   "source": [
    "### Base notes only"
   ]
  },
  {
   "cell_type": "code",
   "execution_count": 167,
   "metadata": {},
   "outputs": [],
   "source": [
    "base_scores = {}\n",
    "base_stdevs = {}\n",
    "for name, clf in classifiers.items():\n",
    "    scores = cross_val_score(clf,X1.toarray().astype('bool'), gender, cv=5)\n",
    "    mean = scores.mean()\n",
    "    std = stdev(scores)\n",
    "    base_scores[name] = mean\n",
    "    base_stdevs[name] = std"
   ]
  },
  {
   "cell_type": "code",
   "execution_count": 168,
   "metadata": {},
   "outputs": [
    {
     "data": {
      "text/plain": [
       "{'NB': 0.03276282882768297,\n",
       " 'P': 0.03686263007989446,\n",
       " 'MLP': 0.01380296784947761,\n",
       " 'RF': 0.032540953600416235,\n",
       " 'kNN': 0.02348451060074725,\n",
       " 'baseline': 0.002095231539804778}"
      ]
     },
     "execution_count": 168,
     "metadata": {},
     "output_type": "execute_result"
    }
   ],
   "source": [
    "base_stdevs"
   ]
  },
  {
   "cell_type": "markdown",
   "metadata": {},
   "source": [
    "#### Middle Notes"
   ]
  },
  {
   "cell_type": "code",
   "execution_count": 169,
   "metadata": {},
   "outputs": [
    {
     "name": "stdout",
     "output_type": "stream",
     "text": [
      "{'NB': 0.8657579599887292, 'P': 0.8325232459847844, 'MLP': 0.8527331642716259, 'RF': 0.8704987320371936, 'kNN': 0.8479853479853479, 'baseline': 0.535629754860524}\n"
     ]
    }
   ],
   "source": [
    "mid_scores = {}\n",
    "mid_stdevs = {}\n",
    "for name, clf in classifiers.items():\n",
    "    scores = cross_val_score(clf,X2.toarray().astype('bool'), gender, cv=5)\n",
    "    mean = scores.mean()\n",
    "    std = stdev(scores)\n",
    "    mid_scores[name] = mean\n",
    "    mid_stdevs[name] = std\n",
    "print(mid_scores)"
   ]
  },
  {
   "cell_type": "markdown",
   "metadata": {},
   "source": [
    "#### Scents"
   ]
  },
  {
   "cell_type": "code",
   "execution_count": 170,
   "metadata": {},
   "outputs": [
    {
     "name": "stdout",
     "output_type": "stream",
     "text": [
      "{'NB': 0.7755142293603832, 'P': 0.7529797125950972, 'MLP': 0.774323753169907, 'RF': 0.7755071851225697, 'kNN': 0.6875457875457875, 'baseline': 0.535629754860524}\n"
     ]
    }
   ],
   "source": [
    "scent_scores = {}\n",
    "scent_stdevs = {}\n",
    "for name, clf in classifiers.items():\n",
    "    scores = cross_val_score(clf,X3.toarray().astype('bool'), gender, cv=5)\n",
    "    mean = scores.mean()\n",
    "    std = stdev(scores)\n",
    "    scent_scores[name] = mean\n",
    "    scent_stdevs[name] = std\n",
    "print(scent_scores)"
   ]
  },
  {
   "cell_type": "markdown",
   "metadata": {
    "tags": []
   },
   "source": [
    "### All Features"
   ]
  },
  {
   "cell_type": "code",
   "execution_count": 171,
   "metadata": {},
   "outputs": [
    {
     "name": "stdout",
     "output_type": "stream",
     "text": [
      "{'NB': 0.9132995209918287, 'P': 0.8610312764158919, 'MLP': 0.8812411947027332, 'RF': 0.9014370245139476, 'kNN': 0.8574950690335307, 'baseline': 0.535629754860524}\n"
     ]
    }
   ],
   "source": [
    "comb_scores = {}\n",
    "comb_stdevs = {}\n",
    "for name, clf in classifiers.items():\n",
    "    scores = cross_val_score(clf,X_comb.astype('bool'), gender, cv=5)\n",
    "    mean = scores.mean()\n",
    "    std = stdev(scores)\n",
    "    comb_scores[name] = mean\n",
    "    comb_stdevs[name] = std\n",
    "print(comb_scores)"
   ]
  },
  {
   "cell_type": "code",
   "execution_count": 182,
   "metadata": {},
   "outputs": [],
   "source": [
    "def roundd(scoredict, n):\n",
    "    for k, v in scoredict.items():\n",
    "        scoredict[k] = round(v,n)\n",
    "    return scoredict"
   ]
  },
  {
   "cell_type": "code",
   "execution_count": 185,
   "metadata": {},
   "outputs": [
    {
     "data": {
      "text/html": [
       "<div>\n",
       "<style scoped>\n",
       "    .dataframe tbody tr th:only-of-type {\n",
       "        vertical-align: middle;\n",
       "    }\n",
       "\n",
       "    .dataframe tbody tr th {\n",
       "        vertical-align: top;\n",
       "    }\n",
       "\n",
       "    .dataframe thead th {\n",
       "        text-align: right;\n",
       "    }\n",
       "</style>\n",
       "<table border=\"1\" class=\"dataframe\">\n",
       "  <thead>\n",
       "    <tr style=\"text-align: right;\">\n",
       "      <th></th>\n",
       "      <th>NB</th>\n",
       "      <th>P</th>\n",
       "      <th>MLP</th>\n",
       "      <th>RF</th>\n",
       "      <th>kNN</th>\n",
       "      <th>baseline</th>\n",
       "    </tr>\n",
       "    <tr>\n",
       "      <th></th>\n",
       "      <th></th>\n",
       "      <th></th>\n",
       "      <th></th>\n",
       "      <th></th>\n",
       "      <th></th>\n",
       "      <th></th>\n",
       "    </tr>\n",
       "  </thead>\n",
       "  <tbody>\n",
       "    <tr>\n",
       "      <th>Base Notes</th>\n",
       "      <td>0.76</td>\n",
       "      <td>0.67</td>\n",
       "      <td>0.72</td>\n",
       "      <td>0.74</td>\n",
       "      <td>0.74</td>\n",
       "      <td>0.54</td>\n",
       "    </tr>\n",
       "    <tr>\n",
       "      <th>Middle Notes</th>\n",
       "      <td>0.87</td>\n",
       "      <td>0.83</td>\n",
       "      <td>0.85</td>\n",
       "      <td>0.87</td>\n",
       "      <td>0.85</td>\n",
       "      <td>0.54</td>\n",
       "    </tr>\n",
       "    <tr>\n",
       "      <th>Scents</th>\n",
       "      <td>0.78</td>\n",
       "      <td>0.75</td>\n",
       "      <td>0.77</td>\n",
       "      <td>0.78</td>\n",
       "      <td>0.69</td>\n",
       "      <td>0.54</td>\n",
       "    </tr>\n",
       "    <tr>\n",
       "      <th>Features Combined</th>\n",
       "      <td>0.91</td>\n",
       "      <td>0.86</td>\n",
       "      <td>0.88</td>\n",
       "      <td>0.90</td>\n",
       "      <td>0.86</td>\n",
       "      <td>0.54</td>\n",
       "    </tr>\n",
       "  </tbody>\n",
       "</table>\n",
       "</div>"
      ],
      "text/plain": [
       "                     NB     P   MLP    RF   kNN  baseline\n",
       "                                                         \n",
       "Base Notes         0.76  0.67  0.72  0.74  0.74      0.54\n",
       "Middle Notes       0.87  0.83  0.85  0.87  0.85      0.54\n",
       "Scents             0.78  0.75  0.77  0.78  0.69      0.54\n",
       "Features Combined  0.91  0.86  0.88  0.90  0.86      0.54"
      ]
     },
     "execution_count": 185,
     "metadata": {},
     "output_type": "execute_result"
    }
   ],
   "source": [
    "base_scores = roundd(base_scores,2)\n",
    "mid_scores = roundd(mid_scores,2)\n",
    "scent_scores = roundd(scent_scores,2)\n",
    "comb_scores = roundd(comb_scores,2)\n",
    "\n",
    "rows_list = [base_scores, mid_scores, scent_scores, comb_scores]\n",
    "res = pd.DataFrame(rows_list)\n",
    "res[\" \"] = [\"Base Notes\", \"Middle Notes\", \"Scents\", \"Features Combined\"]\n",
    "res = res.set_index([\" \"])\n",
    "res"
   ]
  },
  {
   "cell_type": "code",
   "execution_count": 186,
   "metadata": {},
   "outputs": [],
   "source": [
    "res.to_csv(\"table1.csv\")"
   ]
  },
  {
   "cell_type": "code",
   "execution_count": 187,
   "metadata": {},
   "outputs": [
    {
     "data": {
      "text/html": [
       "<div>\n",
       "<style scoped>\n",
       "    .dataframe tbody tr th:only-of-type {\n",
       "        vertical-align: middle;\n",
       "    }\n",
       "\n",
       "    .dataframe tbody tr th {\n",
       "        vertical-align: top;\n",
       "    }\n",
       "\n",
       "    .dataframe thead th {\n",
       "        text-align: right;\n",
       "    }\n",
       "</style>\n",
       "<table border=\"1\" class=\"dataframe\">\n",
       "  <thead>\n",
       "    <tr style=\"text-align: right;\">\n",
       "      <th></th>\n",
       "      <th>NB</th>\n",
       "      <th>P</th>\n",
       "      <th>MLP</th>\n",
       "      <th>RF</th>\n",
       "      <th>kNN</th>\n",
       "      <th>baseline</th>\n",
       "    </tr>\n",
       "    <tr>\n",
       "      <th></th>\n",
       "      <th></th>\n",
       "      <th></th>\n",
       "      <th></th>\n",
       "      <th></th>\n",
       "      <th></th>\n",
       "      <th></th>\n",
       "    </tr>\n",
       "  </thead>\n",
       "  <tbody>\n",
       "    <tr>\n",
       "      <th>Base Notes</th>\n",
       "      <td>0.76</td>\n",
       "      <td>0.67</td>\n",
       "      <td>0.72</td>\n",
       "      <td>0.74</td>\n",
       "      <td>0.74</td>\n",
       "      <td>0.54</td>\n",
       "    </tr>\n",
       "    <tr>\n",
       "      <th>Middle Notes</th>\n",
       "      <td>0.87</td>\n",
       "      <td>0.83</td>\n",
       "      <td>0.85</td>\n",
       "      <td>0.87</td>\n",
       "      <td>0.85</td>\n",
       "      <td>0.54</td>\n",
       "    </tr>\n",
       "    <tr>\n",
       "      <th>Scents</th>\n",
       "      <td>0.78</td>\n",
       "      <td>0.75</td>\n",
       "      <td>0.77</td>\n",
       "      <td>0.78</td>\n",
       "      <td>0.69</td>\n",
       "      <td>0.54</td>\n",
       "    </tr>\n",
       "    <tr>\n",
       "      <th>Features Combined</th>\n",
       "      <td>0.91</td>\n",
       "      <td>0.86</td>\n",
       "      <td>0.88</td>\n",
       "      <td>0.90</td>\n",
       "      <td>0.86</td>\n",
       "      <td>0.54</td>\n",
       "    </tr>\n",
       "  </tbody>\n",
       "</table>\n",
       "</div>"
      ],
      "text/plain": [
       "                     NB     P   MLP    RF   kNN  baseline\n",
       "                                                         \n",
       "Base Notes         0.76  0.67  0.72  0.74  0.74      0.54\n",
       "Middle Notes       0.87  0.83  0.85  0.87  0.85      0.54\n",
       "Scents             0.78  0.75  0.77  0.78  0.69      0.54\n",
       "Features Combined  0.91  0.86  0.88  0.90  0.86      0.54"
      ]
     },
     "execution_count": 187,
     "metadata": {},
     "output_type": "execute_result"
    }
   ],
   "source": [
    "res"
   ]
  },
  {
   "cell_type": "code",
   "execution_count": 177,
   "metadata": {},
   "outputs": [
    {
     "data": {
      "text/plain": [
       "{'NB': 0.756,\n",
       " 'P': 0.673,\n",
       " 'MLP': 0.716,\n",
       " 'RF': 0.738,\n",
       " 'kNN': 0.735,\n",
       " 'baseline': 0.536}"
      ]
     },
     "execution_count": 177,
     "metadata": {},
     "output_type": "execute_result"
    }
   ],
   "source": [
    "base_scores_rounded = roundd(base_scores)\n",
    "base_scores_rounded"
   ]
  },
  {
   "cell_type": "code",
   "execution_count": 144,
   "metadata": {},
   "outputs": [
    {
     "data": {
      "text/plain": [
       "Index(['nb', 'p', 'mlp', 'rf', 'knn'], dtype='object')"
      ]
     },
     "execution_count": 144,
     "metadata": {},
     "output_type": "execute_result"
    }
   ],
   "source": [
    "res.columns[:5]\n"
   ]
  },
  {
   "cell_type": "code",
   "execution_count": null,
   "metadata": {},
   "outputs": [],
   "source": []
  },
  {
   "cell_type": "code",
   "execution_count": 132,
   "metadata": {},
   "outputs": [
    {
     "data": {
      "text/html": [
       "<div>\n",
       "<style scoped>\n",
       "    .dataframe tbody tr th:only-of-type {\n",
       "        vertical-align: middle;\n",
       "    }\n",
       "\n",
       "    .dataframe tbody tr th {\n",
       "        vertical-align: top;\n",
       "    }\n",
       "\n",
       "    .dataframe thead th {\n",
       "        text-align: right;\n",
       "    }\n",
       "</style>\n",
       "<table border=\"1\" class=\"dataframe\">\n",
       "  <thead>\n",
       "    <tr style=\"text-align: right;\">\n",
       "      <th></th>\n",
       "      <th>nb</th>\n",
       "      <th>p</th>\n",
       "      <th>mlp</th>\n",
       "      <th>rf</th>\n",
       "      <th>knn</th>\n",
       "      <th>baseline</th>\n",
       "      <th>Features</th>\n",
       "    </tr>\n",
       "  </thead>\n",
       "  <tbody>\n",
       "    <tr>\n",
       "      <th>0</th>\n",
       "      <td>0.756474</td>\n",
       "      <td>0.673429</td>\n",
       "      <td>0.737518</td>\n",
       "      <td>0.748176</td>\n",
       "      <td>0.735165</td>\n",
       "      <td>0.53563</td>\n",
       "      <td>Base Notes</td>\n",
       "    </tr>\n",
       "    <tr>\n",
       "      <th>1</th>\n",
       "      <td>0.865758</td>\n",
       "      <td>0.832523</td>\n",
       "      <td>0.853874</td>\n",
       "      <td>0.875268</td>\n",
       "      <td>0.847985</td>\n",
       "      <td>0.53563</td>\n",
       "      <td>Middle Notes</td>\n",
       "    </tr>\n",
       "    <tr>\n",
       "      <th>2</th>\n",
       "      <td>0.913300</td>\n",
       "      <td>0.861031</td>\n",
       "      <td>0.887165</td>\n",
       "      <td>0.899056</td>\n",
       "      <td>0.857495</td>\n",
       "      <td>0.53563</td>\n",
       "      <td>Features Combined</td>\n",
       "    </tr>\n",
       "  </tbody>\n",
       "</table>\n",
       "</div>"
      ],
      "text/plain": [
       "         nb         p       mlp        rf       knn  baseline  \\\n",
       "0  0.756474  0.673429  0.737518  0.748176  0.735165   0.53563   \n",
       "1  0.865758  0.832523  0.853874  0.875268  0.847985   0.53563   \n",
       "2  0.913300  0.861031  0.887165  0.899056  0.857495   0.53563   \n",
       "\n",
       "            Features  \n",
       "0         Base Notes  \n",
       "1       Middle Notes  \n",
       "2  Features Combined  "
      ]
     },
     "execution_count": 132,
     "metadata": {},
     "output_type": "execute_result"
    }
   ],
   "source": [
    "res"
   ]
  },
  {
   "cell_type": "code",
   "execution_count": 126,
   "metadata": {},
   "outputs": [
    {
     "ename": "ValueError",
     "evalue": "Must have equal len keys and value when setting with an iterable",
     "output_type": "error",
     "traceback": [
      "\u001b[0;31m---------------------------------------------------------------------------\u001b[0m",
      "\u001b[0;31mValueError\u001b[0m                                Traceback (most recent call last)",
      "\u001b[0;32m/var/folders/34/fn22ssxs7kj5cs5rw14127h40000gn/T/ipykernel_14895/388732590.py\u001b[0m in \u001b[0;36m<module>\u001b[0;34m\u001b[0m\n\u001b[1;32m      1\u001b[0m \u001b[0mres\u001b[0m \u001b[0;34m=\u001b[0m \u001b[0mpd\u001b[0m\u001b[0;34m.\u001b[0m\u001b[0mDataFrame\u001b[0m\u001b[0;34m(\u001b[0m\u001b[0mcolumns\u001b[0m\u001b[0;34m=\u001b[0m\u001b[0;34m(\u001b[0m\u001b[0;34m' '\u001b[0m\u001b[0;34m,\u001b[0m \u001b[0;34m'NB'\u001b[0m\u001b[0;34m,\u001b[0m \u001b[0;34m'P'\u001b[0m\u001b[0;34m,\u001b[0m \u001b[0;34m'MLP'\u001b[0m\u001b[0;34m,\u001b[0m \u001b[0;34m'RF'\u001b[0m\u001b[0;34m,\u001b[0m \u001b[0;34m'knn'\u001b[0m \u001b[0;34m'baseline'\u001b[0m\u001b[0;34m)\u001b[0m\u001b[0;34m)\u001b[0m\u001b[0;34m\u001b[0m\u001b[0;34m\u001b[0m\u001b[0m\n\u001b[0;32m----> 2\u001b[0;31m \u001b[0mdf\u001b[0m\u001b[0;34m.\u001b[0m\u001b[0mloc\u001b[0m\u001b[0;34m[\u001b[0m\u001b[0;36m0\u001b[0m\u001b[0;34m]\u001b[0m \u001b[0;34m=\u001b[0m \u001b[0;34m[\u001b[0m\u001b[0;34m'Base Notes'\u001b[0m\u001b[0;34m]\u001b[0m \u001b[0;34m+\u001b[0m \u001b[0;34m[\u001b[0m\u001b[0mround\u001b[0m\u001b[0;34m(\u001b[0m\u001b[0mv\u001b[0m\u001b[0;34m,\u001b[0m \u001b[0;36m2\u001b[0m\u001b[0;34m)\u001b[0m \u001b[0;32mfor\u001b[0m \u001b[0mv\u001b[0m \u001b[0;32min\u001b[0m \u001b[0mbase_scores\u001b[0m\u001b[0;34m.\u001b[0m\u001b[0mvalues\u001b[0m\u001b[0;34m(\u001b[0m\u001b[0;34m)\u001b[0m\u001b[0;34m]\u001b[0m\u001b[0;34m\u001b[0m\u001b[0;34m\u001b[0m\u001b[0m\n\u001b[0m",
      "\u001b[0;32m~/opt/anaconda3/lib/python3.8/site-packages/pandas/core/indexing.py\u001b[0m in \u001b[0;36m__setitem__\u001b[0;34m(self, key, value)\u001b[0m\n\u001b[1;32m    721\u001b[0m \u001b[0;34m\u001b[0m\u001b[0m\n\u001b[1;32m    722\u001b[0m         \u001b[0miloc\u001b[0m \u001b[0;34m=\u001b[0m \u001b[0mself\u001b[0m \u001b[0;32mif\u001b[0m \u001b[0mself\u001b[0m\u001b[0;34m.\u001b[0m\u001b[0mname\u001b[0m \u001b[0;34m==\u001b[0m \u001b[0;34m\"iloc\"\u001b[0m \u001b[0;32melse\u001b[0m \u001b[0mself\u001b[0m\u001b[0;34m.\u001b[0m\u001b[0mobj\u001b[0m\u001b[0;34m.\u001b[0m\u001b[0miloc\u001b[0m\u001b[0;34m\u001b[0m\u001b[0;34m\u001b[0m\u001b[0m\n\u001b[0;32m--> 723\u001b[0;31m         \u001b[0miloc\u001b[0m\u001b[0;34m.\u001b[0m\u001b[0m_setitem_with_indexer\u001b[0m\u001b[0;34m(\u001b[0m\u001b[0mindexer\u001b[0m\u001b[0;34m,\u001b[0m \u001b[0mvalue\u001b[0m\u001b[0;34m,\u001b[0m \u001b[0mself\u001b[0m\u001b[0;34m.\u001b[0m\u001b[0mname\u001b[0m\u001b[0;34m)\u001b[0m\u001b[0;34m\u001b[0m\u001b[0;34m\u001b[0m\u001b[0m\n\u001b[0m\u001b[1;32m    724\u001b[0m \u001b[0;34m\u001b[0m\u001b[0m\n\u001b[1;32m    725\u001b[0m     \u001b[0;32mdef\u001b[0m \u001b[0m_validate_key\u001b[0m\u001b[0;34m(\u001b[0m\u001b[0mself\u001b[0m\u001b[0;34m,\u001b[0m \u001b[0mkey\u001b[0m\u001b[0;34m,\u001b[0m \u001b[0maxis\u001b[0m\u001b[0;34m:\u001b[0m \u001b[0mint\u001b[0m\u001b[0;34m)\u001b[0m\u001b[0;34m:\u001b[0m\u001b[0;34m\u001b[0m\u001b[0;34m\u001b[0m\u001b[0m\n",
      "\u001b[0;32m~/opt/anaconda3/lib/python3.8/site-packages/pandas/core/indexing.py\u001b[0m in \u001b[0;36m_setitem_with_indexer\u001b[0;34m(self, indexer, value, name)\u001b[0m\n\u001b[1;32m   1728\u001b[0m         \u001b[0;32mif\u001b[0m \u001b[0mtake_split_path\u001b[0m\u001b[0;34m:\u001b[0m\u001b[0;34m\u001b[0m\u001b[0;34m\u001b[0m\u001b[0m\n\u001b[1;32m   1729\u001b[0m             \u001b[0;31m# We have to operate column-wise\u001b[0m\u001b[0;34m\u001b[0m\u001b[0;34m\u001b[0m\u001b[0;34m\u001b[0m\u001b[0m\n\u001b[0;32m-> 1730\u001b[0;31m             \u001b[0mself\u001b[0m\u001b[0;34m.\u001b[0m\u001b[0m_setitem_with_indexer_split_path\u001b[0m\u001b[0;34m(\u001b[0m\u001b[0mindexer\u001b[0m\u001b[0;34m,\u001b[0m \u001b[0mvalue\u001b[0m\u001b[0;34m,\u001b[0m \u001b[0mname\u001b[0m\u001b[0;34m)\u001b[0m\u001b[0;34m\u001b[0m\u001b[0;34m\u001b[0m\u001b[0m\n\u001b[0m\u001b[1;32m   1731\u001b[0m         \u001b[0;32melse\u001b[0m\u001b[0;34m:\u001b[0m\u001b[0;34m\u001b[0m\u001b[0;34m\u001b[0m\u001b[0m\n\u001b[1;32m   1732\u001b[0m             \u001b[0mself\u001b[0m\u001b[0;34m.\u001b[0m\u001b[0m_setitem_single_block\u001b[0m\u001b[0;34m(\u001b[0m\u001b[0mindexer\u001b[0m\u001b[0;34m,\u001b[0m \u001b[0mvalue\u001b[0m\u001b[0;34m,\u001b[0m \u001b[0mname\u001b[0m\u001b[0;34m)\u001b[0m\u001b[0;34m\u001b[0m\u001b[0;34m\u001b[0m\u001b[0m\n",
      "\u001b[0;32m~/opt/anaconda3/lib/python3.8/site-packages/pandas/core/indexing.py\u001b[0m in \u001b[0;36m_setitem_with_indexer_split_path\u001b[0;34m(self, indexer, value, name)\u001b[0m\n\u001b[1;32m   1806\u001b[0m \u001b[0;34m\u001b[0m\u001b[0m\n\u001b[1;32m   1807\u001b[0m             \u001b[0;32melse\u001b[0m\u001b[0;34m:\u001b[0m\u001b[0;34m\u001b[0m\u001b[0;34m\u001b[0m\u001b[0m\n\u001b[0;32m-> 1808\u001b[0;31m                 raise ValueError(\n\u001b[0m\u001b[1;32m   1809\u001b[0m                     \u001b[0;34m\"Must have equal len keys and value \"\u001b[0m\u001b[0;34m\u001b[0m\u001b[0;34m\u001b[0m\u001b[0m\n\u001b[1;32m   1810\u001b[0m                     \u001b[0;34m\"when setting with an iterable\"\u001b[0m\u001b[0;34m\u001b[0m\u001b[0;34m\u001b[0m\u001b[0m\n",
      "\u001b[0;31mValueError\u001b[0m: Must have equal len keys and value when setting with an iterable"
     ]
    }
   ],
   "source": [
    "res = pd.DataFrame(columns=(' ', 'NB', 'P', 'MLP', 'RF', 'knn' 'baseline'))\n",
    "df.loc[0] = ['Base Notes'] + [round(v, 2) for v in base_scores.values()]"
   ]
  },
  {
   "cell_type": "code",
   "execution_count": null,
   "metadata": {},
   "outputs": [],
   "source": [
    "NB_score = cross_val_score(clf,X_comb, gender, cv=5).mean()\n",
    "p_score = cross_val_score(p,X_comb, gender, cv=5).mean()\n",
    "rf_score = cross_val_score(rf,X_comb, gender, cv=5).mean()\n",
    "\n"
   ]
  },
  {
   "cell_type": "code",
   "execution_count": 76,
   "metadata": {},
   "outputs": [
    {
     "data": {
      "text/plain": [
       "<BarContainer object of 3 artists>"
      ]
     },
     "execution_count": 76,
     "metadata": {},
     "output_type": "execute_result"
    },
    {
     "data": {
      "image/png": "[encoded data removed]",
      "text/plain": [
       "<Figure size 576x396 with 1 Axes>"
      ]
     },
     "metadata": {},
     "output_type": "display_data"
    }
   ],
   "source": [
    "plt.bar([\"Bernoulli NB\", \"Perceptron\", \"Random Forest\"], [NB_score,p_score,rf_score])"
   ]
  },
  {
   "cell_type": "code",
   "execution_count": null,
   "metadata": {},
   "outputs": [],
   "source": []
  },
  {
   "cell_type": "markdown",
   "metadata": {
    "tags": []
   },
   "source": [
    "## Plotting "
   ]
  },
  {
   "cell_type": "code",
   "execution_count": 61,
   "metadata": {},
   "outputs": [],
   "source": [
    "# We will include the top 40 notes for base and middle\n",
    "vect_base = ReplaceCountVectorizer(max_features = 40, stop_words = ['accord', 'accords', 'note', 'notes', 'and', 'with', 'of', 'by', 'ectract', 'co', 'essence', 'masculine'])\n",
    "vect_middle = ReplaceCountVectorizer(min_df = 10, max_features = 40, stop_words = ['of', 'the', 'valley', 'note', 'notes', 'and', 'with', 'ectract', 'co', 'essence', 'masculine'])\n",
    "vect_scents = StemmedCountVectorizer(stop_words = ['note', 'notes', 'and', 'with', 'of', 'by', 'ectract', 'co', 'essence', 'masculine'])\n",
    "\n",
    "X1 = vect_base.fit_transform(base_note)\n",
    "X2 = vect_middle.fit_transform(middle_note)\n",
    "X3 = vect_scents.fit_transform(scents)"
   ]
  },
  {
   "cell_type": "code",
   "execution_count": 62,
   "metadata": {},
   "outputs": [],
   "source": [
    "#gender = df[\"department\"].apply(lambda y: 'Men' if y == 'Unisex' else y)\n",
    "df = df[df.department != \"Unisex\"]\n",
    "\n",
    "\n",
    "scent_names = vect_scents.get_feature_names_out()\n",
    "base_names = vect_base.get_feature_names_out()\n",
    "middle_names = vect_middle.get_feature_names_out()\n",
    "\n",
    "scent_df = pd.DataFrame(X3.todense(), columns = scent_names)\n",
    "base_df = pd.DataFrame(X1.todense(), columns = base_names)\n",
    "middle_df = pd.DataFrame(X2.todense(), columns = middle_names)\n",
    "\n",
    "mlb = LabelEncoder()\n",
    "\n",
    "scent_df['gender'] = mlb.fit_transform(gender)\n",
    "base_df['gender'] = scent_df['gender']\n",
    "middle_df['gender'] = scent_df['gender']\n",
    "\n"
   ]
  },
  {
   "cell_type": "code",
   "execution_count": 63,
   "metadata": {},
   "outputs": [
    {
     "data": {
      "text/plain": [
       "0        Men\n",
       "1      Women\n",
       "3        Men\n",
       "4      Women\n",
       "5      Women\n",
       "       ...  \n",
       "985      Men\n",
       "987      Men\n",
       "995    Women\n",
       "997    Women\n",
       "999    Women\n",
       "Name: department, Length: 842, dtype: object"
      ]
     },
     "execution_count": 63,
     "metadata": {},
     "output_type": "execute_result"
    }
   ],
   "source": [
    "df[\"department\"]"
   ]
  },
  {
   "cell_type": "markdown",
   "metadata": {},
   "source": [
    "#### Scents Scatterplot: Correlation with gender (X) and Frequency (Y) "
   ]
  },
  {
   "cell_type": "code",
   "execution_count": 64,
   "metadata": {},
   "outputs": [
    {
     "data": {
      "image/png": "[encoded data removed]",
      "text/plain": [
       "<Figure size 640x480 with 1 Axes>"
      ]
     },
     "metadata": {},
     "output_type": "display_data"
    }
   ],
   "source": [
    "X = scent_df.corr().iloc[-1][:-1]\n",
    "Y = sum(X3.toarray())\n",
    "\n",
    "plt.style.use('seaborn')\n",
    "plt.figure(figsize=(8, 6), dpi=80)\n",
    "plt.scatter(X,Y, s =0)\n",
    "for i, d in enumerate(zip(X,Y)):\n",
    "    plt.annotate(scent_names[i], d, ha='center', va='center')"
   ]
  },
  {
   "cell_type": "code",
   "execution_count": null,
   "metadata": {},
   "outputs": [],
   "source": []
  },
  {
   "cell_type": "markdown",
   "metadata": {},
   "source": [
    "#### BASE Notes Scatterplot: Correlation with gender (X) and Average Price (Among perfumes where note is present) (Y) "
   ]
  },
  {
   "cell_type": "markdown",
   "metadata": {},
   "source": [
    "Calculating mean price for top 40 base notes across perfumes"
   ]
  },
  {
   "cell_type": "code",
   "execution_count": 65,
   "metadata": {},
   "outputs": [],
   "source": [
    "df['price_ml'] = df['new_price'] / df['ml']\n",
    "mean_prices = []\n",
    "for note in base_names:\n",
    "    mean = df.price_ml[df['base_note'].str.contains(note, case=False)].mean()\n",
    "    mean_prices.append(mean)"
   ]
  },
  {
   "cell_type": "code",
   "execution_count": 66,
   "metadata": {},
   "outputs": [
    {
     "data": {
      "image/png": "[encoded data removed]",
      "text/plain": [
       "<Figure size 1280x960 with 1 Axes>"
      ]
     },
     "metadata": {},
     "output_type": "display_data"
    }
   ],
   "source": [
    "X = base_df.corr().iloc[-1][:-1] # Correlation between base notes and gender M/F\n",
    "Y = mean_prices # Mean price for each\n",
    "Z = sum(X1.toarray())\n",
    "plt.style.use('seaborn')\n",
    "plt.figure(figsize=(16, 12), dpi=80)\n",
    "plt.scatter(X,Y, s =0)\n",
    "for i, d in enumerate(zip(X,Y)):\n",
    "    plt.annotate(base_names[i], d, ha='center', va='center',fontsize = Z[i]/23 + 10) # Fontsize needs to be scaled, I thought this was optimal to keep everything readable\n"
   ]
  },
  {
   "cell_type": "markdown",
   "metadata": {},
   "source": [
    "As we can see, manly-man notes such as 'leather', 'cedar' and 'tobacco' are to the left and girly-girl notes such as 'praline', 'caramel', 'rose' and 'vanilla' are to the right"
   ]
  },
  {
   "cell_type": "markdown",
   "metadata": {},
   "source": [
    "#### MIDDLE Notes Scatterplot: Correlation with gender (X) and Average Price (Among perfumes where note is present) (Y) "
   ]
  },
  {
   "cell_type": "markdown",
   "metadata": {},
   "source": [
    "Middle Notes, mean price"
   ]
  },
  {
   "cell_type": "code",
   "execution_count": 67,
   "metadata": {},
   "outputs": [],
   "source": [
    "mean_prices_middle = []\n",
    "for note in middle_names:\n",
    "    mean = df.price_ml[df['middle_note'].str.contains(note, case=False)].mean()\n",
    "    mean_prices_middle.append(mean)"
   ]
  },
  {
   "cell_type": "code",
   "execution_count": 68,
   "metadata": {},
   "outputs": [
    {
     "data": {
      "text/plain": [
       "(40, 40)"
      ]
     },
     "execution_count": 68,
     "metadata": {},
     "output_type": "execute_result"
    }
   ],
   "source": [
    "len(mean_prices_middle), len(middle_names)"
   ]
  },
  {
   "cell_type": "code",
   "execution_count": 69,
   "metadata": {},
   "outputs": [
    {
     "data": {
      "text/plain": [
       "array(['apple', 'basil', 'black', 'blossom', 'bulgarian', 'cardamom',\n",
       "       'carnation', 'cedar', 'cinnamon', 'coriander', 'floral', 'freesia',\n",
       "       'gardenia', 'geranium', 'ginger', 'heliotrope', 'iris', 'jasmine',\n",
       "       'lavender', 'lily', 'magnolia', 'musk', 'nutmeg', 'orange',\n",
       "       'orchid', 'orris', 'patchouli', 'peach', 'peony', 'pepper', 'pink',\n",
       "       'rose', 'sage', 'sandalwood', 'tuberose', 'vanilla', 'vetiver',\n",
       "       'violet', 'wood', 'ylang'], dtype=object)"
      ]
     },
     "execution_count": 69,
     "metadata": {},
     "output_type": "execute_result"
    }
   ],
   "source": [
    "middle_names"
   ]
  },
  {
   "cell_type": "code",
   "execution_count": 70,
   "metadata": {},
   "outputs": [
    {
     "data": {
      "image/png": "[encoded data removed]",
      "text/plain": [
       "<Figure size 1280x960 with 1 Axes>"
      ]
     },
     "metadata": {},
     "output_type": "display_data"
    }
   ],
   "source": [
    "X = middle_df.corr().iloc[-1][:-1] # Correlation between middle notes and gender M/F\n",
    "Y = mean_prices_middle # Mean price for each\n",
    "Z = sum(X2.toarray()) #Frequency (will be mapped to font size)\n",
    "plt.style.use('seaborn')\n",
    "plt.figure(figsize=(16, 12), dpi=80)\n",
    "plt.scatter(X,Y, s =0)\n",
    "for i, d in enumerate(zip(X,Y)):\n",
    "    plt.annotate(middle_names[i], d, ha='center', va='center',fontsize = Z[i]/20 + 10) # Fontsize needs to be scaled, I thought this was optimal to keep everything readable"
   ]
  },
  {
   "cell_type": "code",
   "execution_count": 71,
   "metadata": {},
   "outputs": [
    {
     "data": {
      "text/plain": [
       "(902, 40)"
      ]
     },
     "execution_count": 71,
     "metadata": {},
     "output_type": "execute_result"
    }
   ],
   "source": [
    "X1.toarray().shape"
   ]
  },
  {
   "cell_type": "code",
   "execution_count": 32,
   "metadata": {},
   "outputs": [
    {
     "data": {
      "text/plain": [
       "{'agarwood': 13,\n",
       " 'amber': 362,\n",
       " 'ambroxan': 19,\n",
       " 'bean': 105,\n",
       " 'beans': 29,\n",
       " 'benzoin': 53,\n",
       " 'caramel': 20,\n",
       " 'cashmere': 65,\n",
       " 'cedar': 234,\n",
       " 'cypress': 11,\n",
       " 'fir': 12,\n",
       " 'guaiac': 23,\n",
       " 'honey': 12,\n",
       " 'incense': 25,\n",
       " 'iris': 12,\n",
       " 'jasmine': 14,\n",
       " 'labdanum': 30,\n",
       " 'leather': 62,\n",
       " 'lemon': 10,\n",
       " 'madagascar': 9,\n",
       " 'moss': 45,\n",
       " 'musk': 424,\n",
       " 'oak': 20,\n",
       " 'oakmoss': 79,\n",
       " 'oud': 12,\n",
       " 'patchouli': 258,\n",
       " 'praline': 15,\n",
       " 'rose': 17,\n",
       " 'rosewood': 11,\n",
       " 'sandalwood': 300,\n",
       " 'sensual': 10,\n",
       " 'suede': 20,\n",
       " 'tobacco': 18,\n",
       " 'tonka': 145,\n",
       " 'tree': 12,\n",
       " 'vanilla': 275,\n",
       " 'vetiver': 139,\n",
       " 'virginia': 19,\n",
       " 'white': 66,\n",
       " 'wood': 237}"
      ]
     },
     "execution_count": 32,
     "metadata": {},
     "output_type": "execute_result"
    }
   ],
   "source": [
    "dict(zip(vect_base.get_feature_names_out(),sum(X1.toarray())))"
   ]
  },
  {
   "cell_type": "code",
   "execution_count": null,
   "metadata": {},
   "outputs": [],
   "source": []
  },
  {
   "cell_type": "code",
   "execution_count": null,
   "metadata": {},
   "outputs": [],
   "source": []
  }
 ],
 "metadata": {
  "kernelspec": {
   "display_name": "Python 3 (ipykernel)",
   "language": "python",
   "name": "python3"
  },
  "language_info": {
   "codemirror_mode": {
    "name": "ipython",
    "version": 3
   },
   "file_extension": ".py",
   "mimetype": "text/x-python",
   "name": "python",
   "nbconvert_exporter": "python",
   "pygments_lexer": "ipython3",
   "version": "3.8.12"
  }
 },
 "nbformat": 4,
 "nbformat_minor": 4
}
